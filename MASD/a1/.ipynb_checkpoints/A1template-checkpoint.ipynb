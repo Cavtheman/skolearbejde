{
 "cells": [
  {
   "cell_type": "markdown",
   "metadata": {},
   "source": [
    "# This is the Jupyter notebook template for Assignment 1.\n",
    "\n",
    "We will be using Jupyter notebook extensively throughout MASD and MAD. In addition to serving as an assignment template, you can utilize this first assignment to get comfortable with them. \n",
    "\n",
    "A few tips:\n",
    "* You execute a cell by putting the cursor in it and pressing shift-enter\n",
    "* There are two main types of cells: Code and Markdown. \n",
    "   * Code cells contain code (surprise), which is executed when you press shift-enter\n",
    "   * Markdown cells contain comments, which are typeset when you press shift-enter\n",
    "   * You turn a code cell into markdown by putting the cursor in it and pressing esc+m. Turn it back into code by esc+y\n",
    "* For more keyboard shortcuts, check e.g.: https://gist.github.com/kidpixo/f4318f8c8143adee5b40\n",
    "* You can write LaTeXed comments in markdown"
   ]
  },
  {
   "cell_type": "markdown",
   "metadata": {},
   "source": [
    "First, we load the needed packages (feel free to add more if you need them)"
   ]
  },
  {
   "cell_type": "code",
   "execution_count": null,
   "metadata": {},
   "outputs": [],
   "source": [
    "%matplotlib inline\n",
    "# Allows viewing figures inline in the notebook\n",
    "import numpy as np\n",
    "# Numpy is a library for numerical computation\n",
    "import matplotlib.pyplot as plt\n",
    "# Matplotlib is a plotting library\n",
    "import matplotlib\n",
    "matplotlib.rcParams['figure.figsize'] = (20,8)\n",
    "# Sets larger size for viewed figures"
   ]
  },
  {
   "cell_type": "markdown",
   "metadata": {},
   "source": [
    "### Exercise 2\n",
    "Please use the cell below for the plot in Exercise 2i)"
   ]
  },
  {
   "cell_type": "code",
   "execution_count": null,
   "metadata": {},
   "outputs": [],
   "source": []
  },
  {
   "cell_type": "markdown",
   "metadata": {},
   "source": [
    "### Exercise 3\n",
    "Please use the cell below for your implementation of the ''test of convergence'' as well as your example sequence where it fails (feel free to add additional cells if you need them)."
   ]
  },
  {
   "cell_type": "code",
   "execution_count": null,
   "metadata": {},
   "outputs": [],
   "source": []
  }
 ],
 "metadata": {
  "kernelspec": {
   "display_name": "Python 3",
   "language": "python",
   "name": "python3"
  },
  "language_info": {
   "codemirror_mode": {
    "name": "ipython",
    "version": 3
   },
   "file_extension": ".py",
   "mimetype": "text/x-python",
   "name": "python",
   "nbconvert_exporter": "python",
   "pygments_lexer": "ipython3",
   "version": "3.7.0"
  }
 },
 "nbformat": 4,
 "nbformat_minor": 2
}
