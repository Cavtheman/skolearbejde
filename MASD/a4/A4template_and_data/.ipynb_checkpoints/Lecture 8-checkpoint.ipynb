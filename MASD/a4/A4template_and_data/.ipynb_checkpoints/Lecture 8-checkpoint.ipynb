{
 "cells": [
  {
   "cell_type": "markdown",
   "metadata": {},
   "source": [
    "# Jupyter notebook for Lecture 8: Linear algebra\n",
    "\n",
    "In this Jupyter notebook we will show some linear algebra examples"
   ]
  },
  {
   "cell_type": "code",
   "execution_count": null,
   "metadata": {},
   "outputs": [],
   "source": [
    "# Start by loading libraries\n",
    "# First, we load needed packages\n",
    "\n",
    "%matplotlib inline                             \n",
    "# Allows viewing figures inline in the notebook\n",
    "import numpy as np                             # Numpy is a library for numerical computation\n",
    "import matplotlib.pyplot as plt                # Matplotlib is a plotting library\n",
    "from matplotlib import cm                      # Import colormaps\n",
    "import matplotlib\n",
    "matplotlib.rcParams['figure.figsize'] = (20,8) # Makes the figures larger"
   ]
  },
  {
   "cell_type": "markdown",
   "metadata": {},
   "source": [
    "**Example 1:** Coordinates in a new basis.\n",
    "\n",
    "Let\n",
    "\n",
    "$\\mathbf{b}_1 = [\\frac{1}{\\sqrt{10}}, \\frac{3}{\\sqrt{10}}]^T$\n",
    "\n",
    "$\\mathbf{b}_2 = [-\\frac{3}{\\sqrt{10}}, \\frac{1}{\\sqrt{10}}]^T$\n",
    "\n",
    "We now compute the coordinates of the point $\\mathbf{p} = [-1,1]^T$ in the basis $\\{\\mathbf{b}_1, \\mathbf{b}_2\\}$:"
   ]
  },
  {
   "cell_type": "code",
   "execution_count": null,
   "metadata": {},
   "outputs": [],
   "source": [
    "# First, we plot the basis elements and the point p\n",
    "b1 = np.array([1, 3]/np.sqrt(10))\n",
    "b2 = np.array([-3,1]/np.sqrt(10))\n",
    "plt.plot([0, b1[0]], [0, b1[1]], label='First basis vector $\\mathbf{b}_1$')\n",
    "plt.plot([0, b2[0]], [0, b2[1]], label='Second basis vector $\\mathbf{b}_2$')\n",
    "plt.plot(-1,1,'o', label='$\\mathbf{p}$')\n",
    "\n",
    "# Next, we compute the coordinates of p in the new basis\n",
    "x = np.array([-1,1])\n",
    "coord1 = np.matrix.dot(x, b1)\n",
    "coord2 = np.matrix.dot(x, b2)\n",
    "print('First coordinate:', coord1)\n",
    "print('Second coordinate:', coord2)\n",
    "\n",
    "# Compute the projection of p onto each of the axes\n",
    "proj1 = coord1*b1\n",
    "proj2 = coord2*b2\n",
    "\n",
    "# Plot the axis projections\n",
    "plt.plot(proj1[0], proj1[1], 'o', label='$proj_1(\\mathbf{p})$')\n",
    "plt.plot(proj2[0], proj2[1], 'o', label='$proj_2(\\mathbf{p})$')\n",
    "\n",
    "plt.axis('equal')\n",
    "plt.legend()\n",
    "plt.title('Re-expression in new basis, and projection onto basis elements')"
   ]
  },
  {
   "cell_type": "markdown",
   "metadata": {},
   "source": [
    "**Example 2:** Matrix + basis = linear transformation\n",
    "\n",
    "We will investigate the behavior of linear transformations by letting them act on a point cloud:"
   ]
  },
  {
   "cell_type": "code",
   "execution_count": null,
   "metadata": {},
   "outputs": [],
   "source": [
    "###### NEXT FEW LINES OF CODE NOT CRUCIAL -- JUST SAMPLING AN EASY-TO-VISUALIZE SET OF POINTS ###########\n",
    "# sampling points; return 2*500 array\n",
    "points = np.random.multivariate_normal([0,0], [[1,0], [0,1]], 500).T\n",
    "# Setting colormap that depends on x axis\n",
    "colors = cm.cool((points[0,:]-np.min(points[0,:]))/(np.max(points[0,:]) - np.min(points[0,:]))) \n",
    "\n",
    "######### NON-CRUCIAL PART OVER #################\n",
    "# Plot the points with a distinctive color\n",
    "plt.scatter(points[0,:], points[1,:], c=colors)\n",
    "plt.axis('equal')"
   ]
  },
  {
   "cell_type": "markdown",
   "metadata": {},
   "source": [
    "First, we investigate the effect of changing the matrix. We study the two transformations\n",
    "\n",
    "$T_1 = \\begin{bmatrix} 1 & 2\\\\ 3 & 4 \\end{bmatrix}$, $T_1 = \\begin{bmatrix} 2 & 2\\\\ -2 & 1 \\end{bmatrix}$"
   ]
  },
  {
   "cell_type": "code",
   "execution_count": null,
   "metadata": {},
   "outputs": [],
   "source": [
    "# Define the matrices\n",
    "T1 = np.array([[1,2], [3,4]])\n",
    "T2 = np.array([[2,2], [-2,1]])\n",
    "\n",
    "# Apply the matrices to the points\n",
    "T1out = np.matmul(T1, points)\n",
    "T2out = np.matmul(T2, points)\n",
    "\n",
    "# Plot the output\n",
    "fig, ax = plt.subplots(1,3)               \n",
    "ax[0].scatter(points[0,:], points[1,:], c=colors)\n",
    "ax[1].scatter(T1out[0,:], T1out[1,:], c=colors)\n",
    "ax[2].scatter(T2out[0,:], T2out[1,:], c=colors)\n",
    "ax[0].set_title('Original points')\n",
    "ax[1].set_title('T1')\n",
    "ax[2].set_title('T2')\n",
    "\n",
    "# Set the axes to be comparable\n",
    "ax[0].axis('equal')\n",
    "ax[1].axis('equal')\n",
    "ax[2].axis('equal')\n",
    "ax[0].set_xlim(-6,6)\n",
    "ax[1].set_xlim(-6,6)\n",
    "ax[2].set_xlim(-6,6)"
   ]
  },
  {
   "cell_type": "markdown",
   "metadata": {},
   "source": [
    "Next, we see the effect of changing the basis -- let's define a new basis $\\mathbf{b}_1 = \\mathbf{e}_2 = [0,1]^T$, $\\mathbf{b}_2 = \\mathbf{e}_1 = [1,0]^T$.\n",
    "\n",
    "This change of basis consists of exchanging the two standard basis elements, which corresponds to swapping the x- and y- coordinates of the points."
   ]
  },
  {
   "cell_type": "code",
   "execution_count": null,
   "metadata": {},
   "outputs": [],
   "source": [
    "# First, apply the change of basis\n",
    "points_newbasis = np.flipud(points)\n",
    "\n",
    "# Next, apply T1 and T2 to the flipped points, and then flip back again\n",
    "# to get the total transformation expressed in the correct basis\n",
    "T1out_new = np.flipud(np.matmul(T1, points_newbasis))\n",
    "T2out_new = np.flipud(np.matmul(T2, points_newbasis))\n",
    "\n",
    "# Plot the output\n",
    "fig, ax = plt.subplots(1,3)               \n",
    "ax[0].scatter(points[0,:], points[1,:], c=colors)\n",
    "ax[1].scatter(T1out_new[0,:], T1out_new[1,:], c=colors)\n",
    "ax[2].scatter(T2out_new[0,:], T2out_new[1,:], c=colors)\n",
    "ax[0].set_title('Original points')\n",
    "ax[1].set_title('T1 in the new basis')\n",
    "ax[2].set_title('T2 in the new basis')\n",
    "\n",
    "# Set the axes to be comparable\n",
    "ax[0].axis('equal')\n",
    "ax[1].axis('equal')\n",
    "ax[2].axis('equal')\n",
    "ax[0].set_xlim(-6,6)\n",
    "ax[1].set_xlim(-6,6)\n",
    "ax[2].set_xlim(-6,6)"
   ]
  },
  {
   "cell_type": "markdown",
   "metadata": {},
   "source": [
    "** Example 3:** What do diagonal linear transformations do to data?\n",
    "\n",
    "Let us investigate the linear transformations\n",
    "\n",
    "$A_1 = \\begin{bmatrix}\n",
    "2 & 0\\\\\n",
    "0 & 1\n",
    "\\end{bmatrix}$, $A_2 = \\begin{bmatrix}\n",
    "-2 & 0\\\\\n",
    "0 & 1\n",
    "\\end{bmatrix}$, $A_3 = \\begin{bmatrix}\n",
    "0 & 0\\\\\n",
    "0 & 1\n",
    "\\end{bmatrix}$"
   ]
  },
  {
   "cell_type": "code",
   "execution_count": null,
   "metadata": {},
   "outputs": [],
   "source": [
    "A1 = np.array([[2,0], [0,1]])\n",
    "A2 = np.array([[-2,0], [0,1]])\n",
    "A3 = np.array([[0,0], [0,1]])\n",
    "\n",
    "# Apply the transformations A1, A2 and A3, respectively, to the points\n",
    "A1output = np.matmul(A1, points)\n",
    "A2output = np.matmul(A2, points)\n",
    "A3output = np.matmul(A3, points)\n",
    "\n",
    "fig, ax = plt.subplots(1,4)               \n",
    "ax[0].scatter(points[0,:], points[1,:], c=colors)\n",
    "ax[1].scatter(A1output[0,:], A1output[1,:], c=colors)\n",
    "ax[2].scatter(A2output[0,:], A2output[1,:], c=colors)\n",
    "ax[3].scatter(A3output[0,:], A3output[1,:], c=colors)\n",
    "ax[0].set_title('Original points')\n",
    "ax[1].set_title('A1')\n",
    "ax[2].set_title('A2')\n",
    "ax[3].set_title('A3')\n",
    "\n",
    "ax[0].axis('equal')\n",
    "ax[1].axis('equal')\n",
    "ax[2].axis('equal')\n",
    "ax[3].axis('equal')\n",
    "ax[0].set_xlim(-6,6)\n",
    "ax[1].set_xlim(-6,6)\n",
    "ax[2].set_xlim(-6,6)\n",
    "ax[3].set_xlim(-6,6)"
   ]
  },
  {
   "cell_type": "markdown",
   "metadata": {},
   "source": [
    "**Example 4:** Next, we look at non-diagonal matrices. We define\n",
    "\n",
    "$A_4 = \\begin{bmatrix}\n",
    "1.5 & 0.5\\\\\n",
    "0.5 & 1.5\n",
    "\\end{bmatrix}$, $A_5 = \\begin{bmatrix}\n",
    "-0.5 & -1.5\\\\\n",
    "-1.5 & -0.5\n",
    "\\end{bmatrix}$, $A_6 = \\begin{bmatrix}\n",
    "0.5 & -0.5\\\\\n",
    "-0.5 & 0.5\n",
    "\\end{bmatrix}$"
   ]
  },
  {
   "cell_type": "code",
   "execution_count": null,
   "metadata": {},
   "outputs": [],
   "source": [
    "A4 = np.array([[ 1.5,  0.5], [ 0.5,  1.5]])\n",
    "A5 = np.array([[-0.5, -1.5], [-1.5, -0.5]])\n",
    "A6 = np.array([[ 0.5, -0.5], [-0.5,  0.5]])\n",
    "\n",
    "# Apply the transformations A4, A5 and A6, respectively, to the points\n",
    "A4output = np.matmul(A4, points)\n",
    "A5output = np.matmul(A5, points)\n",
    "A6output = np.matmul(A6, points)\n",
    "\n",
    "fig, ax = plt.subplots(1,4)               \n",
    "ax[0].scatter(points[0,:], points[1,:], c=colors)\n",
    "ax[1].scatter(A4output[0,:], A4output[1,:], c=colors)\n",
    "ax[2].scatter(A5output[0,:], A5output[1,:], c=colors)\n",
    "ax[3].scatter(A6output[0,:], A6output[1,:], c=colors)\n",
    "ax[0].set_title('Original points')\n",
    "ax[1].set_title('A4')\n",
    "ax[2].set_title('A5')\n",
    "ax[3].set_title('A6')\n",
    "\n",
    "ax[0].axis('equal')\n",
    "ax[1].axis('equal')\n",
    "ax[2].axis('equal')\n",
    "ax[3].axis('equal')\n",
    "ax[0].set_xlim(-6,6)\n",
    "ax[1].set_xlim(-6,6)\n",
    "ax[2].set_xlim(-6,6)\n",
    "ax[3].set_xlim(-6,6)"
   ]
  },
  {
   "cell_type": "markdown",
   "metadata": {},
   "source": [
    "To understand what is going on, let us make eigenvalue decompositions of the matrices A4, A5 and A6:"
   ]
  },
  {
   "cell_type": "code",
   "execution_count": null,
   "metadata": {},
   "outputs": [],
   "source": [
    "evals4, evecs4 = np.linalg.eigh(A4)\n",
    "evals5, evecs5 = np.linalg.eigh(A5)\n",
    "evals6, evecs6 = np.linalg.eigh(A6)\n",
    "\n",
    "print('Eigenvalue diagonalization of A4:')\n",
    "print(np.diag(evals4))\n",
    "print('Eigenvalue diagonalization of A5:')\n",
    "print(np.diag(evals5))\n",
    "print('Eigenvalue diagonalization of A6:')\n",
    "print(np.diag(evals6))\n",
    "\n",
    "print('Eigenvectors of A4:')\n",
    "print(evecs4)\n",
    "print('Eigenvectors of A5:')\n",
    "print(evecs5)\n",
    "print('Eigenvectors of A6:')\n",
    "print(evecs6)"
   ]
  },
  {
   "cell_type": "markdown",
   "metadata": {},
   "source": [
    "We see that the diagonalizations are indeed A1, A2 and A3. The eigenvectors are the same for A4, A5 and A6 (recall that if $\\mathbf{v}$ is an eigenvector, then so is $-\\mathbf{v}$).\n",
    "\n",
    "Let us plot the transformed data along with the eigenvectors:"
   ]
  },
  {
   "cell_type": "code",
   "execution_count": null,
   "metadata": {},
   "outputs": [],
   "source": [
    "fig, ax = plt.subplots(1,4)               \n",
    "ax[0].scatter(points[0,:], points[1,:], c=colors)\n",
    "ax[1].scatter(A4output[0,:], A4output[1,:], c=colors)\n",
    "ax[1].plot([0, evecs4[0,0]], [0, evecs4[1,0]], c='black')\n",
    "ax[1].plot([0, evecs4[0,1]], [0, evecs4[1,1]], c='black')\n",
    "ax[2].scatter(A5output[0,:], A5output[1,:], c=colors)\n",
    "ax[2].plot([0, evecs5[0,0]], [0, evecs5[1,0]], c='black')\n",
    "ax[2].plot([0, evecs5[0,1]], [0, evecs5[1,1]], c='black')\n",
    "ax[3].scatter(A6output[0,:], A6output[1,:], c=colors)\n",
    "ax[3].plot([0, evecs6[0,0]], [0, evecs6[1,0]], c='black')\n",
    "ax[3].plot([0, evecs6[0,1]], [0, evecs6[1,1]], c='black')\n",
    "ax[0].set_title('Original points')\n",
    "ax[1].set_title('A4')\n",
    "ax[2].set_title('A5')\n",
    "ax[3].set_title('A6')\n",
    "\n",
    "ax[0].axis('equal')\n",
    "ax[1].axis('equal')\n",
    "ax[2].axis('equal')\n",
    "ax[3].axis('equal')\n",
    "ax[0].set_xlim(-6,6)\n",
    "ax[1].set_xlim(-6,6)\n",
    "ax[2].set_xlim(-6,6)\n",
    "ax[3].set_xlim(-6,6)"
   ]
  },
  {
   "cell_type": "markdown",
   "metadata": {},
   "source": [
    "**Example 5:** Finally, we look at rotation matrices:\n",
    "        \n",
    "Let $R_\\theta = \\begin{bmatrix} \\cos(\\theta) & -\\sin(\\theta)\\\\ \\sin(\\theta) & \\cos(\\theta) \\end{bmatrix}$"
   ]
  },
  {
   "cell_type": "code",
   "execution_count": null,
   "metadata": {},
   "outputs": [],
   "source": [
    "theta = np.pi/3\n",
    "Rtheta = np.array([[np.cos(theta), -np.sin(theta)],[np.sin(theta), np.cos(theta)]])\n",
    "\n",
    "# Apply the matrices to the points\n",
    "Tthetaout = np.matmul(Rtheta, points)\n",
    "\n",
    "# Plot the output\n",
    "fig, ax = plt.subplots(1,2)               \n",
    "ax[0].scatter(points[0,:], points[1,:], c=colors)\n",
    "ax[1].scatter(Tthetaout[0,:], Tthetaout[1,:], c=colors)\n",
    "ax[0].set_title('Original points')\n",
    "ax[1].set_title('$R_\\theta$')\n",
    "\n",
    "# Set the axes to be comparable\n",
    "ax[0].axis('equal')\n",
    "ax[1].axis('equal')\n",
    "ax[0].set_xlim(-6,6)\n",
    "ax[1].set_xlim(-6,6)"
   ]
  },
  {
   "cell_type": "code",
   "execution_count": null,
   "metadata": {},
   "outputs": [],
   "source": []
  },
  {
   "cell_type": "code",
   "execution_count": null,
   "metadata": {},
   "outputs": [],
   "source": []
  }
 ],
 "metadata": {
  "kernelspec": {
   "display_name": "Python 3",
   "language": "python",
   "name": "python3"
  },
  "language_info": {
   "codemirror_mode": {
    "name": "ipython",
    "version": 3
   },
   "file_extension": ".py",
   "mimetype": "text/x-python",
   "name": "python",
   "nbconvert_exporter": "python",
   "pygments_lexer": "ipython3",
   "version": "3.7.0"
  }
 },
 "nbformat": 4,
 "nbformat_minor": 2
}
