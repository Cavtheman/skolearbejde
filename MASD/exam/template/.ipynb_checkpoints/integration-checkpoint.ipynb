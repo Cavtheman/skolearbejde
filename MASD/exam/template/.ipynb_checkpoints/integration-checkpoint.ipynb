{
 "cells": [
  {
   "cell_type": "markdown",
   "metadata": {},
   "source": [
    "## Template for Exercise 2: Integration\n",
    "\n",
    "This is a template for doing Exercise 2 of the MASD 2018 Exam. Please fill out the fields and function templates below, reading the data as below, in order to perform the exercise. Feel free to load extra functions, but note that built-in functions for doing the entire task are, as a general rule, not allowed.\n",
    "\n",
    "If you are unsure how to interpret the template, or what you are allowed to do, please contact us either by email or using the Absalon forum."
   ]
  },
  {
   "cell_type": "code",
   "execution_count": null,
   "metadata": {},
   "outputs": [],
   "source": [
    "# Importing packages -- feel free to add more, but recall that you should not use built-in \n",
    "# functions for the task at hand. If in doubt, ask us by email.\n",
    "import numpy as np\n",
    "import matplotlib.pyplot as plt\n",
    "%matplotlib inline"
   ]
  },
  {
   "cell_type": "markdown",
   "metadata": {},
   "source": [
    "**Exercise 2b: Numerical integration** \n",
    "\n",
    "In the cell below, please implement a numerical approximation of the integral \n",
    "\n",
    "$g(x) = \\int_1^x \\frac{1}{x} dx$\n",
    "\n",
    "with variable step length $s$. Use your numerical approximation to compute values of the function\n",
    "for $100$ evenly sampled values of $x$ between $x=1$ and $x=10$. Please plot your numerical approximation together with the known solution \n",
    "\n",
    "$\\tilde{g}(x) = \\ln x$ \n",
    "\n",
    "for step sizes $s=1, s=0.1$ and $s=0.01$."
   ]
  },
  {
   "cell_type": "code",
   "execution_count": null,
   "metadata": {},
   "outputs": [],
   "source": []
  },
  {
   "cell_type": "markdown",
   "metadata": {},
   "source": [
    "**Exercise 2c: Numerical solution of differential equations through Euler's method**\n",
    "\n",
    "Below, we load the tangential directions as a numpy array and use the function plot_tangents to visualize them.\n",
    "\n",
    "We also visualize the initial starting point $\\mathbf{x} = [28,20]^T$ with a black dot."
   ]
  },
  {
   "cell_type": "code",
   "execution_count": null,
   "metadata": {},
   "outputs": [],
   "source": [
    "tangents = np.load('E2.npy')\n",
    "\n",
    "def plot_tangents(tangents):\n",
    "    ylen, xlen, d = tangents.shape\n",
    "    \n",
    "    for i in range(ylen):\n",
    "        for j in range(xlen):\n",
    "            vec = tangents[i,j]                                    \n",
    "            xs = np.array([i-vec[0], i+vec[0]])\n",
    "            ys = np.array([-vec[1], vec[1]]) + j\n",
    "            plt.plot(xs,ys, 'm')\n",
    "            \n",
    "plot_tangents(tangents)       \n",
    "plt.scatter([28], [20], color='black')\n",
    "plt.axis('equal')\n",
    "plt.title('Tangential directions')"
   ]
  },
  {
   "cell_type": "markdown",
   "metadata": {},
   "source": [
    "**i)** In the cell below, please implement a function that assigns a tangential direction $[T_x(x,y), T_y(x,y)]$ to any real-valued point $[x,y]$ in the image (i.e. not just integer-valued points) by using the tangential direction corresponding to the nearest pixel. To verify that your function works, please plot the tangent at the point $[27.5, 19.5]$ as a small black line segment through the point $[27.5, 19.5]$, and visually compare your plotted direction to the directions shown near the black dot at $\\mathbf{x} = [28,20]$ in Figure 1, right."
   ]
  },
  {
   "cell_type": "code",
   "execution_count": null,
   "metadata": {},
   "outputs": [],
   "source": []
  },
  {
   "cell_type": "markdown",
   "metadata": {},
   "source": [
    "**ii)** In the cell below, please implement Euler's method to find the curve $c$ starting in the point $\\mathbf{x} = [28,20]$ and tracking for $N$ steps with step length $s$. Apply your function with $N=100$ steps and step length $s=0.5$. Plot the resulting curve together with the tangential directions. What do you see?"
   ]
  },
  {
   "cell_type": "code",
   "execution_count": null,
   "metadata": {},
   "outputs": [],
   "source": []
  },
  {
   "cell_type": "markdown",
   "metadata": {},
   "source": [
    "**iii)** The tangential directions are only determined up to sign, see Figure 3 in the exam PDF. Hence, you need to determine whether you should use the given tangential vector, or whether you should multiply it by $-1$ before taking a step. You want to select the option that gives you the smallest change in direction. In the cell below, please describe how this might be done, make an updated implementation of Euler's method that considers this, apply and plot the resulting curve with the same parameters as in ii)."
   ]
  },
  {
   "cell_type": "code",
   "execution_count": null,
   "metadata": {},
   "outputs": [],
   "source": []
  },
  {
   "cell_type": "code",
   "execution_count": null,
   "metadata": {},
   "outputs": [],
   "source": []
  },
  {
   "cell_type": "code",
   "execution_count": null,
   "metadata": {},
   "outputs": [],
   "source": []
  }
 ],
 "metadata": {
  "kernelspec": {
   "display_name": "Python 3",
   "language": "python",
   "name": "python3"
  },
  "language_info": {
   "codemirror_mode": {
    "name": "ipython",
    "version": 3
   },
   "file_extension": ".py",
   "mimetype": "text/x-python",
   "name": "python",
   "nbconvert_exporter": "python",
   "pygments_lexer": "ipython3",
   "version": "3.7.1"
  }
 },
 "nbformat": 4,
 "nbformat_minor": 2
}
