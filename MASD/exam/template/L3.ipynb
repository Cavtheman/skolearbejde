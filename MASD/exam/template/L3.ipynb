{
 "cells": [
  {
   "cell_type": "markdown",
   "metadata": {
    "collapsed": true
   },
   "source": [
    "# Lecture 3: Numerical approximations of derivatives in 1 and n dimensions"
   ]
  },
  {
   "cell_type": "code",
   "execution_count": null,
   "metadata": {},
   "outputs": [],
   "source": [
    "# First, we load needed packages\n",
    "%matplotlib inline\n",
    "# Allows viewing figures inline in the notebook\n",
    "import numpy as np\n",
    "# Numpy is a library for numerical computation\n",
    "import matplotlib.pyplot as plt\n",
    "# Matplotlib is a plotting library\n",
    "import matplotlib\n",
    "matplotlib.rcParams['figure.figsize'] = (20,8)\n",
    "# Makes the figures larger\n",
    "\n",
    "from skimage import io\n",
    "# Imports the io module from the skimage library for reading, showing and saving images\n",
    "from matplotlib import cm \n",
    "# Imports colormaps from matplotlib for use in other libraries"
   ]
  },
  {
   "cell_type": "markdown",
   "metadata": {},
   "source": [
    "### Numerical derivatives in 1 dimension\n",
    "\n",
    "First, we read the data in the file 'tempdata.csv'. It consists of a matched set of temperaturemeasurements from Copenhagen and Aalborg, taken over a year."
   ]
  },
  {
   "cell_type": "code",
   "execution_count": null,
   "metadata": {},
   "outputs": [],
   "source": [
    "from numpy import genfromtxt                                 # Function for reading data from text/csv file\n",
    "my_data = genfromtxt('tempdata.csv', delimiter=',')          # Reading the data\n",
    "print('Shape of read data array:', my_data.shape)            # Let's take a look at the dimensions of the read data"
   ]
  },
  {
   "cell_type": "markdown",
   "metadata": {},
   "source": [
    "Next, we plot extract the temperature data for the two cities and plot it"
   ]
  },
  {
   "cell_type": "code",
   "execution_count": null,
   "metadata": {},
   "outputs": [],
   "source": [
    "bluecurve = my_data[:,0]\n",
    "redcurve = my_data[:,1]\n",
    "plt.plot(bluecurve, color='blue', label='Copenhagen')\n",
    "plt.plot(redcurve, color='red', label='Ålborg')\n",
    "plt.legend()\n",
    "plt.xlabel('time t')\n",
    "plt.ylabel('measured temperature')"
   ]
  },
  {
   "cell_type": "markdown",
   "metadata": {},
   "source": [
    "Now, we compute the forward finite difference derivative of the blue temperature curve and play around with the step length. \n",
    "\n",
    "**Note:** This implementation will ignore boundary issues and produce a derivative signal that is shorter than the original signal. In your homework assignment, you will handle boundaries for higher-dimensional signals."
   ]
  },
  {
   "cell_type": "code",
   "execution_count": null,
   "metadata": {},
   "outputs": [],
   "source": [
    "# An implementation of the forwards finite difference derivative for a 1D signal.\n",
    "# Note here that we assume our original measurements are made at time intervals 1 apart. \n",
    "# What would it take to fix this?\n",
    "\n",
    "def findiff(datavec, steplength):\n",
    "    N = len(datavec)\n",
    "    return (datavec[steplength:N] - datavec[0:N-steplength])/steplength"
   ]
  },
  {
   "cell_type": "markdown",
   "metadata": {},
   "source": [
    "Let's compute and plot the finite difference derivative for the Copenhagen temperature curve. What do you see? What did you expect to see? What happens if you play around with the step length?"
   ]
  },
  {
   "cell_type": "code",
   "execution_count": null,
   "metadata": {},
   "outputs": [],
   "source": [
    "der = findiff(bluecurve, 1000)\n",
    "plt.plot(der, label='finite difference derivative')\n",
    "plt.plot(0*der, color='red', label='$y=0$')\n",
    "plt.xlabel('time t')\n",
    "plt.ylabel('derivative of temperature wrt time')\n",
    "plt.title('Forward finite difference approximation of the derivative of the temperature in Copenhagen')\n",
    "plt.legend()"
   ]
  },
  {
   "cell_type": "markdown",
   "metadata": {},
   "source": [
    "### Numerical derivatives for multivariate signals"
   ]
  },
  {
   "cell_type": "markdown",
   "metadata": {
    "collapsed": true
   },
   "source": [
    "Our running examples of multivariate signals will be images. Let's first look at how to load, view and manipulate them.\n",
    "\n",
    "\n",
    "**Note:** The original image has shape 210 x 240 x 3. The third coordinate is the *color channel*, and color images are functions $\\mathbb{R}^2 \\to \\mathbb{R}^3$. For now, we will stick to grayscale images, as they are functions $\\mathbb{R}^2 \\to \\mathbb{R}$. Thus, we convert the image to grayscale using the mean color value in each pixel."
   ]
  },
  {
   "cell_type": "code",
   "execution_count": null,
   "metadata": {},
   "outputs": [],
   "source": [
    "I = io.imread('flower.jpeg')                     # skimage.io can be used to read images in as numpy arrays.\n",
    "\n",
    "print('Maximum value:', np.max(I))               # Print the maximum value in the image\n",
    "print('Minimum value:', np.min(I))               # Print the minimum value in the image\n",
    "print('Values seen;', np.unique(I))              # Print all the unique values found in the image. What do you see?\n",
    "print('Shape of array:', I.shape)                # Print the shape of the image. What do you see?\n",
    "\n",
    "\n",
    "Igray = np.mean(I, axis=2)                       # convert to grayscale by taking average color value\n",
    "print('Shape of grayscale array:', Igray.shape)\n",
    "\n",
    "# Next, let's view the color and grayscale images side by side\n",
    "fig, ax = plt.subplots(1,2)               \n",
    "ax[0].imshow(I, cmap=cm.Greys_r) \n",
    "ax[1].imshow(Igray, cmap=cm.Greys_r)\n",
    "ax[0].set_title('The color image')\n",
    "ax[1].set_title('The grayscale image')\n"
   ]
  },
  {
   "cell_type": "markdown",
   "metadata": {},
   "source": [
    "#### Next, we take first steps towards finite difference derivatives for images\n",
    "Take the forwards finite difference derivatives wrt x and y of the images with step size 1.\n",
    "We do not handle boundary issues, and we do not change the step size -- this is your job in Assignment 2."
   ]
  },
  {
   "cell_type": "code",
   "execution_count": null,
   "metadata": {},
   "outputs": [],
   "source": [
    "N, M = Igray.shape                                                 # Extract the image dimensions N x M\n",
    "# First, compute the partials\n",
    "Ix = (Igray[:,np.arange(1,M)] - Igray[:,np.arange(0,M-1)])         # Compute the partial wrt x\n",
    "Iy = (Igray[np.arange(0,N-1),:] - Igray[np.arange(1,N),:])         # Compute the partial wrt y\n",
    "# NOTE: INDEXING OF ARRAYS VERSUS INDEXING OF X-Y PLANES\n",
    "\n",
    "# Next, visualize them side by side\n",
    "fig, ax = plt.subplots(1,2)               \n",
    "ax[0].imshow(Ix, cmap=cm.Greys_r) \n",
    "ax[1].imshow(Iy, cmap=cm.Greys_r)\n",
    "ax[0].set_title('Partial wrt x')\n",
    "ax[1].set_title('Partial wrt y')"
   ]
  },
  {
   "cell_type": "markdown",
   "metadata": {},
   "source": [
    "**Next:** Using the partial derivative approximations, we can also numerically approximate the gradient. In particular, the magnitude of the gradient speaks of the ''steepness'' of the image landscape."
   ]
  },
  {
   "cell_type": "code",
   "execution_count": null,
   "metadata": {},
   "outputs": [],
   "source": [
    "# First, as we haven't handled image boundaries, our partials do not have the same shape:\n",
    "print('Shape of Ix:', Ix.shape)\n",
    "print('Shape of Iy:', Iy.shape)\n",
    "\n",
    "# For now, we handle this by cropping the partials into same shape. In your homework, you get to fix this.\n",
    "Ixreduced = Ix[np.arange(0, N-1), :]\n",
    "Iyreduced = Iy[:, np.arange(M-1)]\n",
    "Igradmagn = np.sqrt(Ixreduced**2 + Iyreduced**2)\n",
    "plt.imshow(Igradmagn, cmap=\"gray\")\n",
    "plt.title('The gradient magnitude')"
   ]
  },
  {
   "cell_type": "code",
   "execution_count": null,
   "metadata": {},
   "outputs": [],
   "source": []
  }
 ],
 "metadata": {
  "anaconda-cloud": {},
  "kernelspec": {
   "display_name": "Python 3",
   "language": "python",
   "name": "python3"
  },
  "language_info": {
   "codemirror_mode": {
    "name": "ipython",
    "version": 3
   },
   "file_extension": ".py",
   "mimetype": "text/x-python",
   "name": "python",
   "nbconvert_exporter": "python",
   "pygments_lexer": "ipython3",
   "version": "3.6.5"
  }
 },
 "nbformat": 4,
 "nbformat_minor": 1
}
