{
 "cells": [
  {
   "cell_type": "code",
   "execution_count": null,
   "metadata": {
    "collapsed": false
   },
   "outputs": [],
   "source": [
    "# No need for a keyword like \"let\" from F# when defining variables\n",
    "# Immutable variables are also not a thing\n",
    "a = \"Hello World\""
   ]
  },
  {
   "cell_type": "code",
   "execution_count": null,
   "metadata": {
    "collapsed": false
   },
   "outputs": [],
   "source": [
    "# We can use variables from different code blocks.\n",
    "# Just make sure to run this after the one above\n",
    "print (a)"
   ]
  },
  {
   "cell_type": "code",
   "execution_count": null,
   "metadata": {
    "collapsed": false
   },
   "outputs": [],
   "source": [
    "# Python is not strongly typed.\n",
    "# We can multiply strings by ints and all sorts of other weird stuff\n",
    "print (\"Python goes b\" + \"r\"*21)"
   ]
  },
  {
   "cell_type": "code",
   "execution_count": null,
   "metadata": {
    "collapsed": false
   },
   "outputs": [],
   "source": [
    "# The \"def\" keyword is used when defining functions. Remember the \":\" afterwards.\n",
    "# Python also requires the \"return\" keyword if you want to return something.\n",
    "def test (a, b):\n",
    "    if (a == b):\n",
    "        return a + b\n",
    "    else:\n",
    "        return a + a + b"
   ]
  },
  {
   "cell_type": "code",
   "execution_count": null,
   "metadata": {
    "collapsed": false
   },
   "outputs": [],
   "source": [
    "# No partial application of functions\n",
    "# c = test (1) doesn't work\n",
    "c = test (1, 2)\n",
    "print (c)"
   ]
  },
  {
   "cell_type": "code",
   "execution_count": null,
   "metadata": {
    "collapsed": false
   },
   "outputs": [],
   "source": [
    "# Lists are weird in Python\n",
    "# Appending is (on average) O(1), and indexing is also O(1)\n",
    "# Prepending is O(n) though\n",
    "\n",
    "d = []\n",
    "# F# equivalent:\n",
    "# for i in [0..10] do\n",
    "for i in range(0, 10, 2):\n",
    "    d.append(i)\n",
    "print (d)"
   ]
  },
  {
   "cell_type": "code",
   "execution_count": null,
   "metadata": {
    "collapsed": false
   },
   "outputs": [],
   "source": [
    "# List comprehensions are very useful and easily readable in most cases\n",
    "e = [ i for i in range(0,10,2) ]\n",
    "print(e)"
   ]
  },
  {
   "cell_type": "code",
   "execution_count": null,
   "metadata": {
    "collapsed": false
   },
   "outputs": [],
   "source": [
    "# They work sort of like List.Map from F# (though that is very much an oversimplification)\n",
    "f = [ elem * 2 for elem in e ]\n",
    "print (f)"
   ]
  },
  {
   "cell_type": "code",
   "execution_count": null,
   "metadata": {
    "collapsed": false
   },
   "outputs": [],
   "source": [
    "# This code takes a long time to find what sumval is\n",
    "sumval = 0\n",
    "for i in range(10000000):\n",
    "    sumval = sumval + test (1, 2)\n",
    "print (sumval)"
   ]
  },
  {
   "cell_type": "code",
   "execution_count": null,
   "metadata": {
    "collapsed": false
   },
   "outputs": [],
   "source": [
    "# But since this is in a new block, we only have to calculate sumval once, and can use it many times!\n",
    "# But be careful with naming and the order you run things in.\n",
    "# They can lead to many annoying bugs that only appear half the time\n",
    "newval = sumval / 4\n",
    "print (newval)"
   ]
  },
  {
   "cell_type": "code",
   "execution_count": null,
   "metadata": {
    "collapsed": false
   },
   "outputs": [],
   "source": [
    "# Optional parameters are very useful\n",
    "def test_fun (a, b=10):\n",
    "    return a + b\n",
    "\n",
    "print ( test_fun (10, 12))\n",
    "print (test_fun (10))"
   ]
  },
  {
   "cell_type": "code",
   "execution_count": null,
   "metadata": {
    "collapsed": false
   },
   "outputs": [],
   "source": [
    "# If you import this way, you will have to write assignment1.read_data () instead of just read_data\n",
    "# import assignment1\n",
    "from assignment1 import *\n",
    "\n",
    "# as np simply means we can write np.<function> instead of numpy.<function>\n",
    "import numpy as np"
   ]
  },
  {
   "cell_type": "code",
   "execution_count": null,
   "metadata": {
    "collapsed": false
   },
   "outputs": [],
   "source": [
    "contents = read_data (\"experimental_results.txt\")\n",
    "print (len(contents))\n",
    "\n",
    "np_contents = np.genfromtxt (\"experimental_results.txt\")\n",
    "print (np_contents)\n",
    "print (type (np_contents))\n",
    "\n",
    "averages = calc_averages (contents)\n",
    "np_averages = np.average (np_contents, axis=0)\n",
    "print (averages)\n",
    "print (np_averages)\n",
    "\n",
    "transposed = transpose_data (contents)\n",
    "print (len (transposed))\n",
    "\n",
    "np_transposed = np_contents.T\n",
    "print (np_contents.shape)\n",
    "print (np_transposed.shape)"
   ]
  },
  {
   "cell_type": "code",
   "execution_count": null,
   "metadata": {
    "collapsed": false
   },
   "outputs": [],
   "source": [
    "def a_read_data (filename):\n",
    "    with open(filename, \"r\") as result:\n",
    "        content = [line for line in result]\n",
    "        print(content)\n",
    "a_read_data (\"experimental_results.txt\")"
   ]
  }
 ],
 "metadata": {
  "kernelspec": {
   "argv": [
    "/usr/bin/python3",
    "-m",
    "ipykernel_launcher",
    "-f",
    "{connection_file}"
   ],
   "display_name": "Python 3",
   "env": null,
   "interrupt_mode": "signal",
   "language": "python",
   "metadata": null,
   "name": "python3"
  },
  "language_info": {
   "codemirror_mode": {
    "name": "ipython",
    "version": 3
   },
   "file_extension": ".py",
   "mimetype": "text/x-python",
   "name": "python",
   "nbconvert_exporter": "python",
   "pygments_lexer": "ipython3",
   "version": "3.6.9"
  },
  "name": "Intro.ipynb"
 },
 "nbformat": 4,
 "nbformat_minor": 2
}
