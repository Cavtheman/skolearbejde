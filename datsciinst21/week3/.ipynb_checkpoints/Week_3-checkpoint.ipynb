{
 "cells": [
  {
   "cell_type": "code",
   "execution_count": 1,
   "metadata": {},
   "outputs": [],
   "source": [
    "import numpy as np\n",
    "import pandas as pd\n",
    "import re\n",
    "import csv"
   ]
  },
  {
   "cell_type": "code",
   "execution_count": 2,
   "metadata": {},
   "outputs": [
    {
     "name": "stderr",
     "output_type": "stream",
     "text": [
      "[nltk_data] Downloading package punkt to /Users/ncj964/nltk_data...\n",
      "[nltk_data]   Package punkt is already up-to-date!\n",
      "[nltk_data] Downloading package stopwords to\n",
      "[nltk_data]     /Users/ncj964/nltk_data...\n",
      "[nltk_data]   Package stopwords is already up-to-date!\n"
     ]
    },
    {
     "data": {
      "text/plain": [
       "True"
      ]
     },
     "execution_count": 2,
     "metadata": {},
     "output_type": "execute_result"
    }
   ],
   "source": [
    "import nltk\n",
    "from nltk import word_tokenize\n",
    "from nltk.corpus import stopwords\n",
    "from nltk.stem import porter\n",
    "nltk.download('punkt')\n",
    "nltk.download('stopwords')"
   ]
  },
  {
   "cell_type": "markdown",
   "metadata": {},
   "source": [
    "Read the CSV file"
   ]
  },
  {
   "cell_type": "code",
   "execution_count": 3,
   "metadata": {},
   "outputs": [],
   "source": [
    "data = pd.read_csv(\"news_sample.csv\")"
   ]
  },
  {
   "cell_type": "markdown",
   "metadata": {},
   "source": [
    "Manually inspect the data to get an idea of potential problems that need to be fixed."
   ]
  },
  {
   "cell_type": "code",
   "execution_count": 4,
   "metadata": {},
   "outputs": [
    {
     "data": {
      "text/html": [
       "<div>\n",
       "<style scoped>\n",
       "    .dataframe tbody tr th:only-of-type {\n",
       "        vertical-align: middle;\n",
       "    }\n",
       "\n",
       "    .dataframe tbody tr th {\n",
       "        vertical-align: top;\n",
       "    }\n",
       "\n",
       "    .dataframe thead th {\n",
       "        text-align: right;\n",
       "    }\n",
       "</style>\n",
       "<table border=\"1\" class=\"dataframe\">\n",
       "  <thead>\n",
       "    <tr style=\"text-align: right;\">\n",
       "      <th></th>\n",
       "      <th>Unnamed: 0</th>\n",
       "      <th>id</th>\n",
       "      <th>domain</th>\n",
       "      <th>type</th>\n",
       "      <th>url</th>\n",
       "      <th>content</th>\n",
       "      <th>scraped_at</th>\n",
       "      <th>inserted_at</th>\n",
       "      <th>updated_at</th>\n",
       "      <th>title</th>\n",
       "      <th>authors</th>\n",
       "      <th>keywords</th>\n",
       "      <th>meta_keywords</th>\n",
       "      <th>meta_description</th>\n",
       "      <th>tags</th>\n",
       "      <th>summary</th>\n",
       "    </tr>\n",
       "  </thead>\n",
       "  <tbody>\n",
       "    <tr>\n",
       "      <th>0</th>\n",
       "      <td>0</td>\n",
       "      <td>141</td>\n",
       "      <td>awm.com</td>\n",
       "      <td>unreliable</td>\n",
       "      <td>http://awm.com/church-congregation-brings-gift...</td>\n",
       "      <td>Sometimes the power of Christmas will make you...</td>\n",
       "      <td>2018-01-25 16:17:44.789555</td>\n",
       "      <td>2018-02-02 01:19:41.756632</td>\n",
       "      <td>2018-02-02 01:19:41.756664</td>\n",
       "      <td>Church Congregation Brings Gift to Waitresses ...</td>\n",
       "      <td>Ruth Harris</td>\n",
       "      <td>NaN</td>\n",
       "      <td>['']</td>\n",
       "      <td>NaN</td>\n",
       "      <td>NaN</td>\n",
       "      <td>NaN</td>\n",
       "    </tr>\n",
       "    <tr>\n",
       "      <th>1</th>\n",
       "      <td>1</td>\n",
       "      <td>256</td>\n",
       "      <td>beforeitsnews.com</td>\n",
       "      <td>fake</td>\n",
       "      <td>http://beforeitsnews.com/awakening-start-here/...</td>\n",
       "      <td>AWAKENING OF 12 STRANDS of DNA – “Reconnecting...</td>\n",
       "      <td>2018-01-25 16:17:44.789555</td>\n",
       "      <td>2018-02-02 01:19:41.756632</td>\n",
       "      <td>2018-02-02 01:19:41.756664</td>\n",
       "      <td>AWAKENING OF 12 STRANDS of DNA – “Reconnecting...</td>\n",
       "      <td>Zurich Times</td>\n",
       "      <td>NaN</td>\n",
       "      <td>['']</td>\n",
       "      <td>NaN</td>\n",
       "      <td>NaN</td>\n",
       "      <td>NaN</td>\n",
       "    </tr>\n",
       "    <tr>\n",
       "      <th>2</th>\n",
       "      <td>2</td>\n",
       "      <td>700</td>\n",
       "      <td>cnnnext.com</td>\n",
       "      <td>unreliable</td>\n",
       "      <td>http://www.cnnnext.com/video/18526/never-hike-...</td>\n",
       "      <td>Never Hike Alone: A Friday the 13th Fan Film U...</td>\n",
       "      <td>2018-01-25 16:17:44.789555</td>\n",
       "      <td>2018-02-02 01:19:41.756632</td>\n",
       "      <td>2018-02-02 01:19:41.756664</td>\n",
       "      <td>Never Hike Alone - A Friday the 13th Fan Film ...</td>\n",
       "      <td>NaN</td>\n",
       "      <td>NaN</td>\n",
       "      <td>['']</td>\n",
       "      <td>Never Hike Alone: A Friday the 13th Fan Film  ...</td>\n",
       "      <td>NaN</td>\n",
       "      <td>NaN</td>\n",
       "    </tr>\n",
       "  </tbody>\n",
       "</table>\n",
       "</div>"
      ],
      "text/plain": [
       "   Unnamed: 0   id             domain        type  \\\n",
       "0           0  141            awm.com  unreliable   \n",
       "1           1  256  beforeitsnews.com        fake   \n",
       "2           2  700        cnnnext.com  unreliable   \n",
       "\n",
       "                                                 url  \\\n",
       "0  http://awm.com/church-congregation-brings-gift...   \n",
       "1  http://beforeitsnews.com/awakening-start-here/...   \n",
       "2  http://www.cnnnext.com/video/18526/never-hike-...   \n",
       "\n",
       "                                             content  \\\n",
       "0  Sometimes the power of Christmas will make you...   \n",
       "1  AWAKENING OF 12 STRANDS of DNA – “Reconnecting...   \n",
       "2  Never Hike Alone: A Friday the 13th Fan Film U...   \n",
       "\n",
       "                   scraped_at                 inserted_at  \\\n",
       "0  2018-01-25 16:17:44.789555  2018-02-02 01:19:41.756632   \n",
       "1  2018-01-25 16:17:44.789555  2018-02-02 01:19:41.756632   \n",
       "2  2018-01-25 16:17:44.789555  2018-02-02 01:19:41.756632   \n",
       "\n",
       "                   updated_at  \\\n",
       "0  2018-02-02 01:19:41.756664   \n",
       "1  2018-02-02 01:19:41.756664   \n",
       "2  2018-02-02 01:19:41.756664   \n",
       "\n",
       "                                               title       authors  keywords  \\\n",
       "0  Church Congregation Brings Gift to Waitresses ...   Ruth Harris       NaN   \n",
       "1  AWAKENING OF 12 STRANDS of DNA – “Reconnecting...  Zurich Times       NaN   \n",
       "2  Never Hike Alone - A Friday the 13th Fan Film ...           NaN       NaN   \n",
       "\n",
       "  meta_keywords                                   meta_description tags  \\\n",
       "0          ['']                                                NaN  NaN   \n",
       "1          ['']                                                NaN  NaN   \n",
       "2          ['']  Never Hike Alone: A Friday the 13th Fan Film  ...  NaN   \n",
       "\n",
       "   summary  \n",
       "0      NaN  \n",
       "1      NaN  \n",
       "2      NaN  "
      ]
     },
     "execution_count": 4,
     "metadata": {},
     "output_type": "execute_result"
    }
   ],
   "source": [
    "data[:3]"
   ]
  },
  {
   "cell_type": "code",
   "execution_count": 5,
   "metadata": {},
   "outputs": [
    {
     "data": {
      "text/plain": [
       "\"Never Hike Alone: A Friday the 13th Fan Film USA | 2017 | 54 min A fan tribute to Friday the 13th, Never Hike Alone follows an adventure\\n\\nNever Hike Alone: A Friday the 13th Fan Film USA | 2017 | 54 min\\n\\n\\n\\nA fan tribute to Friday the 13th, Never Hike Alone follows an adventure blogger, Kyle McLeod (Andrew Leighty), who uncovers the long lost remains of Camp Crystal Lake while on a solo backpacking trip.\\n\\nIgnoring the campfire tales from his childhood, Kyle's search turns deadly when he makes the grave mistake of crossing the path of Camp Blood’s legendary mass murderer, Jason Voorhees.\\n\\nStranded in the forest with Jason on his heels, Kyle must push his survival skills to their limits if he hopes to survive the night.\\n\\nOtherwise, he'll wind up as another lost victim of the cursed camp.\\n\\n\\n\\nDIRECTED BY\\n\\nVINCENTE DISANTI\\n\\n\\n\\nSCREENPLAY BY\\n\\nVINCENTE DISANTI and NATHAN MCLEOD\\n\\n\\n\\nBASED ON CHARACTERS CREATED BY\\n\\nSEAN CUNNINGHAM\\n\\nVICTOR MILLER\\n\\nRON KURTZ\\n\\n\\n\\nSTARRING:\\n\\nANDREW LEIGHTY as KYLE MCLEOD\\n\\nVINCENTE DISANTI as JASON VOORHEES\\n\\n\\n\\nEXECUTIVE PRODUCERS\\n\\nBARRY JAY STITCH\\n\\nCAROLYN GAIR\\n\\nSARAH DISANTI\\n\\n\\n\\nPRODUCERS\\n\\nKYLE KLEIN\\n\\nDANIEL EVANS\\n\\nMATTHEW BARRETT\\n\\n\\n\\nCO-PRODUCERS\\n\\nSTEVEN SQUILLANTE\\n\\nCHRISTOPHER THELLAS\\n\\nALEXANDER THELLAS\\n\\n\\n\\nASSOCIATE PRODUCERS\\n\\nCODY CAMERON\\n\\nCHRISTIAN ASCENCIO\\n\\nLYDIA ASCENCIO\\n\\nLYNN HOBSON\\n\\nRENE RIVAS\\n\\nMIKE WHELAN\\n\\n\\n\\nDIRECTORS OF PHOTOGRAPHY\\n\\nCHRISTOPHER THELLAS\\n\\nJ.D.\\n\\nMARTZ\\n\\n\\n\\nPRODUCTION DESIGNER\\n\\nBRITTANY PORTER\\n\\n\\n\\nSPECIAL MAKE UP EFFECTS\\n\\nKELSEY BERK\\n\\n\\n\\nWARDROBE\\n\\nSTEPHEN BOYD-MORALES\\n\\n\\n\\nSTUNTS\\n\\nJESSICA BENNETT\\n\\nBRYAN FORREST as JASON VOORHEES\\n\\nDONNY NICHOLS as KYLE MCLEOD\\n\\n\\n\\nFILM EDITING BY\\n\\nLAWRENCE GAN\\n\\nSARAH DISANTI\\n\\n\\n\\nUNIT STILLS PHOTOGRAPHY\\n\\nASHLY COVINGTON\\n\\n\\n\\nMUSIC BY\\n\\nRYAN PEREZ-DAPLE\\n\\n\\n\\n“Run Like Hell”\\n\\nWritten by: Vincente DiSanti, Jake Gonsalves, Lenny Machado\\n\\nPerformed by: Gonsalves, Machado\\n\\nRecorded at: Elm Street Studios, New Bedford, MA 2017\\n\\nAppears Courtesy of: Damn Enchiladas\\n\\n\\n\\n“Another Soul”\\n\\nWritten and Performed by: Trevor Vaughan\\n\\nAppears on: Finally Salao Mix Tape\\n\\nRecorded at: The Colosseum, New Bedford, MA 2012\\n\\nAppears Courtesy of: Trevor Vaughan & Mass Glory Records\\n\\n\\n\\n\\n\\nfor additional cast and crew visit: www.imdb.com/title/tt5719786/\\n\\n\\n\\nwww.wompstompfilms.com\\n\\n\\n\\nDISCLAIMER\\n\\n\\n\\nTHIS PRODUCTION IS THE EFFORT OF WOMP STOMP FILMS, LLC AND ITS VOLUNTEER ASSOCIATES.\\n\\nNEVER HIKE ALONE IS A PRODUCT OF FAN FICTION AND IN NO WAY AFFILIATED WITH, OR A REPRESENTATIVE OF THE VIACOM/PARAMOUNT FILM COMPANY, WARNER BROTHERS, NEW LINE CINEMA, HORROR INC, THE FRIDAY THE 13TH FILM PROPERTY, OR ITS CHARACTERS.\\n\\n\\n\\n\\n\\nTHIS PROJECT WAS CREATED BY FANS, FOR FANS, TO SHOW APPRECIATION FOR THE FRIDAY THE 13th FRANCHISE.\\n\\nAS OF FRIDAY THE 13th OCTOBER 2017, THIS PROJECT WILL BE MADE FREE AND AVAILABLE TO ALL WHO CARE TO WATCH IT.\\n\\nNO PROFIT SHALL BE MADE OFF ITS VIEWING.\\n\\n\\n\\n\\n\\nTHANK YOU TO ANY AND ALL WHO ASSISTED IN BRINGING THE PROJECT TO LIFE.\\n\\nWOMP STOMP FILMS IS FOREVER GRATEFUL FOR YOUR TIME AND DEDICATION TO THE PROJECT.\\n\\n\\n\\nTHANK YOU FOR WATCHING.\""
      ]
     },
     "execution_count": 5,
     "metadata": {},
     "output_type": "execute_result"
    }
   ],
   "source": [
    "data[\"content\"][2]"
   ]
  },
  {
   "cell_type": "markdown",
   "metadata": {},
   "source": [
    "Clean the data. First, we'll try to do this manually, by writing our own clean_text() function that uses regular expressions. The function should take raw text as input and return a version of the text with the following modifications:\n",
    "all words must be lowercased\n",
    "it should not contain multiple white spaces, tabs or new lines\n",
    "numbers, dates, emails and urls should be replaced by \"\\<NUM>\", \"\\<DATE>\", \"\\<EMAIL>\" AND \"\\<URL>\", respectively. Note that replacing dates with \\<DATE> is particularly tricky as dates can be expressed in many forms. It's ok to to just choose one or a few common date formats present in the data set and only replace those."
   ]
  },
  {
   "cell_type": "code",
   "execution_count": 6,
   "metadata": {},
   "outputs": [],
   "source": [
    "def clean_text(text):\n",
    "    text = str(text)\n",
    "    text = re.sub(r'([a-zA-Z]*.? \\d{1,2},? \\d{4}|[a-zA-Z]{3}.? \\d{1,2} \\d{4}|\\d{1,2}[/-]\\d{1,2}[/-]\\d{4})','<DATE>',text)\n",
    "    text = re.sub(r'https?://[w]{0,3}\\.?[a-z]+\\.[a-z]\\w*.*|[w]{3}\\.\\w+\\.\\w+\\w*.*', '<URL>',text)\n",
    "    text = re.sub(r'(?:^|(?<=[^\\w,.]))[+–-]?(([1-9]\\d{0,2}(,\\d{3})+(\\.\\d*)?)|([1-9]\\d{0,2}([ .]\\d{3})+(,\\d*)?)|(\\d*?[.,]\\d+)|\\d+)(?:$|(?=\\b))', '<NUM>',text)\n",
    "    text = re.sub(r'(?:^|(?<=[^\\w@.)]))([\\w+-](\\.(?!\\.))?)*?[\\w+-]@(?:\\w-?)*?\\w+(\\.([a-z]{2,})){1,3}(?:$|(?=\\b))', \"<EMAIL>\",text)\n",
    "    text = re.sub(r'(\\\\n)+|(\\\\t)+|\\s{2,}',\" \",text)\n",
    "    text = text.lower()\n",
    "    return text"
   ]
  },
  {
   "cell_type": "code",
   "execution_count": 7,
   "metadata": {},
   "outputs": [
    {
     "name": "stdout",
     "output_type": "stream",
     "text": [
      "never hike alone: a friday the 13th fan film usa | <num> | <num> min a fan tribute to friday the 13th, never hike alone follows an adventure never hike alone: a friday the 13th fan film usa | <num> | <num> min a fan tribute to friday the 13th, never hike alone follows an adventure blogger, kyle mcleod (andrew leighty), who uncovers the long lost remains of camp crystal lake while on a solo backpacking trip. ignoring the campfire tales from his childhood, kyle's search turns deadly when he makes the grave mistake of crossing the path of camp blood’s legendary mass murderer, jason voorhees. stranded in the forest with jason on his heels, kyle must push his survival skills to their limits if he hopes to survive the night. otherwise, he'll wind up as another lost victim of the cursed camp. directed by vincente disanti screenplay by vincente disanti and nathan mcleod based on characters created by sean cunningham victor miller ron kurtz starring: andrew leighty as kyle mcleod vincente disanti as jason voorhees executive producers barry jay stitch carolyn gair sarah disanti producers kyle klein daniel evans matthew barrett co-producers steven squillante christopher thellas alexander thellas associate producers cody cameron christian ascencio lydia ascencio lynn hobson rene rivas mike whelan directors of photography christopher thellas j.d. martz production designer brittany porter special make up effects kelsey berk wardrobe stephen boyd-morales stunts jessica bennett bryan forrest as jason voorhees donny nichols as kyle mcleod film editing by lawrence gan sarah disanti unit stills photography ashly covington music by ryan perez-daple “run like hell” written by: vincente disanti, jake gonsalves, lenny machado performed by: gonsalves, machado recorded at: elm street studios, new bedford, ma <num> appears courtesy of: damn enchiladas “another soul” written and performed by: trevor vaughan appears on: finally salao mix tape recorded at: the colosseum, new bedford, ma <num> appears courtesy of: trevor vaughan & mass glory records for additional cast and crew visit: <url> <url> disclaimer this production is the effort of womp stomp films, llc and its volunteer associates. never hike alone is a product of fan fiction and in no way affiliated with, or a representative of the viacom/paramount film company, warner brothers, new line cinema, horror inc, the friday the 13th film property, or its characters. this project was created by fans, for fans, to show appreciation for the friday the 13th franchise. as of friday the 13th october <num>, this project will be made free and available to all who care to watch it. no profit shall be made off its viewing. thank you to any and all who assisted in bringing the project to life. womp stomp films is forever grateful for your time and dedication to the project. thank you for watching.\n"
     ]
    }
   ],
   "source": [
    "print(clean_text(data[\"content\"][2]))"
   ]
  },
  {
   "cell_type": "markdown",
   "metadata": {},
   "source": [
    "Now, let's try to use a library for cleaning the data. The clean-text module (https://pypi.org/project/clean-text/ (Links to an external site.)) provides out-of-the-box functionality for much of the cleaning we did in the previous exercise. Use it to implement the same cleaning steps as in your own clean_text implementation."
   ]
  },
  {
   "cell_type": "code",
   "execution_count": 8,
   "metadata": {},
   "outputs": [
    {
     "name": "stdout",
     "output_type": "stream",
     "text": [
      "zsh:1: no matches found: clean-text[gpl]\n",
      "Note: you may need to restart the kernel to use updated packages.\n"
     ]
    }
   ],
   "source": [
    "pip install clean-text[gpl]"
   ]
  },
  {
   "cell_type": "code",
   "execution_count": 9,
   "metadata": {},
   "outputs": [
    {
     "name": "stderr",
     "output_type": "stream",
     "text": [
      "Since the GPL-licensed package `unidecode` is not installed, using Python's `unicodedata` package which yields worse results.\n"
     ]
    }
   ],
   "source": [
    "from cleantext import clean"
   ]
  },
  {
   "cell_type": "code",
   "execution_count": 10,
   "metadata": {},
   "outputs": [],
   "source": [
    "def fast_clean(text):\n",
    "    return clean(text, no_urls=True, no_numbers = True, no_emails = True, no_line_breaks=True) "
   ]
  },
  {
   "cell_type": "code",
   "execution_count": 11,
   "metadata": {},
   "outputs": [
    {
     "data": {
      "text/plain": [
       "'never hike alone: a friday the 13th fan film usa | <number> | <number> min a fan tribute to friday the 13th, never hike alone follows an adventure never hike alone: a friday the 13th fan film usa | <number> | <number> min a fan tribute to friday the 13th, never hike alone follows an adventure blogger, kyle mcleod (andrew leighty), who uncovers the long lost remains of camp crystal lake while on a solo backpacking trip. ignoring the campfire tales from his childhood, kyle\\'s search turns deadly when he makes the grave mistake of crossing the path of camp blood\\'s legendary mass murderer, jason voorhees. stranded in the forest with jason on his heels, kyle must push his survival skills to their limits if he hopes to survive the night. otherwise, he\\'ll wind up as another lost victim of the cursed camp. directed by vincente disanti screenplay by vincente disanti and nathan mcleod based on characters created by sean cunningham victor miller ron kurtz starring: andrew leighty as kyle mcleod vincente disanti as jason voorhees executive producers barry jay stitch carolyn gair sarah disanti producers kyle klein daniel evans matthew barrett co-producers steven squillante christopher thellas alexander thellas associate producers cody cameron christian ascencio lydia ascencio lynn hobson rene rivas mike whelan directors of photography christopher thellas j.d. martz production designer brittany porter special make up effects kelsey berk wardrobe stephen boyd-morales stunts jessica bennett bryan forrest as jason voorhees donny nichols as kyle mcleod film editing by lawrence gan sarah disanti unit stills photography ashly covington music by ryan perez-daple \"run like hell\" written by: vincente disanti, jake gonsalves, lenny machado performed by: gonsalves, machado recorded at: elm street studios, new bedford, ma <number> appears courtesy of: damn enchiladas \"another soul\" written and performed by: trevor vaughan appears on: finally salao mix tape recorded at: the colosseum, new bedford, ma <number> appears courtesy of: trevor vaughan & mass glory records for additional cast and crew visit: <url> <url> disclaimer this production is the effort of womp stomp films, llc and its volunteer associates. never hike alone is a product of fan fiction and in no way affiliated with, or a representative of the viacom/paramount film company, warner brothers, new line cinema, horror inc, the friday the 13th film property, or its characters. this project was created by fans, for fans, to show appreciation for the friday the 13th franchise. as of friday the 13th october <number>, this project will be made free and available to all who care to watch it. no profit shall be made off its viewing. thank you to any and all who assisted in bringing the project to life. womp stomp films is forever grateful for your time and dedication to the project. thank you for watching.'"
      ]
     },
     "execution_count": 11,
     "metadata": {},
     "output_type": "execute_result"
    }
   ],
   "source": [
    "fast_clean(data[\"content\"][2])"
   ]
  },
  {
   "cell_type": "code",
   "execution_count": 12,
   "metadata": {},
   "outputs": [],
   "source": [
    "cleaned_data = data.copy()\n",
    "cleaned_data[\"content\"] = data.apply(lambda x: clean_text(x[\"content\"]), axis=1)\n",
    "contents_of_data = list(cleaned_data[\"content\"])\n",
    "string_of_contents = \",\".join([content for content in contents_of_data])"
   ]
  },
  {
   "cell_type": "markdown",
   "metadata": {},
   "source": [
    "Now that we are done cleaning, we can start process the text. The nltk library (https://www.nltk.org/ (Links to an external site.)) has built-in support for many of the most common operations. Try to:\n",
    "Tokenize the text.\n",
    "Remove stopwords and compute the size of the vocabulary. Compute the reduction rate of the vocabulary size after removing stopwords.\n",
    "Remove word variations with stemming and compute the size of the vocabulary. Compute the reduction rate of the vocabulary size after stemming."
   ]
  },
  {
   "cell_type": "code",
   "execution_count": 13,
   "metadata": {},
   "outputs": [
    {
     "data": {
      "text/plain": [
       "'sometimes the power of christmas will make you do wild and wonderful things. you do not need to believe in the holy trinity to believe in the positive power of doing good for others. the simple act of giving without receiving is lost on many of us these days, as worries about money and success hold us back from giving to others who are in need. one congregation in ohio was moved to action by the power of a sermon given at their church on christmas eve. the pastor at grand lake united methodist church in celina, ohio gave an emotional sermon about the importance of understanding the message of jesus. for many religious people the message of jesus is to help others before yourself, to make sure the people who are suffering get the help they need to enjoy life a little bit. the sermon was really about generosity and what that can look like in our lives. jesus lived a long time ago and he acted generously in the fashion of his time – but what would a generous act look like in our times? that was the focus of the sermon. the potency of the sermon was not lost on the congregation, who were so moved they had to take action! after the sermon ended, the congregation decided to take an offering. a bowl was passed around the room and everyone pitched in what they could on this christmas eve with the words of the sermon still ringing in their ears. what did they do with this offering? members of the congregation drove down to the local waffle house to visit the ladies working the night shift. what a great choice on this most holy of days when everyone should be with their families! the ladies working at waffle house clearly were not with their families. they had no choice but to work on this holy day because it paid the bills. the congregation understood the sacrifice being made by these ladies, and wanted to help them out. they donated the entire offering to be split amongst the ladies at waffle house. in total that amounted to $<num> being split amongst the staff. what a beautiful moment! what a perfect example of what the preacher was talking about in his sermon! doing a good deed like this on christmas really helped ease the burden felt by the ladies working at waffle house. sure, they could not see their families, but at least they got a little gift from the good people of their community. perhaps the best part about this whole event was that the congregation did not ask anything in return. it was a simple act of generosity from people who understood the pain being felt by another group and sought to alleviate some of that pain. it speaks volumes about the merits of the church in our daily lives. this simple act brought the entire community together because it showed empathy and compassion on the most special day of the year.'"
      ]
     },
     "execution_count": 13,
     "metadata": {},
     "output_type": "execute_result"
    }
   ],
   "source": [
    "cleaned_data[\"content\"][0]"
   ]
  },
  {
   "cell_type": "code",
   "execution_count": 14,
   "metadata": {},
   "outputs": [
    {
     "name": "stdout",
     "output_type": "stream",
     "text": [
      "The size of vocabulary is 16956\n"
     ]
    }
   ],
   "source": [
    "tokens = word_tokenize(string_of_contents)\n",
    "vocab = set(tokens)\n",
    "print(\"The size of vocabulary is\", len(vocab))"
   ]
  },
  {
   "cell_type": "code",
   "execution_count": 15,
   "metadata": {},
   "outputs": [
    {
     "data": {
      "text/plain": [
       "['sometimes',\n",
       " 'the',\n",
       " 'power',\n",
       " 'of',\n",
       " 'christmas',\n",
       " 'will',\n",
       " 'make',\n",
       " 'you',\n",
       " 'do',\n",
       " 'wild']"
      ]
     },
     "execution_count": 15,
     "metadata": {},
     "output_type": "execute_result"
    }
   ],
   "source": [
    "tokens[:10]"
   ]
  },
  {
   "cell_type": "code",
   "execution_count": 16,
   "metadata": {},
   "outputs": [
    {
     "data": {
      "text/plain": [
       "['i', 'me', 'my', 'myself', 'we', 'our', 'ours', 'ourselves', 'you', \"you're\"]"
      ]
     },
     "execution_count": 16,
     "metadata": {},
     "output_type": "execute_result"
    }
   ],
   "source": [
    "stopwords.words('english')[:10]"
   ]
  },
  {
   "cell_type": "code",
   "execution_count": 17,
   "metadata": {},
   "outputs": [],
   "source": [
    "tokens_without_sw = [word for word in tokens if not word in stopwords.words('english')]\n",
    "vocab_without_sw = set(tokens_without_sw)"
   ]
  },
  {
   "cell_type": "code",
   "execution_count": 18,
   "metadata": {},
   "outputs": [
    {
     "name": "stdout",
     "output_type": "stream",
     "text": [
      "The size of vocabulary without stopwords is 16810\n"
     ]
    }
   ],
   "source": [
    "print(\"The size of vocabulary without stopwords is\", len(vocab_without_sw))"
   ]
  },
  {
   "cell_type": "code",
   "execution_count": 19,
   "metadata": {},
   "outputs": [
    {
     "data": {
      "text/plain": [
       "['sometimes',\n",
       " 'power',\n",
       " 'christmas',\n",
       " 'make',\n",
       " 'wild',\n",
       " 'wonderful',\n",
       " 'things',\n",
       " '.',\n",
       " 'need',\n",
       " 'believe']"
      ]
     },
     "execution_count": 19,
     "metadata": {},
     "output_type": "execute_result"
    }
   ],
   "source": [
    "tokens_without_sw[:10]"
   ]
  },
  {
   "cell_type": "code",
   "execution_count": 20,
   "metadata": {},
   "outputs": [
    {
     "name": "stdout",
     "output_type": "stream",
     "text": [
      "We have removed 146 stopwords. The reduction rate of the vocabulary size is 0.009.\n"
     ]
    }
   ],
   "source": [
    "num_of_rmved_vocab = len(vocab) - len(vocab_without_sw)\n",
    "reduction_rate = (len(vocab) - len(vocab_without_sw))/len(vocab)\n",
    "print(\"We have removed %d stopwords.\" %num_of_rmved_vocab, \\\n",
    "      \"The reduction rate of the vocabulary size is %0.3f.\" %reduction_rate)"
   ]
  },
  {
   "cell_type": "markdown",
   "metadata": {},
   "source": [
    "Remove word variations with stemming and compute the size of the vocabulary. Compute the reduction rate of the vocabulary size after stemming."
   ]
  },
  {
   "cell_type": "code",
   "execution_count": 21,
   "metadata": {},
   "outputs": [],
   "source": [
    "stemmer = porter.PorterStemmer()\n",
    "stemmed_tokens = [stemmer.stem(token) for token in tokens]\n",
    "vocab_after_stemming = set(stemmed_tokens)"
   ]
  },
  {
   "cell_type": "code",
   "execution_count": 22,
   "metadata": {},
   "outputs": [
    {
     "name": "stdout",
     "output_type": "stream",
     "text": [
      "The reduction rate of the vocabulary size after stemming is 0.306.\n"
     ]
    }
   ],
   "source": [
    "redunction_rate_after_stemming = (len(vocab) - len(vocab_after_stemming))/len(vocab)\n",
    "print(\"The reduction rate of the vocabulary size after stemming is %0.3f.\" %redunction_rate_after_stemming)"
   ]
  },
  {
   "cell_type": "markdown",
   "metadata": {},
   "source": [
    "Part 2 \n",
    "\n",
    "Next, perform an exploratory evaluation of the cleaned data and report the results. The exploration can include (but need not be limited to):\n",
    "\n",
    "1. counting the number of URLs in the data\n",
    "2. counting the number of dates in the data\n",
    "3. counting the number of numeric values in the data\n",
    "4. determining the 100 more frequent words that appear in the data\n",
    "5. plotting the frequency of the 10000 most frequently occurring words (do you seen any interesting patterns?)\n",
    "6. run the analysis in point 4 and 5 both before and after removing stopwords and applying stemming: do you see any difference?"
   ]
  },
  {
   "cell_type": "code",
   "execution_count": 23,
   "metadata": {},
   "outputs": [
    {
     "name": "stdout",
     "output_type": "stream",
     "text": [
      "the number of URLs in the data is 126\n",
      "the number of dates in the data is 61\n",
      "the number of numeric values in the data is 983\n"
     ]
    }
   ],
   "source": [
    "num_url = 0\n",
    "for i in string_of_contents.split(\" \"):\n",
    "    if i == \"<url>\":\n",
    "        num_url +=1\n",
    "num_dates = 0\n",
    "for i in string_of_contents.split(\" \"):\n",
    "    if i == \"<date>\":\n",
    "        num_dates +=1\n",
    "num_numeric = 0\n",
    "for i in string_of_contents.split(\" \"):\n",
    "    if i == \"<num>\":\n",
    "        num_numeric +=1        \n",
    "print(\"the number of URLs in the data is %d\" % num_url)\n",
    "print(\"the number of dates in the data is %d\" % num_dates)\n",
    "print(\"the number of numeric values in the data is %d\" % num_numeric)"
   ]
  },
  {
   "cell_type": "code",
   "execution_count": 25,
   "metadata": {},
   "outputs": [],
   "source": [
    "def count_words(vocabulary, tokens):\n",
    "    count_word = dict.fromkeys(vocabulary, 0)    \n",
    "    for i in tokens:\n",
    "        if i in count_word:\n",
    "            count_word[i]+=1\n",
    "    sorted_dict = dict(sorted(count_word.items(), key=lambda x: x[1], reverse=True))\n",
    "    return sorted_dict"
   ]
  },
  {
   "cell_type": "code",
   "execution_count": 26,
   "metadata": {},
   "outputs": [],
   "source": [
    "sorted_dict_original = count_words(vocab, tokens)"
   ]
  },
  {
   "cell_type": "code",
   "execution_count": 27,
   "metadata": {},
   "outputs": [
    {
     "name": "stdout",
     "output_type": "stream",
     "text": [
      "top 100 most frequent words are: [('the', 9471), (',', 8802), ('.', 7131), ('of', 4958), ('to', 4873), ('and', 4664), ('a', 3366), ('in', 3102), ('>', 2537), ('<', 2531), ('is', 2299), ('that', 2289), ('’', 2284), ('num', 2182), ('it', 1626), ('for', 1541), ('s', 1414), ('you', 1232), ('are', 1226), ('on', 1158), ('with', 1157), ('this', 1142), (':', 1093), ('as', 1079), ('i', 1005), ('“', 987), ('”', 930), ('be', 922), ('by', 836), ('have', 791), ('was', 788), ('not', 783), ('from', 708), (')', 706), ('(', 705), ('at', 704), ('we', 685), ('or', 684), ('they', 641), ('but', 593), ('your', 555), ('has', 543), ('can', 525), ('an', 519), ('their', 515), ('?', 491), ('all', 486), ('will', 486), ('more', 468), ('about', 462), ('what', 453), ('!', 451), ('he', 451), ('if', 448), ('one', 436), ('who', 422), ('there', 420), ('t', 392), ('which', 388), ('so', 387), ('people', 383), ('–', 365), ('our', 361), ('were', 357), ('his', 356), ('these', 348), ('been', 345), ('trump', 345), ('no', 336), ('like', 328), ('do', 326), ('would', 323), ('its', 304), ('when', 304), ('time', 290), ('us', 282), ('some', 281), ('also', 276), ('up', 271), ('new', 270), ('had', 268), ('out', 267), ('how', 264), (';', 260), ('blockchain', 260), ('my', 257), ('into', 253), ('other', 252), ('just', 245), ('any', 239), ('url', 232), ('now', 232), ('said', 229), ('only', 225), ('many', 225), ('than', 219), ('market', 216), ('next', 212), ('even', 211), ('&', 206)]\n"
     ]
    }
   ],
   "source": [
    "print(\"top 100 most frequent words are:\", list(sorted_dict_original.items())[:100])"
   ]
  },
  {
   "cell_type": "code",
   "execution_count": 28,
   "metadata": {},
   "outputs": [
    {
     "data": {
      "text/plain": [
       "[<matplotlib.lines.Line2D at 0x7febe4c5b1c0>]"
      ]
     },
     "execution_count": 28,
     "metadata": {},
     "output_type": "execute_result"
    },
    {
     "data": {
      "image/png": "[encoded data removed]",
      "text/plain": [
       "<Figure size 432x288 with 1 Axes>"
      ]
     },
     "metadata": {
      "needs_background": "light"
     },
     "output_type": "display_data"
    }
   ],
   "source": [
    "import matplotlib.pyplot as plt\n",
    "most_10000 = list(sorted_dict_original.values())[:10000]\n",
    "plt.plot(np.linspace(0,10000,10000),most_10000)"
   ]
  },
  {
   "cell_type": "code",
   "execution_count": 29,
   "metadata": {},
   "outputs": [
    {
     "name": "stdout",
     "output_type": "stream",
     "text": [
      "top 100 most frequent words are: [(',', 8802), ('.', 7131), ('>', 2537), ('<', 2531), ('’', 2284), ('num', 2182), (':', 1093), ('“', 987), ('”', 930), (')', 706), ('(', 705), ('?', 491), ('!', 451), ('one', 436), ('people', 383), ('–', 365), ('trump', 345), ('like', 328), ('would', 323), ('time', 290), ('us', 282), ('also', 276), ('new', 270), (';', 260), ('blockchain', 260), ('url', 232), ('said', 229), ('many', 225), ('market', 216), ('next', 212), ('even', 211), ('&', 206), ('could', 206), ('government', 199), ('think', 197), ('state', 192), ('president', 188), ('way', 188), ('two', 185), ('see', 183), ('``', 182), ('world', 180), ('first', 180), ('$', 176), ('life', 174), (\"''\", 170), ('may', 170), ('make', 167), ('%', 166), (\"'s\", 160), ('u.s.', 159), ('things', 157), ('take', 154), ('get', 151), ('years', 148), ('bitcoin', 147), ('obama', 145), ('much', 142), ('stocks', 141), ('—', 138), ('states', 137), ('fact', 136), ('-', 135), ('headline', 135), ('going', 134), ('use', 133), ('good', 132), ('exceed', 131), ('war', 130), ('searches', 130), ('year', 129), ('right', 128), ('power', 126), ('well', 126), ('need', 126), ('back', 125), ('date', 125), ('really', 120), ('russia', 119), ('clinton', 118), ('american', 118), ('part', 115), ('free', 114), ('money', 113), ('day', 113), ('global', 111), ('source', 111), ('know', 111), ('made', 110), ('last', 110), ('report', 109), ('something', 108), ('‘', 108), ('work', 108), ('help', 107), ('since', 106), ('news', 105), ('want', 103), ('used', 103), ('country', 101)]\n"
     ]
    },
    {
     "data": {
      "text/plain": [
       "[<matplotlib.lines.Line2D at 0x7febb04a34c0>]"
      ]
     },
     "execution_count": 29,
     "metadata": {},
     "output_type": "execute_result"
    },
    {
     "data": {
      "image/png": "[encoded data removed]",
      "text/plain": [
       "<Figure size 432x288 with 1 Axes>"
      ]
     },
     "metadata": {
      "needs_background": "light"
     },
     "output_type": "display_data"
    }
   ],
   "source": [
    "sorted_dict_without_sw = count_words(vocab_without_sw, tokens_without_sw)\n",
    "print(\"top 100 most frequent words are:\", list(sorted_dict_without_sw.items())[:100])\n",
    "most_10000_without_sw = list(sorted_dict_without_sw.values())[:10000]\n",
    "plt.plot(np.linspace(0,10000,10000),most_10000_without_sw)"
   ]
  },
  {
   "cell_type": "code",
   "execution_count": 30,
   "metadata": {},
   "outputs": [
    {
     "name": "stdout",
     "output_type": "stream",
     "text": [
      "top 100 most frequent words are: [('the', 9471), (',', 8802), ('.', 7131), ('of', 4958), ('to', 4875), ('and', 4664), ('a', 3366), ('in', 3102), ('>', 2537), ('<', 2531), ('is', 2299), ('that', 2289), ('’', 2284), ('num', 2182), ('it', 1930), ('for', 1541), ('s', 1414), ('you', 1232), ('are', 1226), ('on', 1159), ('with', 1157), ('be', 1143), ('thi', 1142), (':', 1093), ('as', 1079), ('i', 1005), ('“', 987), ('”', 930), ('have', 865), ('by', 836), ('wa', 789), ('not', 784), ('from', 708), (')', 706), ('(', 705), ('at', 704), ('we', 685), ('or', 684), ('they', 641), ('but', 593), ('your', 558), ('ha', 545), ('can', 525), ('an', 519), ('their', 516), ('will', 503), ('?', 491), ('all', 486), ('more', 468), ('about', 462), ('one', 460), ('what', 455), ('!', 451), ('he', 451), ('if', 448), ('who', 422), ('there', 420), ('like', 406), ('t', 392), ('time', 391), ('which', 388), ('so', 387), ('peopl', 386), ('do', 368), ('state', 365), ('–', 365), ('our', 362), ('hi', 359), ('were', 357), ('trump', 348), ('these', 348), ('been', 345), ('no', 337), ('other', 330), ('would', 323), ('use', 320), ('when', 304), ('market', 294), ('us', 282), ('some', 281), ('year', 277), ('also', 276), ('up', 273), ('new', 270), ('had', 268), ('out', 268), ('how', 264), (';', 260), ('blockchain', 260), ('make', 258), ('my', 257), ('into', 253), ('just', 245), ('ani', 239), ('thing', 233), ('url', 232), ('go', 232), ('now', 232), ('think', 230), ('said', 229)]\n"
     ]
    },
    {
     "data": {
      "text/plain": [
       "[<matplotlib.lines.Line2D at 0x7febe4d1f430>]"
      ]
     },
     "execution_count": 30,
     "metadata": {},
     "output_type": "execute_result"
    },
    {
     "data": {
      "image/png": "[encoded data removed]",
      "text/plain": [
       "<Figure size 432x288 with 1 Axes>"
      ]
     },
     "metadata": {
      "needs_background": "light"
     },
     "output_type": "display_data"
    }
   ],
   "source": [
    "sorted_dict_after_stemming = count_words(vocab_after_stemming, stemmed_tokens)\n",
    "print(\"top 100 most frequent words are:\", list(sorted_dict_after_stemming.items())[:100])\n",
    "most_10000_after_stemming = list(sorted_dict_after_stemming.values())[:10000]\n",
    "plt.plot(np.linspace(0,10000,10000),most_10000_after_stemming)"
   ]
  },
  {
   "cell_type": "code",
   "execution_count": null,
   "metadata": {},
   "outputs": [],
   "source": []
  },
  {
   "cell_type": "code",
   "execution_count": null,
   "metadata": {},
   "outputs": [],
   "source": []
  }
 ],
 "metadata": {
  "kernelspec": {
   "display_name": "Python 3",
   "language": "python",
   "name": "python3"
  },
  "language_info": {
   "codemirror_mode": {
    "name": "ipython",
    "version": 3
   },
   "file_extension": ".py",
   "mimetype": "text/x-python",
   "name": "python",
   "nbconvert_exporter": "python",
   "pygments_lexer": "ipython3",
   "version": "3.6.9"
  }
 },
 "nbformat": 4,
 "nbformat_minor": 4
}
