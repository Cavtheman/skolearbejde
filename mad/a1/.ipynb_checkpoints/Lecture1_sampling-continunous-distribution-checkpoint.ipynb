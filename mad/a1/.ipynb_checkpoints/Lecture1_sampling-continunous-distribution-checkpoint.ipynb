{
 "cells": [
  {
   "cell_type": "markdown",
   "metadata": {},
   "source": [
    "by Jonas Peters, Copenhagen, 11.11.2018\n"
   ]
  },
  {
   "cell_type": "code",
   "execution_count": 1,
   "metadata": {},
   "outputs": [],
   "source": [
    "import numpy as np\n",
    "import scipy.stats as scipystats\n",
    "import matplotlib.pyplot as plt\n",
    "%matplotlib inline\n",
    "\n"
   ]
  },
  {
   "cell_type": "markdown",
   "metadata": {},
   "source": [
    "Now, we can obtain a \"realization\" from the random variable $X \\sim U([1,4])$ as follows"
   ]
  },
  {
   "cell_type": "code",
   "execution_count": 2,
   "metadata": {},
   "outputs": [
    {
     "name": "stdout",
     "output_type": "stream",
     "text": [
      "2.198653109004481\n"
     ]
    }
   ],
   "source": [
    "X = np.random.uniform(1,4);\n",
    "print(X)"
   ]
  },
  {
   "cell_type": "markdown",
   "metadata": {},
   "source": [
    "If you do it again, we obtain a different value:"
   ]
  },
  {
   "cell_type": "code",
   "execution_count": 3,
   "metadata": {},
   "outputs": [
    {
     "name": "stdout",
     "output_type": "stream",
     "text": [
      "1.3417839807097927\n"
     ]
    }
   ],
   "source": [
    "X = np.random.uniform(1,4);\n",
    "print(X)"
   ]
  },
  {
   "cell_type": "markdown",
   "metadata": {},
   "source": [
    "We can even generate 100 independent realizations (this is usually called a \"sample\") by"
   ]
  },
  {
   "cell_type": "code",
   "execution_count": 4,
   "metadata": {},
   "outputs": [
    {
     "name": "stdout",
     "output_type": "stream",
     "text": [
      "[2.15365914 3.36610648 1.82522484 1.08917718 1.103343   2.03732054\n",
      " 1.83985317 1.12286068 2.87881428 3.99224245 1.33748832 1.30793916\n",
      " 2.94367659 2.25192405 3.51617323 2.85152226 2.27832713 1.85299672\n",
      " 1.79877769 1.12098105 1.37030154 3.71167037 3.72307801 2.26472627\n",
      " 2.2278216  3.71721084 3.41890726 3.42719518 3.98106717 3.62406959\n",
      " 1.67209586 2.30301153 3.31592293 2.62260241 1.09290187 3.09919788\n",
      " 3.179791   2.57047904 3.19979255 2.91819579 3.14882932 1.59431854\n",
      " 3.77595269 1.90009511 1.95224034 1.08955493 3.80503702 1.07272854\n",
      " 1.73842198 2.87567476 2.6608487  2.84470102 2.64342374 2.99934811\n",
      " 2.44588308 2.7193513  2.75089982 3.68137939 2.96897036 2.0974868\n",
      " 3.97122249 2.72126424 1.34264933 3.08138899 3.10020949 2.56578511\n",
      " 3.82357166 1.67712848 3.92247868 1.24968974 1.40553741 2.84733922\n",
      " 3.90037981 3.91586175 1.39501432 1.37536811 1.30868951 1.15990863\n",
      " 1.74890238 2.50274534 2.90987463 1.69927991 3.26668104 1.62892186\n",
      " 3.61688417 3.42414563 2.11286928 2.57758836 2.05293782 2.06595758\n",
      " 3.36275678 2.27462184 1.56801558 2.05572214 1.71901766 2.55416587\n",
      " 2.71677744 3.97488627 1.20804753 3.10090153]\n"
     ]
    }
   ],
   "source": [
    "X = np.random.uniform(1,4,100)\n",
    "print(X)"
   ]
  },
  {
   "cell_type": "code",
   "execution_count": null,
   "metadata": {},
   "outputs": [],
   "source": [
    "plt.plot(X, np.ones(100), 'x')\n",
    "plt.show()"
   ]
  },
  {
   "cell_type": "markdown",
   "metadata": {},
   "source": [
    "The sample mean $\\frac{1}{n} \\sum_{i=1}^n X_i$ is roughly the expected mean $\\mathbb{E} X = ?$ (see Chapter \"Statistics\")."
   ]
  },
  {
   "cell_type": "code",
   "execution_count": null,
   "metadata": {},
   "outputs": [],
   "source": [
    "samplemean = np.mean(X)\n",
    "print(samplemean)"
   ]
  },
  {
   "cell_type": "markdown",
   "metadata": {},
   "source": [
    "We can sample from other distributions, too! The following samples from a joint Gaussian distribution. The first parameters are mean X, mean Y, var X, cov(X,Y), cov(X,Y), var Y, respectively (300 is the sample size)."
   ]
  },
  {
   "cell_type": "code",
   "execution_count": null,
   "metadata": {},
   "outputs": [],
   "source": [
    "X, Y = np.random.multivariate_normal([-4, -5], [[2, 0.8], [0.8, 1]], 300).T\n",
    "plt.plot(X, Y, 'x')\n",
    "plt.axis('equal')\n",
    "plt.show()"
   ]
  },
  {
   "cell_type": "markdown",
   "metadata": {},
   "source": [
    "How can we generate a sample of size 402 from $X \\sim Exp(10)$ and $Y \\sim Exp(20)$?"
   ]
  },
  {
   "cell_type": "code",
   "execution_count": null,
   "metadata": {},
   "outputs": [],
   "source": [
    "X = np.random.exponential(10,402)\n",
    "Y = np.random.exponential(20,402)\n",
    "plt.plot(X, Y, 'x')\n",
    "plt.show()"
   ]
  },
  {
   "cell_type": "code",
   "execution_count": null,
   "metadata": {},
   "outputs": [],
   "source": []
  },
  {
   "cell_type": "markdown",
   "metadata": {},
   "source": [
    "NB: The Gaussian pdf decays very quickly."
   ]
  },
  {
   "cell_type": "markdown",
   "metadata": {},
   "source": [
    "One requires a sample size of\n",
    "$$\n",
    "n \\geq -\\log(2)/\\log(1-2F(-a))\n",
    "$$\n",
    "to make sure that the probability that ``one of the absolute values is larger than a'' is larger than 0.5.\n"
   ]
  },
  {
   "cell_type": "code",
   "execution_count": null,
   "metadata": {},
   "outputs": [],
   "source": [
    "print(-np.log(2)/np.log(1-2*scipystats.norm.cdf(-3)))\n",
    "print(-np.log(2)/np.log(1-2*scipystats.norm.cdf(-4)))\n",
    "print(-np.log(2)/np.log(1-2*scipystats.norm.cdf(-7)))\n"
   ]
  },
  {
   "cell_type": "code",
   "execution_count": null,
   "metadata": {},
   "outputs": [],
   "source": [
    "n = 257\n",
    "#n = 10943\n",
    "n = 1209041\n",
    "for i in range(20): \n",
    "  X = np.random.normal(0,1,n)/np.random.normal(0,1,n)\n",
    "  print(max(abs(X)))"
   ]
  },
  {
   "cell_type": "code",
   "execution_count": null,
   "metadata": {
    "collapsed": true
   },
   "outputs": [],
   "source": []
  },
  {
   "cell_type": "code",
   "execution_count": null,
   "metadata": {
    "collapsed": true
   },
   "outputs": [],
   "source": []
  }
 ],
 "metadata": {
  "anaconda-cloud": {},
  "kernelspec": {
   "display_name": "Python 3",
   "language": "python",
   "name": "python3"
  },
  "language_info": {
   "codemirror_mode": {
    "name": "ipython",
    "version": 3
   },
   "file_extension": ".py",
   "mimetype": "text/x-python",
   "name": "python",
   "nbconvert_exporter": "python",
   "pygments_lexer": "ipython3",
   "version": "3.7.1"
  }
 },
 "nbformat": 4,
 "nbformat_minor": 1
}
