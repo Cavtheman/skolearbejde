{
 "cells": [
  {
   "cell_type": "markdown",
   "metadata": {},
   "source": [
    "# Confidence Intervals"
   ]
  },
  {
   "cell_type": "markdown",
   "metadata": {},
   "source": [
    "Jonas Peters, 20.11.2018"
   ]
  },
  {
   "cell_type": "code",
   "execution_count": 2,
   "metadata": {},
   "outputs": [],
   "source": [
    "import scipy.stats\n",
    "import matplotlib.pyplot as plt\n",
    "%matplotlib inline  \n",
    "import numpy as np"
   ]
  },
  {
   "cell_type": "code",
   "execution_count": 29,
   "metadata": {},
   "outputs": [
    {
     "name": "stdout",
     "output_type": "stream",
     "text": [
      "186\n"
     ]
    }
   ],
   "source": [
    "np.random.seed(111)\n",
    "mu = 3.7\n",
    "sigma = 2\n",
    "n = 9\n",
    "nexp = 10000\n",
    "counter = 0\n",
    "for i in range(nexp):\n",
    "    x = np.random.normal(mu,sigma,n) # simulates n realizations from a Gaussian with mean mu and var sigma^2\n",
    "    sig = (n * np.var(x))/(n-1) # TODO: adapt for b)\n",
    "    fac1 = scipy.stats.t.ppf(0.025, n-1) # computes the 0.025quantile of a Gaussian, roughly -1.96 \n",
    "    fac2 = scipy.stats.t.ppf(0.975, n-1) # computes the 0.975quantile of a Gaussian, roughly 1.96 \n",
    "    # scipy.stats.t.ppf(r, n-1)\n",
    "    a = np.mean(x) - fac2*sig/np.sqrt(n) # TODO: adapt for c)\n",
    "    b = np.mean(x) - fac1*sig/np.sqrt(n) # TODO: adapt for c)\n",
    "    if (a < mu) & (mu < b):\n",
    "        if nexp < 1000:\n",
    "            plt.plot((a, b), (i, i), 'k-')\n",
    "    else:\n",
    "        counter = counter + 1\n",
    "        if nexp < 1000:\n",
    "            plt.plot((a, b), (i, i), 'r-')\n",
    "if nexp < 1000:\n",
    "    plt.plot((mu, mu), (0, nexp), 'b-')\n",
    "    plt.show()\n",
    "print(counter)\n",
    "\n"
   ]
  },
  {
   "cell_type": "markdown",
   "metadata": {
    "collapsed": true
   },
   "source": [
    "## 4.b"
   ]
  },
  {
   "cell_type": "code",
   "execution_count": 32,
   "metadata": {},
   "outputs": [
    {
     "name": "stdout",
     "output_type": "stream",
     "text": [
      "1.8090680674665818\n"
     ]
    }
   ],
   "source": [
    "inArr = [1,0.5,-0.5,1.5,0.5]\n",
    "def sigma2(values):\n",
    "    retVal = 0\n",
    "    mean = np.sum(values)/len(values)\n",
    "    for i in range(len(values)):\n",
    "        retVal += (values[i]-mean)**2\n",
    "    return retVal/(len(values)-1)\n",
    "calcSig = sigma2(inArr)\n",
    "\n",
    "def T(sigma2, mu, values):\n",
    "    return np.sqrt(len(values))*(np.sum(values)/len(values)-mu)/np.sqrt(sigma2)\n",
    "\n",
    "print(T(calcSig, 0, inArr))"
   ]
  },
  {
   "cell_type": "code",
   "execution_count": null,
   "metadata": {},
   "outputs": [],
   "source": []
  }
 ],
 "metadata": {
  "anaconda-cloud": {},
  "kernelspec": {
   "display_name": "Python 3",
   "language": "python",
   "name": "python3"
  },
  "language_info": {
   "codemirror_mode": {
    "name": "ipython",
    "version": 3
   },
   "file_extension": ".py",
   "mimetype": "text/x-python",
   "name": "python",
   "nbconvert_exporter": "python",
   "pygments_lexer": "ipython3",
   "version": "3.7.1"
  }
 },
 "nbformat": 4,
 "nbformat_minor": 1
}
