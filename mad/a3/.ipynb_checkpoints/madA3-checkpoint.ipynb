{
 "cells": [
  {
   "cell_type": "code",
   "execution_count": 7,
   "metadata": {},
   "outputs": [],
   "source": [
    "import numpy as np"
   ]
  },
  {
   "cell_type": "markdown",
   "metadata": {},
   "source": [
    "## Exercise 1a"
   ]
  },
  {
   "cell_type": "code",
   "execution_count": 11,
   "metadata": {},
   "outputs": [
    {
     "ename": "SyntaxError",
     "evalue": "invalid syntax (<ipython-input-11-7f899ffb4151>, line 15)",
     "output_type": "error",
     "traceback": [
      "\u001b[0;36m  File \u001b[0;32m\"<ipython-input-11-7f899ffb4151>\"\u001b[0;36m, line \u001b[0;32m15\u001b[0m\n\u001b[0;31m    retVal[] = len(data) * np.mean(data)\u001b[0m\n\u001b[0m           ^\u001b[0m\n\u001b[0;31mSyntaxError\u001b[0m\u001b[0;31m:\u001b[0m invalid syntax\n"
     ]
    }
   ],
   "source": [
    "# load data\n",
    "train_data = numpy.loadtxt(\"boston_train.csv\", delimiter=\",\")\n",
    "test_data = numpy.loadtxt(\"boston_test.csv\", delimiter=\",\")\n",
    "X_train, t_train = train_data[:,:-1], train_data[:,-1]\n",
    "X_test, t_test = test_data[:,:-1], test_data[:,-1]\n",
    "# make sure that we have N-dimensional Numpy arrays (ndarray)\n",
    "t_train = t_train.reshape((len(t_train), 1))\n",
    "t_test = t_test.reshape((len(t_test), 1))\n",
    "print(\"Number of training instances: %i\" % X_train.shape[0])\n",
    "print(\"Number of test instances: %i\" % X_test.shape[0])\n",
    "print(\"Number of features: %i\" % X_train.shape[1])\n",
    "\n",
    "# (a) compute mean of prices on training set\n",
    "def meanEst(data):\n",
    "    retVal =  [np.mean(data)] * len(data)\n",
    "    return retVal\n",
    "    \n",
    "print(\"Mean of training set: {}\".format(meanEst(t_train)))\n",
    "\n",
    "# (b) RMSE function\n",
    "#def rmse(t, tp):\n",
    "    \n",
    "\n",
    "# (c) visualization of results"
   ]
  },
  {
   "cell_type": "code",
   "execution_count": null,
   "metadata": {},
   "outputs": [],
   "source": []
  }
 ],
 "metadata": {
  "kernelspec": {
   "display_name": "Python 3",
   "language": "python",
   "name": "python3"
  },
  "language_info": {
   "codemirror_mode": {
    "name": "ipython",
    "version": 3
   },
   "file_extension": ".py",
   "mimetype": "text/x-python",
   "name": "python",
   "nbconvert_exporter": "python",
   "pygments_lexer": "ipython3",
   "version": "3.7.1"
  }
 },
 "nbformat": 4,
 "nbformat_minor": 2
}
