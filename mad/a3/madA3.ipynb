{
 "cells": [
  {
   "cell_type": "code",
   "execution_count": 6,
   "metadata": {},
   "outputs": [
    {
     "name": "stdout",
     "output_type": "stream",
     "text": [
      "Number of training instances: 253\n",
      "Number of test instances: 253\n",
      "Number of features: 13\n"
     ]
    }
   ],
   "source": [
    "# %load housing_1.py\n",
    "import numpy as np\n",
    "\n",
    "# load data\n",
    "train_data = np.loadtxt(\"boston_train.csv\", delimiter=\",\")\n",
    "test_data = np.loadtxt(\"boston_test.csv\", delimiter=\",\")\n",
    "X_train, t_train = train_data[:,:-1], train_data[:,-1]\n",
    "X_test, t_test = test_data[:,:-1], test_data[:,-1]\n",
    "# make sure that we have N-dimensional Numpy arrays (ndarray)\n",
    "t_train = t_train.reshape((len(t_train), 1))\n",
    "t_test = t_test.reshape((len(t_test), 1))\n",
    "print(\"Number of training instances: %i\" % X_train.shape[0])\n",
    "print(\"Number of test instances: %i\" % X_test.shape[0])\n",
    "print(\"Number of features: %i\" % X_train.shape[1])\n",
    "\n",
    "# (a) compute mean of prices on training set\n",
    "\n",
    "# (b) RMSE function\n",
    "# def rmse(t, tp):\n",
    "#     ...\n",
    "\n",
    "# (c) visualization of results\n",
    "\n"
   ]
  },
  {
   "cell_type": "markdown",
   "metadata": {},
   "source": [
    "## Exercise 1a"
   ]
  },
  {
   "cell_type": "code",
   "execution_count": 12,
   "metadata": {},
   "outputs": [
    {
     "name": "stdout",
     "output_type": "stream",
     "text": [
      "Mean of training set: 22.016600790513834\n",
      "Root Mean Square Error: 9.672477972746305\n"
     ]
    },
    {
     "data": {
      "image/png": "[encoded data removed]",
      "text/plain": [
       "<Figure size 432x288 with 1 Axes>"
      ]
     },
     "metadata": {
      "needs_background": "light"
     },
     "output_type": "display_data"
    }
   ],
   "source": [
    "# Calculates the mean and returns an array of the same length\n",
    "# as the input, filled with the mean\n",
    "def meanEst(data):\n",
    "    return np.full((len(data),1),np.mean(data))\n",
    "\n",
    "print(\"Mean of training set: {}\".format(meanEst(t_train)[0,0]))\n",
    "\n",
    "# (b) RMSE function\n",
    "def rmse(t, tp):\n",
    "    return np.sqrt(1/len(t)*np.sum(abs(t-tp)**2))\n",
    "\n",
    "print(\"Root Mean Square Error: {}\".format(rmse(t_test, meanEst(t_train))))\n",
    "\n",
    "# (c) visualization of results\n",
    "plt.plot(t_test, linestyle='none', marker='.', label='Test Data')\n",
    "plt.plot(meanEst(t_test), label='Mean Estimator')\n",
    "plt.legend()\n",
    "plt.show()"
   ]
  },
  {
   "cell_type": "markdown",
   "metadata": {},
   "source": [
    "## Exercise 2a"
   ]
  },
  {
   "cell_type": "code",
   "execution_count": 10,
   "metadata": {},
   "outputs": [
    {
     "name": "stdout",
     "output_type": "stream",
     "text": [
      "Number of training instances: 253\n",
      "Number of test instances: 253\n",
      "Number of features: 13\n"
     ]
    }
   ],
   "source": [
    "# %load housing_2.py\n",
    "import numpy\n",
    "import pandas\n",
    "import linreg\n",
    "import matplotlib.pyplot as plt\n",
    "\n",
    "# load data\n",
    "train_data = numpy.loadtxt(\"boston_train.csv\", delimiter=\",\")\n",
    "test_data = numpy.loadtxt(\"boston_test.csv\", delimiter=\",\")\n",
    "X_train, t_train = train_data[:,:-1], train_data[:,-1]\n",
    "X_test, t_test = test_data[:,:-1], test_data[:,-1]\n",
    "# make sure that we have N-dimensional Numpy arrays (ndarray)\n",
    "t_train = t_train.reshape((len(t_train), 1))\n",
    "t_test = t_test.reshape((len(t_test), 1))\n",
    "print(\"Number of training instances: %i\" % X_train.shape[0])\n",
    "print(\"Number of test instances: %i\" % X_test.shape[0])\n",
    "print(\"Number of features: %i\" % X_train.shape[1])\n",
    "\n",
    "# (a) fit linear regression using only the first feature\n",
    "model_single = linreg.LinearRegression()\n",
    "model_single.fit(X_train[:,0], t_train)\n",
    "\n",
    "# (b) fit linear regression model using all features\n",
    "\n",
    "# (c) evaluation of results\n",
    "\n"
   ]
  },
  {
   "cell_type": "code",
   "execution_count": null,
   "metadata": {},
   "outputs": [],
   "source": []
  }
 ],
 "metadata": {
  "kernelspec": {
   "display_name": "Python 3",
   "language": "python",
   "name": "python3"
  },
  "language_info": {
   "codemirror_mode": {
    "name": "ipython",
    "version": 3
   },
   "file_extension": ".py",
   "mimetype": "text/x-python",
   "name": "python",
   "nbconvert_exporter": "python",
   "pygments_lexer": "ipython3",
   "version": "3.7.1"
  }
 },
 "nbformat": 4,
 "nbformat_minor": 2
}
