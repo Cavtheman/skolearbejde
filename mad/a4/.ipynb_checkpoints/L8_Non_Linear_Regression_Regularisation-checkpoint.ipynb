{
 "cells": [
  {
   "cell_type": "code",
   "execution_count": 1,
   "metadata": {},
   "outputs": [],
   "source": [
    "import numpy\n",
    "import matplotlib.pyplot as plt\n",
    "import linreg"
   ]
  },
  {
   "cell_type": "code",
   "execution_count": 2,
   "metadata": {},
   "outputs": [],
   "source": [
    "# number of data points\n",
    "n_points = 10\n",
    "\n",
    "# maximum degree \n",
    "max_degree = 7"
   ]
  },
  {
   "cell_type": "code",
   "execution_count": 3,
   "metadata": {},
   "outputs": [
    {
     "name": "stdout",
     "output_type": "stream",
     "text": [
      "Shape of our data matrix: (10, 1)\n",
      "Shape of our target vector: (10, 1)\n"
     ]
    }
   ],
   "source": [
    "# set a seed here to initialize the random number generator\n",
    "# (such that we get the same dataset each time this cell is executed)\n",
    "numpy.random.seed(1)\n",
    "\n",
    "# let's generate some \"non-linear\" data; note\n",
    "# that the sorting step is done for visualization\n",
    "# purposes only (to plot the models as connected lines)\n",
    "X = numpy.random.uniform(-10,10, n_points)\n",
    "t = X**2 + numpy.random.random(n_points) * 25\n",
    "\n",
    "# reshape both arrays to make sure that we deal with\n",
    "# N-dimensional Numpy arrays\n",
    "t = t.reshape((len(t), 1))\n",
    "X = X.reshape((len(X),1))\n",
    "print(\"Shape of our data matrix: %s\" % str(X.shape))\n",
    "print(\"Shape of our target vector: %s\" % str(t.shape))"
   ]
  },
  {
   "cell_type": "code",
   "execution_count": 4,
   "metadata": {},
   "outputs": [
    {
     "name": "stdout",
     "output_type": "stream",
     "text": [
      "Augmented with order 2 ...\n",
      "Augmented with order 3 ...\n",
      "Augmented with order 4 ...\n",
      "Augmented with order 5 ...\n",
      "Augmented with order 6 ...\n",
      "Augmented with order 7 ...\n"
     ]
    }
   ],
   "source": [
    "def augment(X, max_order):\n",
    "    \"\"\" Augments a given data\n",
    "    matrix by adding additional \n",
    "    columns.\n",
    "    \n",
    "    NOTE: In case max_order is very large, \n",
    "    numerical inaccuracies might occur\n",
    "    \"\"\"\n",
    "    \n",
    "    X_augmented = X\n",
    "    \n",
    "    for i in range(2, max_order+1):\n",
    "        print(\"Augmented with order %i ...\" % i)\n",
    "        X_augmented = numpy.concatenate([X_augmented, X**i], axis=1)\n",
    "        \n",
    "    return X_augmented\n",
    "\n",
    "Xnew = augment(X, max_degree)\n"
   ]
  },
  {
   "cell_type": "code",
   "execution_count": 5,
   "metadata": {},
   "outputs": [],
   "source": [
    "# fit linear regression model using the augmented data matrix\n",
    "# try the following values: lam=0.0, lam=10**2, lam=10**5, lam=10**10, lam=10**15\n",
    "model = linreg.LinearRegression(lam=0.0)\n",
    "model.fit(Xnew,t)\n",
    "preds = model.predict(Xnew)\n"
   ]
  },
  {
   "cell_type": "code",
   "execution_count": 6,
   "metadata": {},
   "outputs": [
    {
     "name": "stdout",
     "output_type": "stream",
     "text": [
      "Augmented with order 2 ...\n",
      "Augmented with order 3 ...\n",
      "Augmented with order 4 ...\n",
      "Augmented with order 5 ...\n",
      "Augmented with order 6 ...\n",
      "Augmented with order 7 ...\n"
     ]
    },
    {
     "data": {
      "image/png": "[encoded data removed]",
      "text/plain": [
       "<Figure size 432x288 with 1 Axes>"
      ]
     },
     "metadata": {
      "needs_background": "light"
     },
     "output_type": "display_data"
    }
   ],
   "source": [
    "# same plot as before but with some more points\n",
    "# for plotting the model ...\n",
    "Xplot = numpy.arange(X.min(), X.max(), 0.01)\n",
    "Xplot = Xplot.reshape((len(Xplot), 1))\n",
    "Xplot = augment(Xplot, max_degree)\n",
    "preds_plot = model.predict(Xplot)\n",
    "\n",
    "plt.plot(Xnew[:,0], t, 'o')\n",
    "plt.plot(Xnew[:,0], preds, 'x', color='red')\n",
    "plt.plot(Xplot[:,0], preds_plot, '-', color='red')\n",
    "\n",
    "plt.show()"
   ]
  },
  {
   "cell_type": "code",
   "execution_count": null,
   "metadata": {},
   "outputs": [],
   "source": []
  },
  {
   "cell_type": "code",
   "execution_count": null,
   "metadata": {},
   "outputs": [],
   "source": []
  }
 ],
 "metadata": {
  "kernelspec": {
   "display_name": "Python 3",
   "language": "python",
   "name": "python3"
  },
  "language_info": {
   "codemirror_mode": {
    "name": "ipython",
    "version": 3
   },
   "file_extension": ".py",
   "mimetype": "text/x-python",
   "name": "python",
   "nbconvert_exporter": "python",
   "pygments_lexer": "ipython3",
   "version": "3.7.1"
  }
 },
 "nbformat": 4,
 "nbformat_minor": 2
}
