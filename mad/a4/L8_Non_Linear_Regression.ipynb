{
 "cells": [
  {
   "cell_type": "code",
   "execution_count": 2,
   "metadata": {},
   "outputs": [],
   "source": [
    "import numpy\n",
    "import matplotlib.pyplot as plt\n",
    "import linreg"
   ]
  },
  {
   "cell_type": "code",
   "execution_count": 3,
   "metadata": {},
   "outputs": [],
   "source": [
    "# number of data points\n",
    "n_points = 15\n",
    "\n",
    "# maximum degree \n",
    "max_degree = 2"
   ]
  },
  {
   "cell_type": "code",
   "execution_count": 4,
   "metadata": {},
   "outputs": [
    {
     "name": "stdout",
     "output_type": "stream",
     "text": [
      "[-1.65955991  4.40648987 -9.9977125  -3.95334855 -7.06488218 -8.1532281\n",
      " -6.27479577 -3.08878546 -2.06465052  0.77633468 -1.61610971  3.70439001\n",
      " -5.91095501  7.56234873 -9.45224814]\n",
      "[ 19.51582684  29.84977302 113.92150102  19.1386382   54.8650975\n",
      "  86.49374274  63.57960138  17.37620007  21.57084714  22.51242434\n",
      "  24.97697719  15.84861062  35.91575866  61.43487877 111.29855741]\n",
      "Shape of our data matrix: (15, 1)\n",
      "Shape of our target vector: (15, 1)\n"
     ]
    }
   ],
   "source": [
    "# set a seed here to initialize the random number generator\n",
    "# (such that we get the same dataset each time this cell is executed)\n",
    "numpy.random.seed(1)\n",
    "\n",
    "# let's generate some \"non-linear\" data; note\n",
    "# that the sorting step is done for visualization\n",
    "# purposes only (to plot the models as connected lines)\n",
    "X = numpy.random.uniform(-10,10, n_points)\n",
    "t = X**2 + numpy.random.random(n_points) * 25\n",
    "\n",
    "print(X)\n",
    "print(t)\n",
    "# reshape both arrays to make sure that we deal with\n",
    "# N-dimensional Numpy arrays\n",
    "t = t.reshape((len(t), 1))\n",
    "X = X.reshape((len(X),1))\n",
    "print(\"Shape of our data matrix: %s\" % str(X.shape))\n",
    "print(\"Shape of our target vector: %s\" % str(t.shape))"
   ]
  },
  {
   "cell_type": "code",
   "execution_count": 5,
   "metadata": {},
   "outputs": [],
   "source": [
    "# instantiate the regression model\n",
    "model = linreg.LinearRegression()\n",
    "\n",
    "# fit the model\n",
    "model.fit(X,t)\n",
    "\n",
    "# get predictions for the data points\n",
    "preds = model.predict(X)"
   ]
  },
  {
   "cell_type": "code",
   "execution_count": 6,
   "metadata": {},
   "outputs": [
    {
     "data": {
      "image/png": "[encoded data removed]",
      "text/plain": [
       "<Figure size 432x288 with 1 Axes>"
      ]
     },
     "metadata": {
      "needs_background": "light"
     },
     "output_type": "display_data"
    }
   ],
   "source": [
    "# plot the points and the linear regression model\n",
    "plt.plot(X, t, 'o')\n",
    "plt.plot(X, preds, 'x', color='red')\n",
    "plt.show()"
   ]
  },
  {
   "cell_type": "code",
   "execution_count": 7,
   "metadata": {},
   "outputs": [
    {
     "name": "stdout",
     "output_type": "stream",
     "text": [
      "Augmented with order 2 ...\n",
      "Shape of augmented data matrix: (15, 2)\n"
     ]
    }
   ],
   "source": [
    "def augment(X, max_order):\n",
    "    \"\"\" Augments a given data\n",
    "    matrix by adding additional \n",
    "    columns.\n",
    "    \n",
    "    NOTE: In case max_order is very large, \n",
    "    numerical inaccuracies might occur\n",
    "    \"\"\"\n",
    "    \n",
    "    X_augmented = X\n",
    "    \n",
    "    for i in range(2, max_order+1):\n",
    "        print(\"Augmented with order %i ...\" % i)\n",
    "        X_augmented = numpy.concatenate([X_augmented, X**i], axis=1)\n",
    "        \n",
    "    return X_augmented\n",
    "\n",
    "Xnew = augment(X, max_degree)\n",
    "print(\"Shape of augmented data matrix: %s\" % str(Xnew.shape))"
   ]
  },
  {
   "cell_type": "code",
   "execution_count": 8,
   "metadata": {},
   "outputs": [
    {
     "data": {
      "image/png": "[encoded data removed]",
      "text/plain": [
       "<Figure size 432x288 with 1 Axes>"
      ]
     },
     "metadata": {
      "needs_background": "light"
     },
     "output_type": "display_data"
    }
   ],
   "source": [
    "# fit linear regression model using the augmented data matrix\n",
    "model = linreg.LinearRegression()\n",
    "model.fit(Xnew,t)\n",
    "preds = model.predict(Xnew)\n",
    "\n",
    "# plot the results: only use the first column of the augmented\n",
    "# data matrix, which corresponds to the original one-dimensional\n",
    "# input variables\n",
    "plt.plot(Xnew[:,0], t, 'o')\n",
    "plt.plot(Xnew[:,0], preds, 'x', color='red')\n",
    "\n",
    "plt.show()"
   ]
  },
  {
   "cell_type": "code",
   "execution_count": 9,
   "metadata": {},
   "outputs": [
    {
     "name": "stdout",
     "output_type": "stream",
     "text": [
      "Augmented with order 2 ...\n"
     ]
    },
    {
     "data": {
      "image/png": "[encoded data removed]",
      "text/plain": [
       "<Figure size 432x288 with 1 Axes>"
      ]
     },
     "metadata": {
      "needs_background": "light"
     },
     "output_type": "display_data"
    }
   ],
   "source": [
    "# same plot as before but with some more points\n",
    "# for plotting the model ...\n",
    "Xplot = numpy.arange(X.min(), X.max(), 0.01)\n",
    "Xplot = Xplot.reshape((len(Xplot), 1))\n",
    "Xplot = augment(Xplot, max_degree)\n",
    "preds_plot = model.predict(Xplot)\n",
    "\n",
    "plt.plot(Xnew[:,0], t, 'o')\n",
    "plt.plot(Xnew[:,0], preds, 'x', color='red')\n",
    "plt.plot(Xplot[:,0], preds_plot, '-', color='red')\n",
    "\n",
    "plt.show()"
   ]
  },
  {
   "cell_type": "code",
   "execution_count": null,
   "metadata": {},
   "outputs": [],
   "source": []
  },
  {
   "cell_type": "code",
   "execution_count": null,
   "metadata": {},
   "outputs": [],
   "source": []
  }
 ],
 "metadata": {
  "kernelspec": {
   "display_name": "Python 3",
   "language": "python",
   "name": "python3"
  },
  "language_info": {
   "codemirror_mode": {
    "name": "ipython",
    "version": 3
   },
   "file_extension": ".py",
   "mimetype": "text/x-python",
   "name": "python",
   "nbconvert_exporter": "python",
   "pygments_lexer": "ipython3",
   "version": "3.7.1"
  }
 },
 "nbformat": 4,
 "nbformat_minor": 2
}
