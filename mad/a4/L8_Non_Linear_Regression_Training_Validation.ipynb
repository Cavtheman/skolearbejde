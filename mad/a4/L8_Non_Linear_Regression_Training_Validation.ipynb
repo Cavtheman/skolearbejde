{
 "cells": [
  {
   "cell_type": "code",
   "execution_count": 1,
   "metadata": {},
   "outputs": [],
   "source": [
    "import numpy\n",
    "import matplotlib.pyplot as plt\n",
    "import linreg"
   ]
  },
  {
   "cell_type": "code",
   "execution_count": 2,
   "metadata": {},
   "outputs": [
    {
     "name": "stdout",
     "output_type": "stream",
     "text": [
      "Shape of our data matrix: (80, 1)\n",
      "Shape of our target vector: (80, 1)\n"
     ]
    }
   ],
   "source": [
    "# set a seed here to initialize the random number generator\n",
    "# (such that we get the same dataset each time this cell is executed)\n",
    "numpy.random.seed(2)\n",
    "\n",
    "# note: using large values here might lead to numerical inaccuracies\n",
    "order_range = range(2,16)\n",
    "\n",
    "# let's generate some \"non-linear\" data; not\n",
    "# that the sorting step is done for visualization\n",
    "# purposes only (to plot the models as connected lines)\n",
    "X = numpy.random.uniform(-10,10,80)\n",
    "t = X**2 + numpy.random.random(80) * 25\n",
    "\n",
    "# reshape both arrays to make sure that we deal with\n",
    "# N-dimensional Numpy arrays\n",
    "X = X.reshape((len(X),1))\n",
    "t = t.reshape((len(t), 1))\n",
    "print(\"Shape of our data matrix: %s\" % str(X.shape))\n",
    "print(\"Shape of our target vector: %s\" % str(t.shape))"
   ]
  },
  {
   "cell_type": "code",
   "execution_count": 3,
   "metadata": {},
   "outputs": [],
   "source": [
    "def augment(X, max_order):\n",
    "    \"\"\" Augments a given data\n",
    "    matrix by adding additional \n",
    "    columns.\n",
    "    \n",
    "    NOTE: In case max_order is very large, \n",
    "    numerical inaccuracies might occur\n",
    "    \"\"\"\n",
    "    \n",
    "    X_augmented = X\n",
    "    \n",
    "    for i in range(2, max_order+1):\n",
    "        X_augmented = numpy.concatenate([X_augmented, X**i], axis=1)\n",
    "        \n",
    "    return X_augmented"
   ]
  },
  {
   "cell_type": "code",
   "execution_count": 4,
   "metadata": {},
   "outputs": [
    {
     "name": "stdout",
     "output_type": "stream",
     "text": [
      "Shape of augmented data matrix: (40, 2)\n",
      "Shape of augmented data matrix: (40, 3)\n",
      "Shape of augmented data matrix: (40, 4)\n",
      "Shape of augmented data matrix: (40, 5)\n",
      "Shape of augmented data matrix: (40, 6)\n",
      "Shape of augmented data matrix: (40, 7)\n",
      "Shape of augmented data matrix: (40, 8)\n",
      "Shape of augmented data matrix: (40, 9)\n",
      "Shape of augmented data matrix: (40, 10)\n",
      "Shape of augmented data matrix: (40, 11)\n",
      "Shape of augmented data matrix: (40, 12)\n",
      "Shape of augmented data matrix: (40, 13)\n",
      "Shape of augmented data matrix: (40, 14)\n",
      "Shape of augmented data matrix: (40, 15)\n"
     ]
    }
   ],
   "source": [
    "# let's split the dataset into a \"training\" and \"validation\" set\n",
    "X_train = X[:len(X)//2]\n",
    "X_train = X_train.reshape((len(X_train),1))\n",
    "t_train = t[:len(t)//2]\n",
    "\n",
    "X_val = X[len(X)//2:]\n",
    "X_val = X_val.reshape((len(X_val),1))\n",
    "t_val = t[len(t)//2:]\n",
    "\n",
    "errors_train = []\n",
    "errors_validation = []\n",
    "for order in order_range:\n",
    "    \n",
    "    X_train_augmented = augment(X_train, order)\n",
    "    X_val_augmented = augment(X_val, order)\n",
    "    print(\"Shape of augmented data matrix: %s\" % str(X_train_augmented.shape))\n",
    "        \n",
    "    # fit model on training set\n",
    "    model = linreg.LinearRegression()\n",
    "    model.fit(X_train_augmented, t_train)\n",
    "\n",
    "    # get training predictions and error \n",
    "    preds_train = model.predict(X_train_augmented)\n",
    "    error_train = ((preds_train - t_train)**2).mean()\n",
    "    \n",
    "    # get validation predictions and error\n",
    "    preds_val = model.predict(X_val_augmented)\n",
    "    error_val = ((preds_val - t_val)**2).mean()\n",
    "    \n",
    "    errors_train.append(error_train)\n",
    "    errors_validation.append(error_val)"
   ]
  },
  {
   "cell_type": "code",
   "execution_count": 5,
   "metadata": {},
   "outputs": [
    {
     "data": {
      "image/png": "[encoded data removed]",
      "text/plain": [
       "<Figure size 432x288 with 1 Axes>"
      ]
     },
     "metadata": {
      "needs_background": "light"
     },
     "output_type": "display_data"
    },
    {
     "data": {
      "image/png": "[encoded data removed]",
      "text/plain": [
       "<Figure size 432x288 with 1 Axes>"
      ]
     },
     "metadata": {
      "needs_background": "light"
     },
     "output_type": "display_data"
    }
   ],
   "source": [
    "# training loss plot\n",
    "plt.plot(order_range, errors_train)\n",
    "plt.xticks(order_range)\n",
    "\n",
    "# validation loss plot\n",
    "plt.figure()\n",
    "plt.xticks(order_range)\n",
    "plt.plot(order_range, numpy.array(errors_validation))\n",
    "# logscale for this plot since values are increasing rapidly!\n",
    "plt.yscale(\"log\", nonposy='clip')\n",
    "plt.show()"
   ]
  },
  {
   "cell_type": "code",
   "execution_count": null,
   "metadata": {},
   "outputs": [],
   "source": []
  }
 ],
 "metadata": {
  "kernelspec": {
   "display_name": "Python 3",
   "language": "python",
   "name": "python3"
  },
  "language_info": {
   "codemirror_mode": {
    "name": "ipython",
    "version": 3
   },
   "file_extension": ".py",
   "mimetype": "text/x-python",
   "name": "python",
   "nbconvert_exporter": "python",
   "pygments_lexer": "ipython3",
   "version": "3.6.6"
  }
 },
 "nbformat": 4,
 "nbformat_minor": 2
}
