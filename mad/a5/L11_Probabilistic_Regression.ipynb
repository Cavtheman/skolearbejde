{
 "cells": [
  {
   "cell_type": "markdown",
   "metadata": {
    "slideshow": {
     "slide_type": "slide"
    }
   },
   "source": [
    "## Probabilistic approaches to regression\n",
    "### Aasa Feragen -- aasa@di.ku.dk\n",
    "\n",
    "This is the demo for Bayesian regression, following the example from Rogers & Girolami, but with a different dataset."
   ]
  },
  {
   "cell_type": "code",
   "execution_count": 1,
   "metadata": {
    "slideshow": {
     "slide_type": "skip"
    }
   },
   "outputs": [],
   "source": [
    "# Loading packages\n",
    "%matplotlib inline\n",
    "import numpy as np\n",
    "import matplotlib.mlab as mlab\n",
    "import matplotlib.pyplot as plt\n",
    "from scipy.stats import multivariate_normal\n",
    "import matplotlib\n",
    "matplotlib.rcParams['figure.figsize'] = (15,7)\n",
    "\n",
    "matplotlib.rc('font', size=15)\n",
    "matplotlib.rc('axes', titlesize=15)"
   ]
  },
  {
   "cell_type": "markdown",
   "metadata": {
    "slideshow": {
     "slide_type": "slide"
    }
   },
   "source": [
    "**The data:** We will work with two features, namely *unemployment* and *murders* from the murder dataset, which you can also find here: \n",
    "http://people.sc.fsu.edu/~jburkardt/datasets/regression\n",
    "\n",
    "**Reference:**\n",
    "\n",
    "Helmut Spaeth,\n",
    "Mathematical Algorithms for Linear Regression,\n",
    "Academic Press, 1991,\n",
    "ISBN 0-12-656460-4.\n",
    "\n",
    "D G Kleinbaum and L L Kupper,\n",
    "Applied Regression Analysis and Other Multivariable Methods,\n",
    "Duxbury Press, 1978, page 150.\n",
    "\n",
    "We start by loading the data and extracting the wanted features:"
   ]
  },
  {
   "cell_type": "code",
   "execution_count": 2,
   "metadata": {
    "slideshow": {
     "slide_type": "fragment"
    }
   },
   "outputs": [
    {
     "name": "stdout",
     "output_type": "stream",
     "text": [
      "N: 20\n",
      "d: 5\n"
     ]
    }
   ],
   "source": [
    "data = np.loadtxt('murderdata.txt')\n",
    "N, d = data.shape\n",
    "print('N:', N)\n",
    "print('d:', d)\n",
    "\n",
    "unemployment = data[:,3]\n",
    "murders = data[:,4]"
   ]
  },
  {
   "cell_type": "markdown",
   "metadata": {
    "slideshow": {
     "slide_type": "subslide"
    }
   },
   "source": [
    "Let's make a scatter plot to remind ourselves what the data is like"
   ]
  },
  {
   "cell_type": "code",
   "execution_count": 3,
   "metadata": {
    "slideshow": {
     "slide_type": "fragment"
    }
   },
   "outputs": [
    {
     "data": {
      "text/plain": [
       "Text(0.5,1,'The murder dataset')"
      ]
     },
     "execution_count": 3,
     "metadata": {},
     "output_type": "execute_result"
    },
    {
     "data": {
      "image/png": "[encoded data removed]",
      "text/plain": [
       "<Figure size 432x288 with 1 Axes>"
      ]
     },
     "metadata": {
      "needs_background": "light"
     },
     "output_type": "display_data"
    }
   ],
   "source": [
    "plt.scatter(unemployment, murders)\n",
    "plt.xlabel('Percentage of unemployment')\n",
    "plt.ylabel('Murders per annum per 1,000,000 inhabitants')\n",
    "plt.title('The murder dataset')"
   ]
  },
  {
   "cell_type": "markdown",
   "metadata": {
    "slideshow": {
     "slide_type": "slide"
    }
   },
   "source": [
    "We are going to solve a regression problem where murder is the dependent (output) value and unemployment is the independent (input) value. Thus, we build a data matrix X whose rows are of the form [1, unemployment[i]]"
   ]
  },
  {
   "cell_type": "code",
   "execution_count": 4,
   "metadata": {
    "slideshow": {
     "slide_type": "fragment"
    }
   },
   "outputs": [],
   "source": [
    "rows = len(unemployment)\n",
    "x = np.reshape(unemployment, (rows,1))\n",
    "one = np.ones((rows,1))\n",
    "X = np.concatenate((one, x), axis = 1)"
   ]
  },
  {
   "cell_type": "markdown",
   "metadata": {
    "slideshow": {
     "slide_type": "fragment"
    }
   },
   "source": [
    "Set parameters. For our analysis today, we assume $\\sigma = 4$.\n",
    "\n",
    "**Choice of prior:**\n",
    "Let's assume, for starters, that we know very little about what to expect. We do this by selecting a prior with little information and high variance (uncertainty).\n",
    "\n",
    "Remembering that we are now defining a prior distribution over $(w_0, w_1)^T$, we set:\n",
    "$\\mu 0 = [0, 0]^T$ and $\\Sigma 0 = \\left[ \\begin{array}{cc} 100 & 0\\\\ 0 & 100 \\end{array} \\right]$"
   ]
  },
  {
   "cell_type": "code",
   "execution_count": 5,
   "metadata": {
    "slideshow": {
     "slide_type": "fragment"
    }
   },
   "outputs": [],
   "source": [
    "sigma=4\n",
    "mu0 = np.array([0, 0])\n",
    "Sigma0 = np.array([[100, 0],[0, 100]])"
   ]
  },
  {
   "cell_type": "markdown",
   "metadata": {
    "slideshow": {
     "slide_type": "slide"
    }
   },
   "source": [
    "### Visualization of model estimate\n",
    "At any point in our analysis, our model will be defined by a normal distribution over the parameters $[w_0, w_1]^T$. We will visualize this distribution over models through two different types of visualization:\n",
    "* visualizing the level lines of the normal distribution over $[w_0, w_1]^T$\n",
    "* sampling from the normal distribution over $(w_0, w_1)$ to see what the ''most likely'' resulting regression lines look like:\n",
    "\n",
    "We implement the two visualizations and employ them to visualize the uninformative prior"
   ]
  },
  {
   "cell_type": "code",
   "execution_count": 6,
   "metadata": {
    "slideshow": {
     "slide_type": "subslide"
    }
   },
   "outputs": [],
   "source": [
    "def visualize_model(mu, Sigma, xmin, xmax, ymin, ymax, unemployment, murders):\n",
    "    # First, we visualize the model by visualizing the \n",
    "    # prior/posterior normal distribution over the model parameters $[w_0, w_1]^T$.\n",
    "    \n",
    "    # Define a grid for visualizing normal distribution and define the normal distribution on the grid\n",
    "    x, y = np.mgrid[xmin:xmax:.01, ymin:ymax:.01]\n",
    "    pos = np.dstack((x, y))\n",
    "    rv = multivariate_normal(mu, Sigma)    \n",
    "    \n",
    "    # Plot the normal distribution\n",
    "    fig, ax = plt.subplots(1,2)\n",
    "    ax[0].contourf(x, y, rv.pdf(pos))\n",
    "    ax[0].set_xlabel('$w_0$')\n",
    "    ax[0].set_ylabel('$w_1$')\n",
    "    ax[0].set_title('Distribution over model parameters $[w_0, w_1]^T$')\n",
    "    ax[0].axis('equal')    \n",
    "\n",
    "    # Second, we visualize the model by drawing samples from the prior/posterior and \n",
    "    # visualizing the corresponding regression lines\n",
    "    \n",
    "    # Set number of sample models plotted\n",
    "    Nsample = 30 \n",
    "    \n",
    "    # First, we scatter plot the observed data\n",
    "    ax[1].scatter(unemployment, murders)\n",
    "    \n",
    "    # draw sample model parameters from the model    \n",
    "    w_0, w_1 = np.random.multivariate_normal(mu, Sigma, Nsample).T\n",
    "    \n",
    "    # Plot the corresponding sample regression lines\n",
    "    for i in range(Nsample):\n",
    "        ax[1].plot([-20, 20], [w_0[i] -20*w_1[i], w_0[i] + 20*w_1[i]])    \n",
    "    \n",
    "    ax[1].set_xlabel('Unemployment')\n",
    "    ax[1].set_ylabel('Murder rate')    \n",
    "    ax[1].set_title('Sample regression lines from the model')\n",
    "    ax[1].set_xlim(4,10)\n",
    "    ax[1].set_ylim(-45,45)"
   ]
  },
  {
   "cell_type": "markdown",
   "metadata": {
    "slideshow": {
     "slide_type": "slide"
    }
   },
   "source": [
    "Apply visualization to uninformative prior:"
   ]
  },
  {
   "cell_type": "code",
   "execution_count": 7,
   "metadata": {
    "slideshow": {
     "slide_type": "fragment"
    }
   },
   "outputs": [
    {
     "data": {
      "image/png": "[encoded data removed]",
      "text/plain": [
       "<Figure size 432x288 with 2 Axes>"
      ]
     },
     "metadata": {
      "needs_background": "light"
     },
     "output_type": "display_data"
    }
   ],
   "source": [
    "visualize_model(mu0, Sigma0, -10, 10, -10, 10, unemployment, murders)"
   ]
  },
  {
   "cell_type": "markdown",
   "metadata": {
    "slideshow": {
     "slide_type": "fragment"
    }
   },
   "source": [
    "That looks terrible! I have truly chosen a non-informative prior. Now, let's use the data to learn a bit more."
   ]
  },
  {
   "cell_type": "markdown",
   "metadata": {
    "slideshow": {
     "slide_type": "slide"
    }
   },
   "source": [
    "### Applying Bayesian analysis: Estimating and visualizing the posterior after seeing some data\n",
    "\n",
    "Using equations (3.21) and (3.22) from Rogers & Girolami, we implement the posterior distrubition which takes as input our prior and the data, and returns the posterior distribution over $\\bf w$ which is a normal distribution with mean $\\mu_{\\bf w}$ and covariance matrix $\\Sigma_{\\bf w}$.\n",
    "\n",
    "We implement the posterior and apply it to the data using the uninformative prior."
   ]
  },
  {
   "cell_type": "code",
   "execution_count": 8,
   "metadata": {
    "slideshow": {
     "slide_type": "fragment"
    }
   },
   "outputs": [],
   "source": [
    "def posterior(X, y, mu0, Sigma0):\n",
    "    # X = data matrix\n",
    "    # y = output values\n",
    "    # mu0, Sigma0 = mean and covariance of prior normal distribution\n",
    "    \n",
    "    # FILL IN!\n",
    "    \n",
    "    \n",
    "    return muw, Sigmaw # mean and covariance of posterior normal distribution"
   ]
  },
  {
   "cell_type": "markdown",
   "metadata": {
    "slideshow": {
     "slide_type": "slide"
    }
   },
   "source": [
    "### Case 1: An uninformative prior\n",
    "\n",
    "Using the uninformative prior from above, compute the posterior and apply the visualization to the model.\n",
    "Note that the x-axis has been extended from (-10,10) to (-30,10)."
   ]
  },
  {
   "cell_type": "code",
   "execution_count": 9,
   "metadata": {
    "slideshow": {
     "slide_type": "fragment"
    }
   },
   "outputs": [
    {
     "ename": "NameError",
     "evalue": "name 'muw' is not defined",
     "output_type": "error",
     "traceback": [
      "\u001b[0;31m---------------------------------------------------------------------------\u001b[0m",
      "\u001b[0;31mNameError\u001b[0m                                 Traceback (most recent call last)",
      "\u001b[0;32m<ipython-input-9-466805bfe040>\u001b[0m in \u001b[0;36m<module>\u001b[0;34m\u001b[0m\n\u001b[0;32m----> 1\u001b[0;31m \u001b[0mmuw\u001b[0m\u001b[0;34m,\u001b[0m \u001b[0mSigmaw\u001b[0m \u001b[0;34m=\u001b[0m \u001b[0mposterior\u001b[0m\u001b[0;34m(\u001b[0m\u001b[0mX\u001b[0m\u001b[0;34m,\u001b[0m \u001b[0mmurders\u001b[0m\u001b[0;34m,\u001b[0m \u001b[0mmu0\u001b[0m\u001b[0;34m,\u001b[0m \u001b[0mSigma0\u001b[0m\u001b[0;34m)\u001b[0m\u001b[0;34m\u001b[0m\u001b[0;34m\u001b[0m\u001b[0m\n\u001b[0m\u001b[1;32m      2\u001b[0m \u001b[0mvisualize_model\u001b[0m\u001b[0;34m(\u001b[0m\u001b[0mmuw\u001b[0m\u001b[0;34m,\u001b[0m \u001b[0mSigmaw\u001b[0m\u001b[0;34m,\u001b[0m \u001b[0;34m-\u001b[0m\u001b[0;36m30\u001b[0m\u001b[0;34m,\u001b[0m \u001b[0;36m10\u001b[0m\u001b[0;34m,\u001b[0m \u001b[0;34m-\u001b[0m\u001b[0;36m10\u001b[0m\u001b[0;34m,\u001b[0m \u001b[0;36m10\u001b[0m\u001b[0;34m,\u001b[0m \u001b[0munemployment\u001b[0m\u001b[0;34m,\u001b[0m \u001b[0mmurders\u001b[0m\u001b[0;34m)\u001b[0m\u001b[0;34m\u001b[0m\u001b[0;34m\u001b[0m\u001b[0m\n",
      "\u001b[0;32m<ipython-input-8-d755cf807208>\u001b[0m in \u001b[0;36mposterior\u001b[0;34m(X, y, mu0, Sigma0)\u001b[0m\n\u001b[1;32m      7\u001b[0m \u001b[0;34m\u001b[0m\u001b[0m\n\u001b[1;32m      8\u001b[0m \u001b[0;34m\u001b[0m\u001b[0m\n\u001b[0;32m----> 9\u001b[0;31m     \u001b[0;32mreturn\u001b[0m \u001b[0mmuw\u001b[0m\u001b[0;34m,\u001b[0m \u001b[0mSigmaw\u001b[0m \u001b[0;31m# mean and covariance of posterior normal distribution\u001b[0m\u001b[0;34m\u001b[0m\u001b[0;34m\u001b[0m\u001b[0m\n\u001b[0m",
      "\u001b[0;31mNameError\u001b[0m: name 'muw' is not defined"
     ]
    }
   ],
   "source": [
    "muw, Sigmaw = posterior(X, murders, mu0, Sigma0)\n",
    "visualize_model(muw, Sigmaw, -30, 10, -10, 10, unemployment, murders)"
   ]
  },
  {
   "cell_type": "markdown",
   "metadata": {
    "slideshow": {
     "slide_type": "subslide"
    }
   },
   "source": [
    "That looks much better! For comparison, let's see what we would have gotten if we had only used the first two data points -- we keep visualization parameters the same as above."
   ]
  },
  {
   "cell_type": "code",
   "execution_count": 10,
   "metadata": {
    "slideshow": {
     "slide_type": "fragment"
    }
   },
   "outputs": [
    {
     "ename": "NameError",
     "evalue": "name 'muw' is not defined",
     "output_type": "error",
     "traceback": [
      "\u001b[0;31m---------------------------------------------------------------------------\u001b[0m",
      "\u001b[0;31mNameError\u001b[0m                                 Traceback (most recent call last)",
      "\u001b[0;32m<ipython-input-10-f078fc4e3344>\u001b[0m in \u001b[0;36m<module>\u001b[0;34m\u001b[0m\n\u001b[1;32m      2\u001b[0m \u001b[0mmurderstwo\u001b[0m \u001b[0;34m=\u001b[0m \u001b[0mmurders\u001b[0m\u001b[0;34m[\u001b[0m\u001b[0;34m[\u001b[0m\u001b[0;36m0\u001b[0m\u001b[0;34m,\u001b[0m\u001b[0;36m1\u001b[0m\u001b[0;34m]\u001b[0m\u001b[0;34m]\u001b[0m\u001b[0;34m\u001b[0m\u001b[0;34m\u001b[0m\u001b[0m\n\u001b[1;32m      3\u001b[0m \u001b[0;34m\u001b[0m\u001b[0m\n\u001b[0;32m----> 4\u001b[0;31m \u001b[0mmuw\u001b[0m\u001b[0;34m,\u001b[0m \u001b[0mSigmaw\u001b[0m \u001b[0;34m=\u001b[0m \u001b[0mposterior\u001b[0m\u001b[0;34m(\u001b[0m\u001b[0mXtwo\u001b[0m\u001b[0;34m,\u001b[0m \u001b[0mmurderstwo\u001b[0m\u001b[0;34m,\u001b[0m \u001b[0mmu0\u001b[0m\u001b[0;34m,\u001b[0m \u001b[0mSigma0\u001b[0m\u001b[0;34m)\u001b[0m\u001b[0;34m\u001b[0m\u001b[0;34m\u001b[0m\u001b[0m\n\u001b[0m\u001b[1;32m      5\u001b[0m \u001b[0mvisualize_model\u001b[0m\u001b[0;34m(\u001b[0m\u001b[0mmuw\u001b[0m\u001b[0;34m,\u001b[0m \u001b[0mSigmaw\u001b[0m\u001b[0;34m,\u001b[0m \u001b[0;34m-\u001b[0m\u001b[0;36m30\u001b[0m\u001b[0;34m,\u001b[0m \u001b[0;36m10\u001b[0m\u001b[0;34m,\u001b[0m \u001b[0;34m-\u001b[0m\u001b[0;36m10\u001b[0m\u001b[0;34m,\u001b[0m \u001b[0;36m10\u001b[0m\u001b[0;34m,\u001b[0m \u001b[0munemployment\u001b[0m\u001b[0;34m,\u001b[0m \u001b[0mmurders\u001b[0m\u001b[0;34m)\u001b[0m\u001b[0;34m\u001b[0m\u001b[0;34m\u001b[0m\u001b[0m\n",
      "\u001b[0;32m<ipython-input-8-d755cf807208>\u001b[0m in \u001b[0;36mposterior\u001b[0;34m(X, y, mu0, Sigma0)\u001b[0m\n\u001b[1;32m      7\u001b[0m \u001b[0;34m\u001b[0m\u001b[0m\n\u001b[1;32m      8\u001b[0m \u001b[0;34m\u001b[0m\u001b[0m\n\u001b[0;32m----> 9\u001b[0;31m     \u001b[0;32mreturn\u001b[0m \u001b[0mmuw\u001b[0m\u001b[0;34m,\u001b[0m \u001b[0mSigmaw\u001b[0m \u001b[0;31m# mean and covariance of posterior normal distribution\u001b[0m\u001b[0;34m\u001b[0m\u001b[0;34m\u001b[0m\u001b[0m\n\u001b[0m",
      "\u001b[0;31mNameError\u001b[0m: name 'muw' is not defined"
     ]
    }
   ],
   "source": [
    "Xtwo = X[[0,1],:]\n",
    "murderstwo = murders[[0,1]]\n",
    "\n",
    "muw, Sigmaw = posterior(Xtwo, murderstwo, mu0, Sigma0)\n",
    "visualize_model(muw, Sigmaw, -30, 10, -10, 10, unemployment, murders)"
   ]
  },
  {
   "cell_type": "markdown",
   "metadata": {
    "slideshow": {
     "slide_type": "fragment"
    }
   },
   "source": [
    "Even a little data helps!"
   ]
  },
  {
   "cell_type": "markdown",
   "metadata": {
    "slideshow": {
     "slide_type": "slide"
    }
   },
   "source": [
    "### Case 2: An incorrect prior\n",
    "\n",
    "Now let's see what would have happened if I used a less uncertain, but incorrect, prior.\n",
    "\n",
    "We start out by visualizing the prior model."
   ]
  },
  {
   "cell_type": "code",
   "execution_count": null,
   "metadata": {
    "slideshow": {
     "slide_type": "subslide"
    }
   },
   "outputs": [],
   "source": [
    "mu0 = np.array([35, -10])\n",
    "Sigma0 = np.array([[2, 0],[0, 2]])\n",
    "\n",
    "visualize_model(mu0, Sigma0, -10, 50, -20, 10, unemployment, murders)"
   ]
  },
  {
   "cell_type": "markdown",
   "metadata": {
    "slideshow": {
     "slide_type": "fragment"
    }
   },
   "source": [
    "Those samples are really wrong, and too confident in their ignorance!  Note the change in w0-w1-domain from $(-10,10) \\times (-10,10)$ to $(-10,50) \\times (-20,10)$.\n",
    "\n",
    "Let's see what happens when we include the data and compute the posterior."
   ]
  },
  {
   "cell_type": "code",
   "execution_count": null,
   "metadata": {
    "slideshow": {
     "slide_type": "subslide"
    }
   },
   "outputs": [],
   "source": [
    "muw, Sigmaw = posterior(X, murders, mu0, Sigma0)\n",
    "visualize_model(muw, Sigmaw, -10, 50, -20, 10, unemployment, murders)"
   ]
  },
  {
   "cell_type": "markdown",
   "metadata": {
    "slideshow": {
     "slide_type": "fragment"
    }
   },
   "source": [
    "Note that the distribution over $[w_0, w_1]^T$ is shifted, but even with all the data included, it is really really bad. What does this teach you?"
   ]
  },
  {
   "cell_type": "markdown",
   "metadata": {
    "slideshow": {
     "slide_type": "slide"
    }
   },
   "source": [
    "### Case 3: Next, let's look at what happens if you include a *good* prior with moderate uncertainty\n",
    "\n",
    "We start by defining and visualizing the prior:"
   ]
  },
  {
   "cell_type": "code",
   "execution_count": null,
   "metadata": {
    "slideshow": {
     "slide_type": "fragment"
    }
   },
   "outputs": [],
   "source": [
    "mu0 = np.array([-2, 3])\n",
    "Sigma0 = np.array([[3, 0],[0, 2]])\n",
    "\n",
    "visualize_model(mu0, Sigma0, -10, 10, -10, 10, unemployment, murders)"
   ]
  },
  {
   "cell_type": "markdown",
   "metadata": {
    "slideshow": {
     "slide_type": "subslide"
    }
   },
   "source": [
    "This is not *too* far off -- let's include the data too, and compute and visualize the posterior:"
   ]
  },
  {
   "cell_type": "code",
   "execution_count": null,
   "metadata": {
    "slideshow": {
     "slide_type": "fragment"
    }
   },
   "outputs": [],
   "source": [
    "muw, Sigmaw = posterior(X, murders, mu0, Sigma0)\n",
    "visualize_model(muw, Sigmaw, -10, 50, -20, 10, unemployment, murders)"
   ]
  },
  {
   "cell_type": "markdown",
   "metadata": {
    "slideshow": {
     "slide_type": "subslide"
    }
   },
   "source": [
    "This might the best model so far!\n",
    "\n",
    "**Note:** We can make similar conclusions as with the coin game example from Lecture 10: \n",
    "* A wrong prior can have a dire effect on your result\n",
    "* An uninformative prior might mean you need more data to narrow down your uncertainty, but will eventually give you as good a result as a \"good\" prior"
   ]
  }
 ],
 "metadata": {
  "celltoolbar": "Slideshow",
  "kernelspec": {
   "display_name": "Python 3",
   "language": "python",
   "name": "python3"
  },
  "language_info": {
   "codemirror_mode": {
    "name": "ipython",
    "version": 3
   },
   "file_extension": ".py",
   "mimetype": "text/x-python",
   "name": "python",
   "nbconvert_exporter": "python",
   "pygments_lexer": "ipython3",
   "version": "3.7.2"
  }
 },
 "nbformat": 4,
 "nbformat_minor": 2
}
