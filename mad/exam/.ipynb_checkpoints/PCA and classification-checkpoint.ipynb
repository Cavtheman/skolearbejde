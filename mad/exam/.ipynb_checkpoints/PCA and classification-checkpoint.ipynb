{
 "cells": [
  {
   "cell_type": "markdown",
   "metadata": {},
   "source": [
    "# MAD 2018-19 Exam, template for Exercise 5: PCA and classification\n",
    "This is a template for doing Exercise 5 on PCA and classification for the MAD 2018-19 Exam. Please fill out the fields and function templates below, reading the data as below, in order to perform the exercise. Feel free to load extra functions, but note that built-in functions for doing the entire task are, as a general rule, not allowed.\n",
    "\n",
    "If you are unsure how to interpret the template, or what you are allowed to do, please contact us either by email or using the Absalon forum.\n",
    "\n",
    "Feel free to add additional cells as needed."
   ]
  },
  {
   "cell_type": "code",
   "execution_count": 1,
   "metadata": {},
   "outputs": [],
   "source": [
    "# Importing packages -- feel free to add more, but recall that you should not use built-in \n",
    "# functions for the task at hand. If in doubt, ask us by email.\n",
    "import numpy as np\n",
    "import numpy.matlib\n",
    "import matplotlib.pyplot as plt\n",
    "%matplotlib inline\n",
    "import pylab\n",
    "pylab.rcParams['figure.figsize'] = (14, 7)"
   ]
  },
  {
   "cell_type": "markdown",
   "metadata": {},
   "source": [
    "Before we get started, read the data as follows (assuming you have unpacked the dataset into a folder DD which sits in the same folder as the Jupyter notebook template):"
   ]
  },
  {
   "cell_type": "code",
   "execution_count": 2,
   "metadata": {},
   "outputs": [],
   "source": [
    "trainset = np.loadtxt('DD/DD_train.txt')\n",
    "testset = np.loadtxt('DD/DD_test.txt')\n",
    "trainlabels = np.loadtxt('DD/DD_train_labels.txt')\n",
    "testlabels = np.loadtxt('DD/DD_test_labels.txt')"
   ]
  },
  {
   "cell_type": "markdown",
   "metadata": {},
   "source": [
    "**Exercise a:** In the cell below, please include your code for performing PCA and visualizing the dataset through projection onto the first two principal components."
   ]
  },
  {
   "cell_type": "code",
   "execution_count": 3,
   "metadata": {
    "scrolled": false
   },
   "outputs": [
    {
     "data": {
      "image/png": "[encoded data removed]",
      "text/plain": [
       "<Figure size 432x288 with 2 Axes>"
      ]
     },
     "metadata": {
      "needs_background": "light"
     },
     "output_type": "display_data"
    }
   ],
   "source": [
    "# This function has been taken from the lecture slides and modified slightly\n",
    "def pca(data):\n",
    "    # Extract data dimensions\n",
    "    d, N = data.shape\n",
    "    # First, center the data\n",
    "    center = np.mean(data, 1)\n",
    "    centers = np.matlib.repmat(center, N, 1)\n",
    "    data_cent = data - np.transpose(centers)\n",
    "    \n",
    "    # Compute covariance and its eigenvalues from centered data\n",
    "    Sigma = np.cov(data_cent)\n",
    "    evals, evecs = np.linalg.eigh(Sigma)\n",
    "    \n",
    "    return np.flip(evals,0), np.flip(evecs, 1), data_cent\n",
    "\n",
    "eVals, eVecs, data_cent = pca(trainset.T)\n",
    "\n",
    "PC1 = eVecs[:,0]\n",
    "PC2 = eVecs[:,1]\n",
    "\n",
    "PC1projs = np.matmul(data_cent.T,PC1)\n",
    "PC2projs = np.matmul(data_cent.T,PC2)\n",
    "\n",
    "plt.scatter(PC1projs, PC2projs, c=trainlabels)\n",
    "plt.xlabel('PC1')\n",
    "plt.ylabel('PC2')\n",
    "cbar = plt.colorbar()\n",
    "plt.show()"
   ]
  },
  {
   "cell_type": "markdown",
   "metadata": {},
   "source": [
    "**Exercise b:** In the cell below, please include your code for kNN as described in the exam PDF."
   ]
  },
  {
   "cell_type": "code",
   "execution_count": 4,
   "metadata": {},
   "outputs": [],
   "source": [
    "# This function is based on one from the lectures\n",
    "def distanceMat(train, test):\n",
    "    distMat = np.zeros((train.shape[0], test.shape[0]))\n",
    "    \n",
    "    for i in range(train.shape[0]):\n",
    "        for j in range(test.shape[0]):\n",
    "            distMat[i,j] = np.linalg.norm(train[i,:]-test[j,:])\n",
    "            \n",
    "    return distMat\n",
    "\n",
    "# This function assumes two labels as 0 and 1, respectively\n",
    "def knn(train, test, trainlab, testlab, k):\n",
    "    distMat = distanceMat(test,train)\n",
    "    sortedInd = np.argsort(distMat, axis=1)\n",
    "    sortedPreds = trainlab[sortedInd]\n",
    "    \n",
    "    # Temporarily changes 0 values in the \n",
    "    predictions = np.floor(np.sign(np.sum((sortedPreds[:,range(k)]-0.5)*2,1))/2 + 0.5)\n",
    "    accuracy = 1 - (np.sum(np.abs(predictions-testlab))/len(testlab))\n",
    "    \n",
    "    return predictions, accuracy"
   ]
  },
  {
   "cell_type": "markdown",
   "metadata": {},
   "source": [
    "**Exercise c:** In the cell below, please include your code for running kNN on the dataset as described in the exam PDF."
   ]
  },
  {
   "cell_type": "code",
   "execution_count": 163,
   "metadata": {
    "scrolled": false
   },
   "outputs": [
    {
     "name": "stdout",
     "output_type": "stream",
     "text": [
      "Accuracy when testing against the training set with k = 1: 100.0%\n",
      "Accuracy when testing against the training set with k = 3: 73.85714285714286%\n",
      "Accuracy when testing against the training set with k = 5: 67.85714285714286%\n",
      "Accuracy when testing against the training set with k = 7: 64.57142857142857%\n",
      "Accuracy when testing against the training set with k = 9: 62.71428571428572%\n",
      "Accuracy when testing against the training set with k = 11: 61.71428571428572%\n",
      "Accuracy when testing against the test set with k = 1: 51.04602510460251%\n",
      "Accuracy when testing against the test set with k = 3: 48.53556485355649%\n",
      "Accuracy when testing against the test set with k = 5: 48.32635983263598%\n",
      "Accuracy when testing against the test set with k = 7: 49.581589958159%\n",
      "Accuracy when testing against the test set with k = 9: 51.46443514644352%\n",
      "Accuracy when testing against the test set with k = 11: 53.13807531380753%\n"
     ]
    }
   ],
   "source": [
    "# Testing against itself\n",
    "for i in (1,3,5,7,9,11):\n",
    "    point = knn(trainset, trainset, trainlabels, trainlabels, i)[1]\n",
    "    print(f\"Accuracy when testing against the training set with k = {i}: {point*100}%\")\n",
    "    #plt.scatter(i, point)\n",
    "#plt.show()\n",
    "\n",
    "# Testing aginst the test set\n",
    "for i in (1,3,5,7,9,11):\n",
    "    point = knn(trainset, testset, trainlabels, testlabels, i)[1]\n",
    "    print(f\"Accuracy when testing against the test set with k = {i}: {point*100}%\")\n",
    "    #plt.scatter(i, point)\n",
    "#plt.show()"
   ]
  },
  {
   "cell_type": "markdown",
   "metadata": {},
   "source": [
    "**Exercise d:** In the cell below, please include your code implementing and running 10-fold cross validation as described in the Exam PDF."
   ]
  },
  {
   "cell_type": "code",
   "execution_count": 204,
   "metadata": {
    "scrolled": false
   },
   "outputs": [
    {
     "ename": "SyntaxError",
     "evalue": "invalid syntax (<ipython-input-204-2ab38b422852>, line 38)",
     "output_type": "error",
     "traceback": [
      "\u001b[0;36m  File \u001b[0;32m\"<ipython-input-204-2ab38b422852>\"\u001b[0;36m, line \u001b[0;32m38\u001b[0m\n\u001b[0;31m    tempTrainLab[l] =\u001b[0m\n\u001b[0m                      ^\u001b[0m\n\u001b[0;31mSyntaxError\u001b[0m\u001b[0;31m:\u001b[0m invalid syntax\n"
     ]
    }
   ],
   "source": [
    "def kfold(train, labels, x):\n",
    "    # Randomly permute the first row only, all features are kept in the same order\n",
    "    print(train.shape)\n",
    "    print(labels.shape)\n",
    "    \n",
    "    retTrain = numpy.zeros(train.shape)\n",
    "    retLabs = numpy.zeros(labels.shape)\n",
    "    \n",
    "    # Making sure that the labels and training set are shuffled in the same way\n",
    "    perm = numpy.random.permutation(train.shape[0])\n",
    "    for oldInd, newInd in enumerate(perm):\n",
    "        retTrain[newInd] = train[oldInd]\n",
    "        retLabs[newInd] = labels[oldInd]\n",
    "\n",
    "    # Reshape the resulting permutation of elements into k different ararys\n",
    "    # These arrays can then be used for cross-validation\n",
    "    retTrain = retTrain.reshape(x,int(np.floor(train.shape[0]/x)),train.shape[1])\n",
    "    retLabs  = retLabs.reshape(x,int(np.floor(labels.shape[0]/x)))\n",
    "    return retTrain, retLabs\n",
    "\n",
    "def crossVal(train, trainlab, x, k):\n",
    "    foldedArrs, foldedLabs = kfold(train, trainlab, x)\n",
    "    \n",
    "    # We're only plotting every second k, starting at k = 1\n",
    "    accs = np.zeros(int(np.ceil(k/2)))\n",
    "    \n",
    "    for i in range(1,k+1,2):\n",
    "        tempAccs = np.zeros(x)\n",
    "        for j in range(x):\n",
    "            tempTrain = np.zeros((foldedArrs.shape[0]-1,foldedArrs.shape[1],foldedArrs.shape[2]))\n",
    "            tempTrainLab = np.zeros((foldedLabs.shape[0]-1,foldedLabs.shape[1]))\n",
    "            \n",
    "            tempTest  = np.zeros((1,foldedArrs.shape[1],foldedArrs.shape[2]))\n",
    "            tempTestLab  = np.zeros((1,foldedLabs.shape[1]))\n",
    "            \n",
    "            for l in range(x-1):\n",
    "                if (l<j):\n",
    "                    tempTrain[l] = foldedArrs[l]\n",
    "                    tempTrainLab[l] = foldedLabs[l]\n",
    "                elif (l>j):\n",
    "                    tempTrain[l-1] = foldedArrs[l]\n",
    "                    tempTrainLab[l-1] = foldedLabs[l]\n",
    "                else:\n",
    "                    tempTest = foldedArrs[l].reshape(1,foldedArrs.shape[1],foldedArrs.shape[2])\n",
    "                    tempTestLab = foldedLabs[l].reshape(1,foldedLabs.shape[1])\n",
    "\n",
    "            tempAccs[j] = knn(tempTrain,tempTrainLab,tempTest,tempTestLab)\n",
    "        accs[]\n",
    "            \n",
    "crossVal(trainset, trainlabels, 10, 25)"
   ]
  },
  {
   "cell_type": "markdown",
   "metadata": {},
   "source": [
    "**Exercise e:** In the cell below, please include your code implementing and running logistic regression as described in the exam PDF."
   ]
  },
  {
   "cell_type": "code",
   "execution_count": null,
   "metadata": {},
   "outputs": [],
   "source": []
  },
  {
   "cell_type": "markdown",
   "metadata": {},
   "source": [
    "**Exercise f:** In the cell below, please include your code implementing and running data centering and standardization, as well as re-running the classifiers from ecercises c) and e)."
   ]
  },
  {
   "cell_type": "code",
   "execution_count": null,
   "metadata": {},
   "outputs": [],
   "source": []
  }
 ],
 "metadata": {
  "kernelspec": {
   "display_name": "Python 3",
   "language": "python",
   "name": "python3"
  },
  "language_info": {
   "codemirror_mode": {
    "name": "ipython",
    "version": 3
   },
   "file_extension": ".py",
   "mimetype": "text/x-python",
   "name": "python",
   "nbconvert_exporter": "python",
   "pygments_lexer": "ipython3",
   "version": "3.7.2"
  }
 },
 "nbformat": 4,
 "nbformat_minor": 2
}
