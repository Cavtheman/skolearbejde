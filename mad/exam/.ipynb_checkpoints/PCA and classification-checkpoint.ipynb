{
 "cells": [
  {
   "cell_type": "markdown",
   "metadata": {},
   "source": [
    "# MAD 2018-19 Exam, template for Exercise 5: PCA and classification\n",
    "This is a template for doing Exercise 5 on PCA and classification for the MAD 2018-19 Exam. Please fill out the fields and function templates below, reading the data as below, in order to perform the exercise. Feel free to load extra functions, but note that built-in functions for doing the entire task are, as a general rule, not allowed.\n",
    "\n",
    "If you are unsure how to interpret the template, or what you are allowed to do, please contact us either by email or using the Absalon forum.\n",
    "\n",
    "Feel free to add additional cells as needed."
   ]
  },
  {
   "cell_type": "code",
   "execution_count": null,
   "metadata": {},
   "outputs": [],
   "source": [
    "# Importing packages -- feel free to add more, but recall that you should not use built-in \n",
    "# functions for the task at hand. If in doubt, ask us by email.\n",
    "import numpy as np\n",
    "import matplotlib.pyplot as plt\n",
    "%matplotlib inline"
   ]
  },
  {
   "cell_type": "markdown",
   "metadata": {},
   "source": [
    "Before we get started, read the data as follows (assuming you have unpacked the dataset into a folder DD which sits in the same folder as the Jupyter notebook template):"
   ]
  },
  {
   "cell_type": "code",
   "execution_count": null,
   "metadata": {},
   "outputs": [],
   "source": [
    "trainset = np.loadtxt('DD/DD_train.txt')\n",
    "testset = np.loadtxt('DD/DD_test.txt')\n",
    "trainlabels = np.loadtxt('DD/DD_train_labels.txt')\n",
    "testlabels = np.loadtxt('DD/DD_test_labels.txt')"
   ]
  },
  {
   "cell_type": "markdown",
   "metadata": {},
   "source": [
    "**Exercise a:** In the cell below, please include your code for performing PCA and visualizing the dataset through projection onto the first two principal components."
   ]
  },
  {
   "cell_type": "code",
   "execution_count": null,
   "metadata": {},
   "outputs": [],
   "source": []
  },
  {
   "cell_type": "markdown",
   "metadata": {},
   "source": [
    "**Exercise b:** In the cell below, please include your code for kNN as described in the exam PDF."
   ]
  },
  {
   "cell_type": "code",
   "execution_count": null,
   "metadata": {},
   "outputs": [],
   "source": []
  },
  {
   "cell_type": "markdown",
   "metadata": {},
   "source": [
    "**Exercise c:** In the cell below, please include your code for running kNN on the dataset as described in the exam PDF."
   ]
  },
  {
   "cell_type": "code",
   "execution_count": null,
   "metadata": {},
   "outputs": [],
   "source": []
  },
  {
   "cell_type": "markdown",
   "metadata": {},
   "source": [
    "**Exercise d:** In the cell below, please include your code implementing and running 10-fold cross validation as described in the Exam PDF."
   ]
  },
  {
   "cell_type": "code",
   "execution_count": null,
   "metadata": {},
   "outputs": [],
   "source": []
  },
  {
   "cell_type": "markdown",
   "metadata": {},
   "source": [
    "**Exercise e:** In the cell below, please include your code implementing and running logistic regression as described in the exam PDF."
   ]
  },
  {
   "cell_type": "code",
   "execution_count": null,
   "metadata": {},
   "outputs": [],
   "source": []
  },
  {
   "cell_type": "markdown",
   "metadata": {},
   "source": [
    "**Exercise f:** In the cell below, please include your code implementing and running data centering and standardization, as well as re-running the classifiers from ecercises c) and e)."
   ]
  },
  {
   "cell_type": "code",
   "execution_count": null,
   "metadata": {},
   "outputs": [],
   "source": []
  }
 ],
 "metadata": {
  "kernelspec": {
   "display_name": "Python 3",
   "language": "python",
   "name": "python3"
  },
  "language_info": {
   "codemirror_mode": {
    "name": "ipython",
    "version": 3
   },
   "file_extension": ".py",
   "mimetype": "text/x-python",
   "name": "python",
   "nbconvert_exporter": "python",
   "pygments_lexer": "ipython3",
   "version": "3.7.2"
  }
 },
 "nbformat": 4,
 "nbformat_minor": 2
}
