{
 "cells": [
  {
   "cell_type": "code",
   "execution_count": null,
   "metadata": {},
   "outputs": [],
   "source": [
    "import numpy\n",
    "import matplotlib.pyplot as plt"
   ]
  },
  {
   "cell_type": "code",
   "execution_count": null,
   "metadata": {},
   "outputs": [],
   "source": [
    "# number of data points\n",
    "n_points = 200"
   ]
  },
  {
   "cell_type": "code",
   "execution_count": null,
   "metadata": {},
   "outputs": [],
   "source": [
    "# set a seed here to initialize the random number generator\n",
    "# (such that we get the same dataset each time this cell is executed)\n",
    "numpy.random.seed(1)\n",
    "\n",
    "# let's generate some \"non-linear\" data; note\n",
    "# that the sorting step is done for visualization\n",
    "# purposes only (to plot the models as connected lines)\n",
    "X_train = numpy.random.uniform(-10,10, n_points)\n",
    "t_train = - X_train**2 + numpy.random.random(n_points) * 25\n",
    "\n",
    "# generate some points for plotting\n",
    "X_plot = numpy.arange(X_train.min(), X_train.max(), 0.01)\n",
    "\n",
    "# reshape all arrays to make sure that we deal with\n",
    "# N-dimensional Numpy arrays\n",
    "t_train = t_train.reshape((len(t_train), 1))\n",
    "X_train = X_train.reshape((len(X_train),1))\n",
    "X_plot = X_plot.reshape((len(X_plot), 1))\n",
    "\n",
    "print(\"Shape of training data: %s\" % str(X_train.shape))\n",
    "print(\"Shape of target vector: %s\" % str(t_train.shape))\n",
    "print(\"Shape of plotting data: %s\" % str(X_plot.shape))"
   ]
  },
  {
   "cell_type": "code",
   "execution_count": null,
   "metadata": {},
   "outputs": [],
   "source": [
    "import linreg\n",
    "\n",
    "# instantiate the regression model\n",
    "model = linreg.LinearRegression()\n",
    "\n",
    "# fit the model\n",
    "model.fit(X_train, t_train)"
   ]
  },
  {
   "cell_type": "code",
   "execution_count": null,
   "metadata": {},
   "outputs": [],
   "source": [
    "# get predictions for the data points\n",
    "preds = model.predict(X_plot)\n",
    "\n",
    "# plot the points and the linear regression model\n",
    "plt.plot(X_train, t_train, 'o')\n",
    "plt.plot(X_plot, preds, '-', color='red')\n",
    "plt.show()"
   ]
  },
  {
   "cell_type": "code",
   "execution_count": null,
   "metadata": {},
   "outputs": [],
   "source": [
    "# 4 b)\n",
    "\n",
    "# TODO: Implement the non-linear regression approach;\n",
    "# generate corresponding plots for sigma=0.1, \n",
    "# sigma=1.0, and sigma=10.0 by computing, for each\n",
    "# xbar in X_plot, the corresponding prediction"
   ]
  },
  {
   "cell_type": "code",
   "execution_count": null,
   "metadata": {},
   "outputs": [],
   "source": []
  }
 ],
 "metadata": {
  "kernelspec": {
   "display_name": "Python 3",
   "language": "python",
   "name": "python3"
  },
  "language_info": {
   "codemirror_mode": {
    "name": "ipython",
    "version": 3
   },
   "file_extension": ".py",
   "mimetype": "text/x-python",
   "name": "python",
   "nbconvert_exporter": "python",
   "pygments_lexer": "ipython3",
   "version": "3.7.2"
  }
 },
 "nbformat": 4,
 "nbformat_minor": 2
}
