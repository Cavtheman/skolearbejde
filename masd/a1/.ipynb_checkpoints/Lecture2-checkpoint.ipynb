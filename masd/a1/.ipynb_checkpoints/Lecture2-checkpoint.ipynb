{
 "cells": [
  {
   "cell_type": "markdown",
   "metadata": {},
   "source": [
    "# Example of plotting with matplotlib in Jupyter notebooks\n",
    "Execute the cells below using shift+enter"
   ]
  },
  {
   "cell_type": "code",
   "execution_count": 3,
   "metadata": {},
   "outputs": [],
   "source": [
    "# First, we load needed packates\n",
    "%matplotlib inline\n",
    "# Allows viewing figures inline in the notebook\n",
    "import numpy as np\n",
    "# Numpy is a library for numerical computation\n",
    "import matplotlib.pyplot as plt\n",
    "# Matplotlib is a plotting library\n",
    "import matplotlib\n",
    "matplotlib.rcParams['figure.figsize'] = (20,10)\n",
    "# Makes the figures larger"
   ]
  },
  {
   "cell_type": "markdown",
   "metadata": {},
   "source": [
    "### Linear functions\n",
    "A linear function is of the form $f(x) = a + bx$; let's plot one. Numerical plotting is done by interpolating a bunch of function values at a predefined set of x-values. Below, we use the x-interval $[-5, 5]$ which we represent using the x-values -5, -4.9, -4.8, ..., 0, 0.1, ..., 4.9, 5.\n",
    "\n",
    "We plot the function $f(x) = 7-2x$"
   ]
  },
  {
   "cell_type": "code",
   "execution_count": 5,
   "metadata": {},
   "outputs": [
    {
     "name": "stdout",
     "output_type": "stream",
     "text": [
      "[-5.  -4.9 -4.8 -4.7 -4.6 -4.5 -4.4 -4.3 -4.2 -4.1 -4.  -3.9 -3.8 -3.7\n",
      " -3.6 -3.5 -3.4 -3.3 -3.2 -3.1 -3.  -2.9 -2.8 -2.7 -2.6 -2.5 -2.4 -2.3\n",
      " -2.2 -2.1 -2.  -1.9 -1.8 -1.7 -1.6 -1.5 -1.4 -1.3 -1.2 -1.1 -1.  -0.9\n",
      " -0.8 -0.7 -0.6 -0.5 -0.4 -0.3 -0.2 -0.1  0.   0.1  0.2  0.3  0.4  0.5\n",
      "  0.6  0.7  0.8  0.9  1.   1.1  1.2  1.3  1.4  1.5  1.6  1.7  1.8  1.9\n",
      "  2.   2.1  2.2  2.3  2.4  2.5  2.6  2.7  2.8  2.9  3.   3.1  3.2  3.3\n",
      "  3.4  3.5  3.6  3.7  3.8  3.9  4.   4.1  4.2  4.3  4.4  4.5  4.6  4.7\n",
      "  4.8  4.9  5. ]\n"
     ]
    },
    {
     "data": {
      "text/plain": [
       "Text(0,0.5,'y')"
      ]
     },
     "execution_count": 5,
     "metadata": {},
     "output_type": "execute_result"
    },
    {
     "data": {
      "image/png": "[encoded data removed]",
      "text/plain": [
       "<Figure size 432x288 with 1 Axes>"
      ]
     },
     "metadata": {
      "needs_background": "light"
     },
     "output_type": "display_data"
    }
   ],
   "source": [
    "#xs = np.linspace(-5, 5, 101)    # Draws 101 evenly spaced samples from the interval [-5, 5]\n",
    "#print(xs)                      # Uncomment if you want to see the samples\n",
    "ys = np.zeros(xs.shape)         # Initializes a vector ys of y-values with the same dimensions (shape) as xs\n",
    "\n",
    "for i in range(101):            # Example of a for-loop; range(101) gives the integers 0, 1, ..., 100.\n",
    "    ys[i] = 7-2*xs[i]           # Computes the value f(x) for each x-value xs[i] and stores it in the \n",
    "                                # corresponding coordinate ys[i]\n",
    "        \n",
    "plt.plot(xs, ys)                # Plots the values in ys against the values in xs\n",
    "plt.title('A linear function')  # Add a title and (below) axis labels to the plot\n",
    "plt.xlabel('x')\n",
    "plt.ylabel('y')"
   ]
  },
  {
   "cell_type": "markdown",
   "metadata": {},
   "source": [
    "### Polynomials\n",
    "Next, we recall what polynomials look like. We plot them in the same $x$ interval as before.\n",
    "We plot the polynomials $p_0(x) = x, p_1(x) = x^2, p_2(x) = x^3, p_3(x) = 4x^3 - x^2 - 5x$"
   ]
  },
  {
   "cell_type": "code",
   "execution_count": 9,
   "metadata": {},
   "outputs": [
    {
     "ename": "NameError",
     "evalue": "name 'np' is not defined",
     "output_type": "error",
     "traceback": [
      "\u001b[0;31m---------------------------------------------------------------------------\u001b[0m",
      "\u001b[0;31mNameError\u001b[0m                                 Traceback (most recent call last)",
      "\u001b[0;32m<ipython-input-9-b9d391f0b896>\u001b[0m in \u001b[0;36m<module>\u001b[0;34m()\u001b[0m\n\u001b[0;32m----> 1\u001b[0;31m \u001b[0mxs\u001b[0m \u001b[0;34m=\u001b[0m \u001b[0mnp\u001b[0m\u001b[0;34m.\u001b[0m\u001b[0mlinspace\u001b[0m\u001b[0;34m(\u001b[0m\u001b[0;34m-\u001b[0m\u001b[0;36m1\u001b[0m\u001b[0;34m,\u001b[0m\u001b[0;36m1\u001b[0m\u001b[0;34m,\u001b[0m\u001b[0;36m100\u001b[0m\u001b[0;34m)\u001b[0m\u001b[0;34m\u001b[0m\u001b[0m\n\u001b[0m\u001b[1;32m      2\u001b[0m \u001b[0mp0s\u001b[0m \u001b[0;34m=\u001b[0m \u001b[0mxs\u001b[0m\u001b[0;34m\u001b[0m\u001b[0m\n\u001b[1;32m      3\u001b[0m \u001b[0mp1s\u001b[0m \u001b[0;34m=\u001b[0m \u001b[0mxs\u001b[0m\u001b[0;34m**\u001b[0m\u001b[0;36m2\u001b[0m                               \u001b[0;31m# Note that it is not necessary to use a for loop to work with\u001b[0m\u001b[0;34m\u001b[0m\u001b[0m\n\u001b[1;32m      4\u001b[0m                                           \u001b[0;31m# the vector xs\u001b[0m\u001b[0;34m\u001b[0m\u001b[0;34m\u001b[0m\u001b[0m\n\u001b[1;32m      5\u001b[0m \u001b[0mp2s\u001b[0m \u001b[0;34m=\u001b[0m \u001b[0mxs\u001b[0m\u001b[0;34m**\u001b[0m\u001b[0;36m3\u001b[0m\u001b[0;34m\u001b[0m\u001b[0m\n",
      "\u001b[0;31mNameError\u001b[0m: name 'np' is not defined"
     ]
    }
   ],
   "source": [
    "xs = np.linspace(-1,1,100)\n",
    "p0s = xs\n",
    "p1s = xs**2                               # Note that it is not necessary to use a for loop to work with \n",
    "                                          # the vector xs\n",
    "p2s = xs**3\n",
    "p3s = 4*xs**3 - xs**2 - 5*xs\n",
    "\n",
    "plt.plot(xs, p0s, label='$p_0(x) = x$')\n",
    "plt.plot(xs, p1s, label='$p_1(x) = x^2$')\n",
    "plt.plot(xs, p2s, label='$p_2(x) = x^3$')\n",
    "plt.plot(xs, p3s, label='$p_3(x) = 4x^3 - x^2 + 5x$')\n",
    "plt.legend()\n",
    "plt.title('Polynomials')\n",
    "plt.xlabel('x')\n",
    "plt.ylabel('y')"
   ]
  },
  {
   "cell_type": "markdown",
   "metadata": {},
   "source": [
    "### Exponential functions\n",
    "Next, we recall what an exponential function looks like"
   ]
  },
  {
   "cell_type": "code",
   "execution_count": null,
   "metadata": {},
   "outputs": [],
   "source": [
    "xs = np.linspace(-0.5, 5, 100)\n",
    "ys = np.exp(xs)\n",
    "plt.plot(xs, ys)\n",
    "plt.title('The exponential function')\n",
    "plt.xlabel('x')\n",
    "plt.ylabel('y')"
   ]
  },
  {
   "cell_type": "markdown",
   "metadata": {},
   "source": [
    "### The logarithmic function\n",
    "Finally, we take a look at the logarithm.\n",
    "\n",
    "**Task:** If you can choose between an algorithm with average runtime O(ln(n)) or O(n), which do you pick?"
   ]
  },
  {
   "cell_type": "code",
   "execution_count": null,
   "metadata": {},
   "outputs": [],
   "source": [
    "xs = np.linspace(0.0001, 5, 1000)\n",
    "ys = np.log(xs)\n",
    "plt.plot(xs, ys, label='$\\ln x')\n",
    "plt.title('The logarithm')\n",
    "plt.xlabel('x')\n",
    "plt.ylabel('y')\n",
    "\n",
    "\n",
    "#plt.legend()"
   ]
  },
  {
   "cell_type": "code",
   "execution_count": null,
   "metadata": {},
   "outputs": [],
   "source": []
  }
 ],
 "metadata": {
  "kernelspec": {
   "display_name": "Python 3",
   "language": "python",
   "name": "python3"
  },
  "language_info": {
   "codemirror_mode": {
    "name": "ipython",
    "version": 3
   },
   "file_extension": ".py",
   "mimetype": "text/x-python",
   "name": "python",
   "nbconvert_exporter": "python",
   "pygments_lexer": "ipython3",
   "version": "3.7.0"
  }
 },
 "nbformat": 4,
 "nbformat_minor": 2
}
