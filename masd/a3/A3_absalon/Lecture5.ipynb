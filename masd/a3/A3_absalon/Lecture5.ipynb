{
 "cells": [
  {
   "cell_type": "markdown",
   "metadata": {},
   "source": [
    "# Lecture 5: Optimization via gradient ascent"
   ]
  },
  {
   "cell_type": "markdown",
   "metadata": {},
   "source": [
    "First of all, let's import packages needed"
   ]
  },
  {
   "cell_type": "code",
   "execution_count": 1,
   "metadata": {},
   "outputs": [],
   "source": [
    "# First, we load needed packages\n",
    "%matplotlib inline\n",
    "# Allows viewing figures inline in the notebook\n",
    "import numpy as np\n",
    "# Numpy is a library for numerical computation\n",
    "import matplotlib.pyplot as plt\n",
    "# Matplotlib is a plotting library\n",
    "import matplotlib\n",
    "matplotlib.rcParams['figure.figsize'] = (20,8)\n",
    "# Makes the figures larger"
   ]
  },
  {
   "cell_type": "markdown",
   "metadata": {},
   "source": [
    "### Part 1: The Hessian and its eigendecomposition\n",
    "\n",
    "In order to verify that the eigendecomposition of the Hessian corresponds to a choice of basis that simplifies the Hessian, let's look at the following function:\n",
    "\n",
    "$g(x,y) = e^{-(x^2 + xy + y^2)}$\n",
    "\n",
    "First, we make a contour plot og $g$:"
   ]
  },
  {
   "cell_type": "code",
   "execution_count": 2,
   "metadata": {},
   "outputs": [
    {
     "data": {
      "text/plain": [
       "Text(0.5,1,'Contour plot of the function g')"
      ]
     },
     "execution_count": 2,
     "metadata": {},
     "output_type": "execute_result"
    },
    {
     "data": {
      "image/png": "[encoded data removed]",
      "text/plain": [
       "<Figure size 432x288 with 2 Axes>"
      ]
     },
     "metadata": {
      "needs_background": "light"
     },
     "output_type": "display_data"
    }
   ],
   "source": [
    "# Defining the function g(x,y) on the 2D plane\n",
    "def g(x,y):\n",
    "    return np.exp(-(x**2 + x*y + y**2))\n",
    "\n",
    "# Next, use meshgrid to make a contour plot of the function in the domain [-2, 4] x [-4, 4]\n",
    "delta = 0.025                                   # width of bin in grid\n",
    "x = np.arange(-3.0, 3.0, delta)                 # x-coordinates of grid nodes\n",
    "y = np.arange(-3.0, 3.0, delta)                 # y-coordinates of grid nodes\n",
    "X, Y = np.meshgrid(x, y)                        # turning the coordinates into a \"meshgrid\" object\n",
    "Z = g(X, Y)                                  # evaluating the function on the grid\n",
    "\n",
    "# Plot the level set of the function (a topographic map) using a contour plot\n",
    "plt.figure()                                    # creating a figure\n",
    "plt.contourf(X, Y, Z)                           # making a contour plot\n",
    "plt.colorbar()                                  # adding a color bar\n",
    "plt.xlabel('x')                                 # adding x- and y- axis labels\n",
    "plt.ylabel('y')\n",
    "plt.title('Contour plot of the function g')  # adding a figure title"
   ]
  },
  {
   "cell_type": "markdown",
   "metadata": {},
   "source": [
    "Next, we compute the Hessian of $g$:\n",
    "\n",
    "$H = \\left( \\begin{array}{cc} \n",
    "\\frac{\\partial^2 g}{\\partial^2 x} & \\frac{\\partial^2 g}{\\partial x \\partial y}\\\\\n",
    "\\frac{\\partial^2 g}{\\partial x \\partial y} & \\frac{\\partial^2 g}{\\partial^2 y}\n",
    "\\end{array} \\right) $\n",
    "\n",
    "and its eigendecomposition $H = Q^T \\Lambda Q$, where $Q$ is the matrix of eigenvectors and $\\Lambda$ is the diagonal matrix of eigenvalues.\n",
    "\n",
    "A bit of blood, sweat and tears shows that\n",
    "\n",
    "$\\frac{\\partial g}{\\partial x} = -(2x + y)e^{-(x^2 + xy + y^2)}$\n",
    "\n",
    "$\\frac{\\partial g}{\\partial y} = -(x + 2y)e^{-(x^2 + xy + y^2)}$\n",
    "\n",
    "$\\frac{\\partial^2 g}{\\partial^2 x} = 2(4x^2 + 4xy + y^2 - 1)e^{-(x^2 + xy + y^2)}$\n",
    "\n",
    "$\\frac{\\partial^2 g}{\\partial x \\partial y} = (2x^2 + 5xy + 2y^2 + 1)e^{-(x^2 + xy + y^2)}$\n",
    "\n",
    "$\\frac{\\partial^2 g}{\\partial^2 y} = (x^2 + 4xy + 4y^2 - 2)e^{-(x^2 + xy + y^2)}$"
   ]
  },
  {
   "cell_type": "code",
   "execution_count": 3,
   "metadata": {},
   "outputs": [],
   "source": [
    "def ggrad(x,y):\n",
    "    exp = -(x**2 + x*y + y**2)\n",
    "    dx = -(2*x+y)*np.exp(exp)\n",
    "    dy = -(x + 2*y)*np.exp(exp)\n",
    "    return np.array([dx, dy])\n",
    "\n",
    "def ghessian(x,y):\n",
    "    exp = -(x**2 + x*y + y**2)\n",
    "    ddxx = 2*(4*x**2 + 4*x*y + y**2 - 1)*np.exp(exp)\n",
    "    ddxy = (2*x**2 + 5*x*y + 2*y**2 + 1)*np.exp(exp)\n",
    "    ddyy = (x**2 + 4*x*y + 4*y**2 -2)*np.exp(exp)\n",
    "    \n",
    "    return np.array([[ddxx, ddxy], [ddxy, ddyy]])"
   ]
  },
  {
   "cell_type": "markdown",
   "metadata": {},
   "source": [
    "By looking at $g$ and its plot, one might guess that its maximum is found at $(0,0)$. Let's verify this by computing the gradient and Hessian at $(0,0)$, and taking the eigendecomposition of the Hessian."
   ]
  },
  {
   "cell_type": "code",
   "execution_count": 4,
   "metadata": {},
   "outputs": [
    {
     "name": "stdout",
     "output_type": "stream",
     "text": [
      "Gradient of g at (0,0): [0. 0.]\n",
      "Hessian of g at (0,0):\n",
      "[[-2.  1.]\n",
      " [ 1. -2.]]\n"
     ]
    }
   ],
   "source": [
    "grad0 = ggrad(0,0)\n",
    "hess0 = ghessian(0,0)\n",
    "print('Gradient of g at (0,0):', grad0)\n",
    "print('Hessian of g at (0,0):')\n",
    "print(hess0)"
   ]
  },
  {
   "cell_type": "markdown",
   "metadata": {},
   "source": [
    "Now, let's look at the eigendecomposition of the Hessian."
   ]
  },
  {
   "cell_type": "code",
   "execution_count": 5,
   "metadata": {},
   "outputs": [
    {
     "name": "stdout",
     "output_type": "stream",
     "text": [
      "Eigenvalues of Hessian: [-3. -1.]\n",
      "Eigenvectors of Hessian: [[ 0.70710678  0.70710678]\n",
      " [-0.70710678  0.70710678]]\n"
     ]
    }
   ],
   "source": [
    "evals, evecs = np.linalg.eigh(hess0)\n",
    "print('Eigenvalues of Hessian:', evals)\n",
    "print('Eigenvectors of Hessian:', evecs)"
   ]
  },
  {
   "cell_type": "markdown",
   "metadata": {},
   "source": [
    "Since both eigenvalues are negative, the Hessian is *negative definite*, and the critical point of $g$ at $(0,0)$ is a *maximum*. This is in agreement with what we expect from the plot.\n",
    "\n",
    "Let's additionally plot the eigenvectors on top of the contour plot."
   ]
  },
  {
   "cell_type": "code",
   "execution_count": 6,
   "metadata": {},
   "outputs": [
    {
     "data": {
      "text/plain": [
       "(-3.0, 2.9749999999999783, -3.0, 2.9749999999999783)"
      ]
     },
     "execution_count": 6,
     "metadata": {},
     "output_type": "execute_result"
    },
    {
     "data": {
      "image/png": "[encoded data removed]",
      "text/plain": [
       "<Figure size 432x288 with 2 Axes>"
      ]
     },
     "metadata": {
      "needs_background": "light"
     },
     "output_type": "display_data"
    }
   ],
   "source": [
    "# Plot the level set of the g\n",
    "plt.figure()                                    # creating a figure\n",
    "plt.contourf(X, Y, Z)                           # making a contour plot\n",
    "plt.colorbar()                                  # adding a color bar\n",
    "plt.xlabel('x')                                 # adding x- and y- axis labels\n",
    "plt.ylabel('y')\n",
    "plt.title('Contour plot of the function g')     # adding a figure title\n",
    "\n",
    "# Next, add the eigenvectors on top.\n",
    "\n",
    "plt.plot([0, evecs[0,0]], [0, evecs[0,1]], 'r')    # Plotting first eigenvector in red\n",
    "plt.plot([0, evecs[1,0]], [0, evecs[1,1]], 'r')    # Plotting second eigenvector in red\n",
    "plt.axis('equal')                                  # Stretching the axes to equal scale\n",
    "                                                   # Makes eigenvectors plot orthogonally"
   ]
  },
  {
   "cell_type": "markdown",
   "metadata": {},
   "source": [
    "From the plot you see that indeed, the new basis given by the eigenvector does capture the geometry of the maximum (in particular, in the new basis, the partial $\\frac{\\partial g}{\\partial x}$ at $(0,0)$ is independent of $y$, and vice versa)."
   ]
  },
  {
   "cell_type": "markdown",
   "metadata": {},
   "source": [
    "**Another example: A saddle point**\n",
    "\n",
    "Next, let's look at the function \n",
    "\n",
    "$h(x,y) = x^4 + y^4 - 4xy + 1$,\n",
    "\n",
    "also found in Example 3 on page 961 of Stewart.\n",
    "\n",
    "We start by plotting it, along with its critical points which can be found at (0,0), (1,1) and (-1, -1)."
   ]
  },
  {
   "cell_type": "code",
   "execution_count": 7,
   "metadata": {},
   "outputs": [
    {
     "data": {
      "text/plain": [
       "<matplotlib.legend.Legend at 0x7f55a7255da0>"
      ]
     },
     "execution_count": 7,
     "metadata": {},
     "output_type": "execute_result"
    },
    {
     "data": {
      "image/png": "[encoded data removed]",
      "text/plain": [
       "<Figure size 432x288 with 2 Axes>"
      ]
     },
     "metadata": {
      "needs_background": "light"
     },
     "output_type": "display_data"
    }
   ],
   "source": [
    "# Defining the function g(x,y) on the 2D plane\n",
    "def h(x,y):\n",
    "    return x**4  + y**4 - 4*x*y + 1\n",
    "\n",
    "# Next, use meshgrid to make a contour plot of the function in the domain [-2, 4] x [-4, 4]\n",
    "delta = 0.025                                   # width of bin in grid\n",
    "x = np.arange(-5.0, 5.0, delta)                 # x-coordinates of grid nodes\n",
    "y = np.arange(-5.0, 5.0, delta)                 # y-coordinates of grid nodes\n",
    "X, Y = np.meshgrid(x, y)                        # turning the coordinates into a \"meshgrid\" object\n",
    "Z = h(X, Y)                                  # evaluating the function on the grid\n",
    "\n",
    "# Plot the level set of the function (a topographic map) using a contour plot\n",
    "plt.figure()                                    # creating a figure\n",
    "plt.contourf(X, Y, Z)                           # making a contour plot\n",
    "plt.colorbar()                                  # adding a color bar\n",
    "plt.xlabel('x')                                 # adding x- and y- axis labels\n",
    "plt.ylabel('y')\n",
    "plt.title('Contour plot of the function h')  # adding a figure title\n",
    "plt.scatter([0, 1, -1], [0, 1, -1], color='red', label='Critical points')\n",
    "plt.legend()"
   ]
  },
  {
   "cell_type": "markdown",
   "metadata": {},
   "source": [
    "Next, note that the second partial derivatives are given by\n",
    "\n",
    "$\\frac{\\partial^2 h}{\\partial^2 x} = 12x^2$,\n",
    "\n",
    "$\\frac{\\partial^2 h}{\\partial x \\partial y} = -4$,\n",
    "\n",
    "$\\frac{\\partial^2 h}{\\partial^2 x} = 12y^2$.\n",
    "\n",
    "We use these to implement and evaluate the Hessian at the three critical points:"
   ]
  },
  {
   "cell_type": "code",
   "execution_count": 8,
   "metadata": {},
   "outputs": [
    {
     "name": "stdout",
     "output_type": "stream",
     "text": [
      "Eigenvalues at (0,0): [-4.  4.]\n",
      "Eigenvalues at (1,1): [ 8. 16.]\n",
      "Eigenvalues at (-1,-1): [ 8. 16.]\n"
     ]
    }
   ],
   "source": [
    "def hHessian(x,y):\n",
    "    ddxx = 12*x**2\n",
    "    ddxy = -4\n",
    "    ddyy = 12*y**2\n",
    "    \n",
    "    H = np.array([[ddxx, ddxy], [ddxy, ddyy]])\n",
    "    \n",
    "    return H\n",
    "\n",
    "H0 = hHessian(0,0)\n",
    "H1 = hHessian(1,1)\n",
    "H2 = hHessian(-1, -1)\n",
    "\n",
    "evals0, evecs0 = np.linalg.eigh(H0)\n",
    "evals1, evecs1 = np.linalg.eigh(H1)\n",
    "evals2, evecs2 = np.linalg.eigh(H2)\n",
    "\n",
    "print('Eigenvalues at (0,0):', evals0)\n",
    "print('Eigenvalues at (1,1):', evals1)\n",
    "print('Eigenvalues at (-1,-1):', evals2)"
   ]
  },
  {
   "cell_type": "markdown",
   "metadata": {},
   "source": [
    "Interpreting the above, we see that the function has local minima at $(1,1)$ and $(-1, -1)$, and a saddle point at $(0,0)$."
   ]
  },
  {
   "cell_type": "markdown",
   "metadata": {},
   "source": [
    "### Part 2: Gradient ascent"
   ]
  },
  {
   "cell_type": "markdown",
   "metadata": {},
   "source": [
    "Throughout the lecture, we will use a toy function to illustrate the behavior of gradient ascent, namely:\n",
    "\n",
    "$f(x,y) = 1.5 e^{-(x^2 + xy + y^2)} + 2e^{-\\left( (x-1.5)^2 + (y-1.5)^2\\right)}$"
   ]
  },
  {
   "cell_type": "code",
   "execution_count": 9,
   "metadata": {},
   "outputs": [],
   "source": [
    "# Defining the function f(x,y) on the 2D plane\n",
    "def f(x,y):\n",
    "    z1 = 1.5*np.exp(-(x**2 + x*y + y**2))\n",
    "    z2 = 2*np.exp(-((x - 1.5)**2 + (y - 1.5)**2))\n",
    "    z = (z1 + z2)\n",
    "    return z"
   ]
  },
  {
   "cell_type": "markdown",
   "metadata": {},
   "source": [
    "Before proceeding to optimization, let's make a contour plot of the function f:"
   ]
  },
  {
   "cell_type": "code",
   "execution_count": 10,
   "metadata": {},
   "outputs": [
    {
     "data": {
      "text/plain": [
       "Text(0.5,1,'Contour plot of the function f')"
      ]
     },
     "execution_count": 10,
     "metadata": {},
     "output_type": "execute_result"
    },
    {
     "data": {
      "image/png": "[encoded data removed]",
      "text/plain": [
       "<Figure size 432x288 with 2 Axes>"
      ]
     },
     "metadata": {
      "needs_background": "light"
     },
     "output_type": "display_data"
    }
   ],
   "source": [
    "# Next, use meshgrid to make a contour plot of the function in the domain [-2, 4] x [-4, 4]\n",
    "delta = 0.025                                   # width of bin in grid\n",
    "x = np.arange(-2.0, 4.0, delta)                 # x-coordinates of grid nodes\n",
    "y = np.arange(-4.0, 4.0, delta)                 # y-coordinates of grid nodes\n",
    "X, Y = np.meshgrid(x, y)                        # turning the coordinates into a \"meshgrid\" object\n",
    "Z = f(X, Y)                                  # evaluating the function on the grid\n",
    "\n",
    "# Plot the level set of the function (a topographic map) using a contour plot\n",
    "plt.figure()                                    # creating a figure\n",
    "plt.contourf(X, Y, Z)                           # making a contour plot\n",
    "plt.colorbar()                                  # adding a color bar\n",
    "plt.xlabel('x')                                 # adding x- and y- axis labels\n",
    "plt.ylabel('y')\n",
    "plt.title('Contour plot of the function f')  # adding a figure title"
   ]
  },
  {
   "cell_type": "markdown",
   "metadata": {},
   "source": [
    "Note that $f$ has two maxima; we will next try to find these using gradient ascent.\n"
   ]
  },
  {
   "cell_type": "markdown",
   "metadata": {},
   "source": [
    "### Moving to Gradient ascent\n",
    "\n",
    "In order to perform gradient ascent, we will need the gradient\n",
    "\n",
    "$\\nabla f = \\left( \\frac{\\partial f}{\\partial x}, \\frac{\\partial f}{\\partial y} \\right)$.\n",
    "\n",
    "With a bit of blood, sweat and tears, we compute the partial derivatives:\n",
    "\n",
    "$\\frac{\\partial f}{\\partial x} = -1.5(2x + y)e^{-(x^2 + xy+ y)^2} - 4(x-1.5)e^{-((x-1.5)^2 + (y-1.5)^2)}$\n",
    "\n",
    "$\\frac{\\partial f}{\\partial y} = -1.5(x + 2y)e^{-(x^2 + xy+ y)^2} - 4(y-1.5)e^{-((x-1.5)^2 + (y-1.5)^2)}$\n",
    "\n",
    "We use these to implement the gradient of f at a given point $(x,y)$:"
   ]
  },
  {
   "cell_type": "code",
   "execution_count": 11,
   "metadata": {},
   "outputs": [],
   "source": [
    "def fgrad(x,y):\n",
    "    exp1 = -(x**2 + x*y + y**2)\n",
    "    exp2 = -((x-1.5)**2 + (y-1.5)**2)\n",
    "    fx = -1.5*(2*x + y)*np.exp(exp1) - 4*(x-1.5)*np.exp(exp2)\n",
    "    fy = -1.5*(x + 2*y)*np.exp(exp1) - 4*(y-1.5)*np.exp(exp2)\n",
    "    return np.array([fx, fy])"
   ]
  },
  {
   "cell_type": "code",
   "execution_count": 12,
   "metadata": {},
   "outputs": [],
   "source": [
    "def gradasc(init_loc):\n",
    "    # Gradient ascent starting at the point specified by init_loc (a 2D vector)\n",
    "    cur_est = np.array(init_loc) \n",
    "    \n",
    "    # Set variables for determining convergence.\n",
    "    convergence = False      # variable keeping track of convergence\n",
    "    num_iter = 0             # number of iterations so far\n",
    "    max_iter = 10000         # maximum number of iterations\n",
    "    conv_thr = 0.001        # threshold for convergence \n",
    "    \n",
    "    # Set learning rate (step length parameter). You will want to play with this.\n",
    "    learningrate = 0.1\n",
    "    \n",
    "    # For the sake of plotting: points visited along trajectory\n",
    "    points_visited = []\n",
    "    \n",
    "    # Iterative loop\n",
    "    while not(convergence):\n",
    "        # keep track of points visited\n",
    "        points_visited.append(cur_est)\n",
    "        \n",
    "        # compute the gradient at the current location        \n",
    "        grad = fgrad(cur_est[0], cur_est[1])\n",
    "        \n",
    "        # define step (and its length)       \n",
    "        step = learningrate*grad\n",
    "        \n",
    "        # take a step in the stepping direction\n",
    "        cur_est = cur_est + step        \n",
    "\n",
    "        # check for convergence/stopping\n",
    "        if num_iter == max_iter:\n",
    "            print('reached max_iter')\n",
    "            convergence = True\n",
    "        elif np.linalg.norm(grad) < conv_thr:\n",
    "            convergence = True\n",
    "            print('converged')\n",
    "            \n",
    "        # update counter\n",
    "        num_iter+=1\n",
    "            \n",
    "    return cur_est, np.array(points_visited)"
   ]
  },
  {
   "cell_type": "markdown",
   "metadata": {},
   "source": [
    "Let's try it!"
   ]
  },
  {
   "cell_type": "code",
   "execution_count": 13,
   "metadata": {},
   "outputs": [
    {
     "name": "stdout",
     "output_type": "stream",
     "text": [
      "converged\n",
      "Found maximum: [0.01579111 0.01650368]\n"
     ]
    }
   ],
   "source": [
    "found_maximum, points_visited = gradasc([-1,2])\n",
    "print('Found maximum:', found_maximum)"
   ]
  },
  {
   "cell_type": "markdown",
   "metadata": {},
   "source": [
    "Now, let's plot the gradient ascent trajectory on top of the topographic function plot to see how gradient ascent behaves with different starting points"
   ]
  },
  {
   "cell_type": "code",
   "execution_count": 14,
   "metadata": {},
   "outputs": [
    {
     "name": "stdout",
     "output_type": "stream",
     "text": [
      "converged\n"
     ]
    },
    {
     "data": {
      "text/plain": [
       "[<matplotlib.lines.Line2D at 0x7f55a7191c18>]"
      ]
     },
     "execution_count": 14,
     "metadata": {},
     "output_type": "execute_result"
    },
    {
     "data": {
      "image/png": "[encoded data removed]",
      "text/plain": [
       "<Figure size 432x288 with 2 Axes>"
      ]
     },
     "metadata": {
      "needs_background": "light"
     },
     "output_type": "display_data"
    }
   ],
   "source": [
    "# Select an initial starting point.\n",
    "# Standard approach: Draw normally distributed initial values for x and y.\n",
    "#    np.random.normal(0,1,2) draws two numbers from the normal distribution with\n",
    "#    mean 0 and standard deviation 1\n",
    "init_loc = np.random.normal(0, 1, 2) \n",
    "#init_loc = [-1,2]\n",
    "found_maximum, points_visited = gradasc(init_loc)\n",
    "\n",
    "\n",
    "# Plot the level set of the function (a topographic map) using a contour plot\n",
    "plt.figure()                                    # creating a figure\n",
    "plt.contourf(X, Y, Z)                           # making a contour plot\n",
    "plt.colorbar()                                  # adding a color bar\n",
    "plt.xlabel('x')                                 # adding x- and y- axis labels\n",
    "plt.ylabel('y')\n",
    "plt.title('Contour plot of the function f')  # adding a figure title\n",
    "\n",
    "# Add trajectory\n",
    "plt.plot(points_visited[:,0], points_visited[:,1], 'r')"
   ]
  },
  {
   "cell_type": "code",
   "execution_count": null,
   "metadata": {},
   "outputs": [],
   "source": []
  }
 ],
 "metadata": {
  "kernelspec": {
   "display_name": "Python 3",
   "language": "python",
   "name": "python3"
  },
  "language_info": {
   "codemirror_mode": {
    "name": "ipython",
    "version": 3
   },
   "file_extension": ".py",
   "mimetype": "text/x-python",
   "name": "python",
   "nbconvert_exporter": "python",
   "pygments_lexer": "ipython3",
   "version": "3.7.0"
  }
 },
 "nbformat": 4,
 "nbformat_minor": 2
}
