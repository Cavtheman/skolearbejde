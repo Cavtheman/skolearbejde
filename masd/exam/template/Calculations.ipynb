{
 "cells": [
  {
   "cell_type": "markdown",
   "metadata": {},
   "source": [
    "# Exercise 4c"
   ]
  },
  {
   "cell_type": "code",
   "execution_count": 41,
   "metadata": {},
   "outputs": [
    {
     "name": "stdout",
     "output_type": "stream",
     "text": [
      "p(0,0)\n",
      "retVal = 0.1\n",
      "p(0,1)\n",
      "retVal = 0.0\n",
      "p(0,2)\n",
      "retVal = -1.2000000000000002\n",
      "p(1,0)\n",
      "retVal = -1.5000000000000002\n",
      "p(1,1)\n",
      "retVal = -1.4500000000000002\n",
      "p(1,2)\n",
      "retVal = -1.3000000000000003\n",
      "Expected value: -1.3000000000000003\n"
     ]
    },
    {
     "data": {
      "text/plain": [
       "-1.3000000000000003"
      ]
     },
     "execution_count": 41,
     "metadata": {},
     "output_type": "execute_result"
    }
   ],
   "source": [
    "import numpy as np\n",
    "% matplotlib inline\n",
    "import matplotlib.pyplot as plt\n",
    "\n",
    "xArr1 = [-1,1]\n",
    "yArr1 = [-1,1,3]\n",
    "pmfArr1 = [[0.1,0.1,0.4],[0.3,0.05,0.05]]\n",
    "\n",
    "xArr2 = [0,1]\n",
    "yArr2 = [1,2,3,4,5,6]\n",
    "pmfArr2 = [[0,0,0,0,0,0],[1/12,1/12,1/12,1/12,1/12,1/12]]\n",
    "def expecationXY(pmfArr, xArr, yArr):\n",
    "    retVal = 0\n",
    "    for i in range(len(xArr)):\n",
    "        for j in range(len(yArr)):\n",
    "            retVal += xArr[i]*yArr[j]*pmfArr[i][j]\n",
    "            print(\"p({},{})\".format(i,j))\n",
    "            print(\"retVal = {}\".format(retVal))\n",
    "    print(\"Expected value: {}\".format(retVal))\n",
    "    return retVal\n",
    "\n",
    "expecationXY(pmfArr1, xArr1, yArr1)\n",
    "#expecationXY(pmfArr2, xArr2, yArr2)"
   ]
  },
  {
   "cell_type": "code",
   "execution_count": null,
   "metadata": {},
   "outputs": [],
   "source": []
  }
 ],
 "metadata": {
  "kernelspec": {
   "display_name": "Python 3",
   "language": "python",
   "name": "python3"
  },
  "language_info": {
   "codemirror_mode": {
    "name": "ipython",
    "version": 3
   },
   "file_extension": ".py",
   "mimetype": "text/x-python",
   "name": "python",
   "nbconvert_exporter": "python",
   "pygments_lexer": "ipython3",
   "version": "3.7.1"
  }
 },
 "nbformat": 4,
 "nbformat_minor": 2
}
